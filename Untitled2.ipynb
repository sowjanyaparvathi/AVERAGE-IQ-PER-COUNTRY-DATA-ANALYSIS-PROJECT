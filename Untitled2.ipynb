{
 "cells": [
  {
   "cell_type": "code",
   "execution_count": 3,
   "id": "c780b38e-2490-472b-8db8-60b56ae291dd",
   "metadata": {},
   "outputs": [],
   "source": [
    "import pandas as pd\n",
    "import numpy as np\n",
    "import matplotlib.pyplot as plt\n",
    "import seaborn as sns"
   ]
  },
  {
   "cell_type": "code",
   "execution_count": null,
   "id": "dee0a570-9dc5-4594-9e20-0f2ace24d7dd",
   "metadata": {},
   "outputs": [],
   "source": []
  },
  {
   "cell_type": "code",
   "execution_count": 4,
   "id": "567b0557-b34b-499d-bc19-6679a1c32c39",
   "metadata": {},
   "outputs": [
    {
     "data": {
      "text/html": [
       "<div>\n",
       "<style scoped>\n",
       "    .dataframe tbody tr th:only-of-type {\n",
       "        vertical-align: middle;\n",
       "    }\n",
       "\n",
       "    .dataframe tbody tr th {\n",
       "        vertical-align: top;\n",
       "    }\n",
       "\n",
       "    .dataframe thead th {\n",
       "        text-align: right;\n",
       "    }\n",
       "</style>\n",
       "<table border=\"1\" class=\"dataframe\">\n",
       "  <thead>\n",
       "    <tr style=\"text-align: right;\">\n",
       "      <th></th>\n",
       "      <th>Rank</th>\n",
       "      <th>Country</th>\n",
       "      <th>Average IQ</th>\n",
       "      <th>Continent</th>\n",
       "      <th>Literacy Rate</th>\n",
       "      <th>Nobel Prices</th>\n",
       "      <th>HDI (2021)</th>\n",
       "      <th>Mean years of schooling - 2021</th>\n",
       "      <th>GNI - 2021</th>\n",
       "      <th>Population - 2023</th>\n",
       "    </tr>\n",
       "  </thead>\n",
       "  <tbody>\n",
       "    <tr>\n",
       "      <th>0</th>\n",
       "      <td>1</td>\n",
       "      <td>Japan</td>\n",
       "      <td>106.48</td>\n",
       "      <td>Asia</td>\n",
       "      <td>0.99</td>\n",
       "      <td>29</td>\n",
       "      <td>0.925</td>\n",
       "      <td>13.4</td>\n",
       "      <td>42274.0</td>\n",
       "      <td>123294513</td>\n",
       "    </tr>\n",
       "    <tr>\n",
       "      <th>1</th>\n",
       "      <td>2</td>\n",
       "      <td>Taiwan</td>\n",
       "      <td>106.47</td>\n",
       "      <td>Asia</td>\n",
       "      <td>0.96</td>\n",
       "      <td>4</td>\n",
       "      <td>NaN</td>\n",
       "      <td>NaN</td>\n",
       "      <td>NaN</td>\n",
       "      <td>10143543</td>\n",
       "    </tr>\n",
       "    <tr>\n",
       "      <th>2</th>\n",
       "      <td>3</td>\n",
       "      <td>Singapore</td>\n",
       "      <td>105.89</td>\n",
       "      <td>Asia</td>\n",
       "      <td>0.97</td>\n",
       "      <td>0</td>\n",
       "      <td>0.939</td>\n",
       "      <td>11.9</td>\n",
       "      <td>90919.0</td>\n",
       "      <td>6014723</td>\n",
       "    </tr>\n",
       "    <tr>\n",
       "      <th>3</th>\n",
       "      <td>4</td>\n",
       "      <td>Hong Kong</td>\n",
       "      <td>105.37</td>\n",
       "      <td>Asia</td>\n",
       "      <td>0.94</td>\n",
       "      <td>1</td>\n",
       "      <td>0.952</td>\n",
       "      <td>12.2</td>\n",
       "      <td>62607.0</td>\n",
       "      <td>7491609</td>\n",
       "    </tr>\n",
       "    <tr>\n",
       "      <th>4</th>\n",
       "      <td>5</td>\n",
       "      <td>China</td>\n",
       "      <td>104.10</td>\n",
       "      <td>Asia</td>\n",
       "      <td>0.96</td>\n",
       "      <td>8</td>\n",
       "      <td>0.768</td>\n",
       "      <td>7.6</td>\n",
       "      <td>17504.0</td>\n",
       "      <td>1425671352</td>\n",
       "    </tr>\n",
       "    <tr>\n",
       "      <th>...</th>\n",
       "      <td>...</td>\n",
       "      <td>...</td>\n",
       "      <td>...</td>\n",
       "      <td>...</td>\n",
       "      <td>...</td>\n",
       "      <td>...</td>\n",
       "      <td>...</td>\n",
       "      <td>...</td>\n",
       "      <td>...</td>\n",
       "      <td>...</td>\n",
       "    </tr>\n",
       "    <tr>\n",
       "      <th>188</th>\n",
       "      <td>189</td>\n",
       "      <td>Gambia</td>\n",
       "      <td>52.68</td>\n",
       "      <td>Africa</td>\n",
       "      <td>0.58</td>\n",
       "      <td>0</td>\n",
       "      <td>0.500</td>\n",
       "      <td>4.6</td>\n",
       "      <td>2172.0</td>\n",
       "      <td>2773168</td>\n",
       "    </tr>\n",
       "    <tr>\n",
       "      <th>189</th>\n",
       "      <td>190</td>\n",
       "      <td>Guatemala</td>\n",
       "      <td>47.72</td>\n",
       "      <td>Central America</td>\n",
       "      <td>0.79</td>\n",
       "      <td>2</td>\n",
       "      <td>0.627</td>\n",
       "      <td>5.7</td>\n",
       "      <td>8723.0</td>\n",
       "      <td>18092026</td>\n",
       "    </tr>\n",
       "    <tr>\n",
       "      <th>190</th>\n",
       "      <td>191</td>\n",
       "      <td>Liberia</td>\n",
       "      <td>45.07</td>\n",
       "      <td>Africa</td>\n",
       "      <td>0.48</td>\n",
       "      <td>2</td>\n",
       "      <td>0.481</td>\n",
       "      <td>5.1</td>\n",
       "      <td>1289.0</td>\n",
       "      <td>5418377</td>\n",
       "    </tr>\n",
       "    <tr>\n",
       "      <th>191</th>\n",
       "      <td>192</td>\n",
       "      <td>Sierra Leone</td>\n",
       "      <td>45.07</td>\n",
       "      <td>Africa</td>\n",
       "      <td>0.48</td>\n",
       "      <td>0</td>\n",
       "      <td>0.477</td>\n",
       "      <td>4.6</td>\n",
       "      <td>1622.0</td>\n",
       "      <td>8791092</td>\n",
       "    </tr>\n",
       "    <tr>\n",
       "      <th>192</th>\n",
       "      <td>193</td>\n",
       "      <td>Nepal</td>\n",
       "      <td>42.99</td>\n",
       "      <td>Asia</td>\n",
       "      <td>0.65</td>\n",
       "      <td>0</td>\n",
       "      <td>0.602</td>\n",
       "      <td>5.1</td>\n",
       "      <td>3877.0</td>\n",
       "      <td>30896590</td>\n",
       "    </tr>\n",
       "  </tbody>\n",
       "</table>\n",
       "<p>193 rows × 10 columns</p>\n",
       "</div>"
      ],
      "text/plain": [
       "     Rank       Country  Average IQ        Continent  Literacy Rate  \\\n",
       "0       1         Japan      106.48             Asia           0.99   \n",
       "1       2        Taiwan      106.47             Asia           0.96   \n",
       "2       3     Singapore      105.89             Asia           0.97   \n",
       "3       4     Hong Kong      105.37             Asia           0.94   \n",
       "4       5         China      104.10             Asia           0.96   \n",
       "..    ...           ...         ...              ...            ...   \n",
       "188   189        Gambia       52.68           Africa           0.58   \n",
       "189   190     Guatemala       47.72  Central America           0.79   \n",
       "190   191       Liberia       45.07           Africa           0.48   \n",
       "191   192  Sierra Leone       45.07           Africa           0.48   \n",
       "192   193         Nepal       42.99             Asia           0.65   \n",
       "\n",
       "     Nobel Prices  HDI (2021)  Mean years of schooling - 2021   GNI - 2021  \\\n",
       "0              29       0.925                            13.4      42274.0   \n",
       "1               4         NaN                             NaN          NaN   \n",
       "2               0       0.939                            11.9      90919.0   \n",
       "3               1       0.952                            12.2      62607.0   \n",
       "4               8       0.768                             7.6      17504.0   \n",
       "..            ...         ...                             ...          ...   \n",
       "188             0       0.500                             4.6       2172.0   \n",
       "189             2       0.627                             5.7       8723.0   \n",
       "190             2       0.481                             5.1       1289.0   \n",
       "191             0       0.477                             4.6       1622.0   \n",
       "192             0       0.602                             5.1       3877.0   \n",
       "\n",
       "    Population - 2023  \n",
       "0           123294513  \n",
       "1            10143543  \n",
       "2             6014723  \n",
       "3             7491609  \n",
       "4          1425671352  \n",
       "..                ...  \n",
       "188           2773168  \n",
       "189          18092026  \n",
       "190           5418377  \n",
       "191           8791092  \n",
       "192          30896590  \n",
       "\n",
       "[193 rows x 10 columns]"
      ]
     },
     "execution_count": 4,
     "metadata": {},
     "output_type": "execute_result"
    }
   ],
   "source": [
    "df = pd.read_csv(\"avgIQpercountry.csv\")\n",
    "df"
   ]
  },
  {
   "cell_type": "code",
   "execution_count": 5,
   "id": "13ad1eca-9b69-4153-af8a-05d0575ff021",
   "metadata": {},
   "outputs": [
    {
     "data": {
      "text/plain": [
       "Index(['Rank', 'Country', 'Average IQ', 'Continent', 'Literacy Rate',\n",
       "       'Nobel Prices', 'HDI (2021)', 'Mean years of schooling - 2021',\n",
       "       ' GNI - 2021', 'Population - 2023'],\n",
       "      dtype='object')"
      ]
     },
     "execution_count": 5,
     "metadata": {},
     "output_type": "execute_result"
    }
   ],
   "source": [
    "df.columns"
   ]
  },
  {
   "cell_type": "markdown",
   "id": "772043c2-5380-43d1-9eca-1490abd533cc",
   "metadata": {},
   "source": [
    "# EDA-1: UNDERSTANDING THE DATA"
   ]
  },
  {
   "cell_type": "code",
   "execution_count": 7,
   "id": "1ed7a195-4733-46ba-bbbd-8df69eb706be",
   "metadata": {},
   "outputs": [
    {
     "data": {
      "text/html": [
       "<div>\n",
       "<style scoped>\n",
       "    .dataframe tbody tr th:only-of-type {\n",
       "        vertical-align: middle;\n",
       "    }\n",
       "\n",
       "    .dataframe tbody tr th {\n",
       "        vertical-align: top;\n",
       "    }\n",
       "\n",
       "    .dataframe thead th {\n",
       "        text-align: right;\n",
       "    }\n",
       "</style>\n",
       "<table border=\"1\" class=\"dataframe\">\n",
       "  <thead>\n",
       "    <tr style=\"text-align: right;\">\n",
       "      <th></th>\n",
       "      <th>Rank</th>\n",
       "      <th>Country</th>\n",
       "      <th>Average IQ</th>\n",
       "      <th>Continent</th>\n",
       "      <th>Literacy Rate</th>\n",
       "      <th>Nobel Prices</th>\n",
       "      <th>HDI (2021)</th>\n",
       "      <th>Mean years of schooling - 2021</th>\n",
       "      <th>GNI - 2021</th>\n",
       "      <th>Population - 2023</th>\n",
       "    </tr>\n",
       "  </thead>\n",
       "  <tbody>\n",
       "    <tr>\n",
       "      <th>0</th>\n",
       "      <td>1</td>\n",
       "      <td>Japan</td>\n",
       "      <td>106.48</td>\n",
       "      <td>Asia</td>\n",
       "      <td>0.99</td>\n",
       "      <td>29</td>\n",
       "      <td>0.925</td>\n",
       "      <td>13.4</td>\n",
       "      <td>42274.0</td>\n",
       "      <td>123294513</td>\n",
       "    </tr>\n",
       "    <tr>\n",
       "      <th>1</th>\n",
       "      <td>2</td>\n",
       "      <td>Taiwan</td>\n",
       "      <td>106.47</td>\n",
       "      <td>Asia</td>\n",
       "      <td>0.96</td>\n",
       "      <td>4</td>\n",
       "      <td>NaN</td>\n",
       "      <td>NaN</td>\n",
       "      <td>NaN</td>\n",
       "      <td>10143543</td>\n",
       "    </tr>\n",
       "    <tr>\n",
       "      <th>2</th>\n",
       "      <td>3</td>\n",
       "      <td>Singapore</td>\n",
       "      <td>105.89</td>\n",
       "      <td>Asia</td>\n",
       "      <td>0.97</td>\n",
       "      <td>0</td>\n",
       "      <td>0.939</td>\n",
       "      <td>11.9</td>\n",
       "      <td>90919.0</td>\n",
       "      <td>6014723</td>\n",
       "    </tr>\n",
       "    <tr>\n",
       "      <th>3</th>\n",
       "      <td>4</td>\n",
       "      <td>Hong Kong</td>\n",
       "      <td>105.37</td>\n",
       "      <td>Asia</td>\n",
       "      <td>0.94</td>\n",
       "      <td>1</td>\n",
       "      <td>0.952</td>\n",
       "      <td>12.2</td>\n",
       "      <td>62607.0</td>\n",
       "      <td>7491609</td>\n",
       "    </tr>\n",
       "    <tr>\n",
       "      <th>4</th>\n",
       "      <td>5</td>\n",
       "      <td>China</td>\n",
       "      <td>104.10</td>\n",
       "      <td>Asia</td>\n",
       "      <td>0.96</td>\n",
       "      <td>8</td>\n",
       "      <td>0.768</td>\n",
       "      <td>7.6</td>\n",
       "      <td>17504.0</td>\n",
       "      <td>1425671352</td>\n",
       "    </tr>\n",
       "  </tbody>\n",
       "</table>\n",
       "</div>"
      ],
      "text/plain": [
       "   Rank    Country  Average IQ Continent  Literacy Rate  Nobel Prices  \\\n",
       "0     1      Japan      106.48      Asia           0.99            29   \n",
       "1     2     Taiwan      106.47      Asia           0.96             4   \n",
       "2     3  Singapore      105.89      Asia           0.97             0   \n",
       "3     4  Hong Kong      105.37      Asia           0.94             1   \n",
       "4     5      China      104.10      Asia           0.96             8   \n",
       "\n",
       "   HDI (2021)  Mean years of schooling - 2021   GNI - 2021 Population - 2023  \n",
       "0       0.925                            13.4      42274.0         123294513  \n",
       "1         NaN                             NaN          NaN          10143543  \n",
       "2       0.939                            11.9      90919.0           6014723  \n",
       "3       0.952                            12.2      62607.0           7491609  \n",
       "4       0.768                             7.6      17504.0        1425671352  "
      ]
     },
     "execution_count": 7,
     "metadata": {},
     "output_type": "execute_result"
    }
   ],
   "source": [
    "df.head()"
   ]
  },
  {
   "cell_type": "code",
   "execution_count": 8,
   "id": "6045c576-8f68-45b4-8866-4f6c140923fb",
   "metadata": {},
   "outputs": [
    {
     "data": {
      "text/html": [
       "<div>\n",
       "<style scoped>\n",
       "    .dataframe tbody tr th:only-of-type {\n",
       "        vertical-align: middle;\n",
       "    }\n",
       "\n",
       "    .dataframe tbody tr th {\n",
       "        vertical-align: top;\n",
       "    }\n",
       "\n",
       "    .dataframe thead th {\n",
       "        text-align: right;\n",
       "    }\n",
       "</style>\n",
       "<table border=\"1\" class=\"dataframe\">\n",
       "  <thead>\n",
       "    <tr style=\"text-align: right;\">\n",
       "      <th></th>\n",
       "      <th>Rank</th>\n",
       "      <th>Country</th>\n",
       "      <th>Average IQ</th>\n",
       "      <th>Continent</th>\n",
       "      <th>Literacy Rate</th>\n",
       "      <th>Nobel Prices</th>\n",
       "      <th>HDI (2021)</th>\n",
       "      <th>Mean years of schooling - 2021</th>\n",
       "      <th>GNI - 2021</th>\n",
       "      <th>Population - 2023</th>\n",
       "    </tr>\n",
       "  </thead>\n",
       "  <tbody>\n",
       "    <tr>\n",
       "      <th>188</th>\n",
       "      <td>189</td>\n",
       "      <td>Gambia</td>\n",
       "      <td>52.68</td>\n",
       "      <td>Africa</td>\n",
       "      <td>0.58</td>\n",
       "      <td>0</td>\n",
       "      <td>0.500</td>\n",
       "      <td>4.6</td>\n",
       "      <td>2172.0</td>\n",
       "      <td>2773168</td>\n",
       "    </tr>\n",
       "    <tr>\n",
       "      <th>189</th>\n",
       "      <td>190</td>\n",
       "      <td>Guatemala</td>\n",
       "      <td>47.72</td>\n",
       "      <td>Central America</td>\n",
       "      <td>0.79</td>\n",
       "      <td>2</td>\n",
       "      <td>0.627</td>\n",
       "      <td>5.7</td>\n",
       "      <td>8723.0</td>\n",
       "      <td>18092026</td>\n",
       "    </tr>\n",
       "    <tr>\n",
       "      <th>190</th>\n",
       "      <td>191</td>\n",
       "      <td>Liberia</td>\n",
       "      <td>45.07</td>\n",
       "      <td>Africa</td>\n",
       "      <td>0.48</td>\n",
       "      <td>2</td>\n",
       "      <td>0.481</td>\n",
       "      <td>5.1</td>\n",
       "      <td>1289.0</td>\n",
       "      <td>5418377</td>\n",
       "    </tr>\n",
       "    <tr>\n",
       "      <th>191</th>\n",
       "      <td>192</td>\n",
       "      <td>Sierra Leone</td>\n",
       "      <td>45.07</td>\n",
       "      <td>Africa</td>\n",
       "      <td>0.48</td>\n",
       "      <td>0</td>\n",
       "      <td>0.477</td>\n",
       "      <td>4.6</td>\n",
       "      <td>1622.0</td>\n",
       "      <td>8791092</td>\n",
       "    </tr>\n",
       "    <tr>\n",
       "      <th>192</th>\n",
       "      <td>193</td>\n",
       "      <td>Nepal</td>\n",
       "      <td>42.99</td>\n",
       "      <td>Asia</td>\n",
       "      <td>0.65</td>\n",
       "      <td>0</td>\n",
       "      <td>0.602</td>\n",
       "      <td>5.1</td>\n",
       "      <td>3877.0</td>\n",
       "      <td>30896590</td>\n",
       "    </tr>\n",
       "  </tbody>\n",
       "</table>\n",
       "</div>"
      ],
      "text/plain": [
       "     Rank       Country  Average IQ        Continent  Literacy Rate  \\\n",
       "188   189        Gambia       52.68           Africa           0.58   \n",
       "189   190     Guatemala       47.72  Central America           0.79   \n",
       "190   191       Liberia       45.07           Africa           0.48   \n",
       "191   192  Sierra Leone       45.07           Africa           0.48   \n",
       "192   193         Nepal       42.99             Asia           0.65   \n",
       "\n",
       "     Nobel Prices  HDI (2021)  Mean years of schooling - 2021   GNI - 2021  \\\n",
       "188             0       0.500                             4.6       2172.0   \n",
       "189             2       0.627                             5.7       8723.0   \n",
       "190             2       0.481                             5.1       1289.0   \n",
       "191             0       0.477                             4.6       1622.0   \n",
       "192             0       0.602                             5.1       3877.0   \n",
       "\n",
       "    Population - 2023  \n",
       "188           2773168  \n",
       "189          18092026  \n",
       "190           5418377  \n",
       "191           8791092  \n",
       "192          30896590  "
      ]
     },
     "execution_count": 8,
     "metadata": {},
     "output_type": "execute_result"
    }
   ],
   "source": [
    "df.tail()"
   ]
  },
  {
   "cell_type": "code",
   "execution_count": 9,
   "id": "33dd6ce4-56ee-42f6-9cbc-07455396f4ac",
   "metadata": {},
   "outputs": [
    {
     "data": {
      "text/html": [
       "<div>\n",
       "<style scoped>\n",
       "    .dataframe tbody tr th:only-of-type {\n",
       "        vertical-align: middle;\n",
       "    }\n",
       "\n",
       "    .dataframe tbody tr th {\n",
       "        vertical-align: top;\n",
       "    }\n",
       "\n",
       "    .dataframe thead th {\n",
       "        text-align: right;\n",
       "    }\n",
       "</style>\n",
       "<table border=\"1\" class=\"dataframe\">\n",
       "  <thead>\n",
       "    <tr style=\"text-align: right;\">\n",
       "      <th></th>\n",
       "      <th>Rank</th>\n",
       "      <th>Country</th>\n",
       "      <th>Average IQ</th>\n",
       "      <th>Continent</th>\n",
       "      <th>Literacy Rate</th>\n",
       "      <th>Nobel Prices</th>\n",
       "      <th>HDI (2021)</th>\n",
       "      <th>Mean years of schooling - 2021</th>\n",
       "      <th>GNI - 2021</th>\n",
       "      <th>Population - 2023</th>\n",
       "    </tr>\n",
       "  </thead>\n",
       "  <tbody>\n",
       "    <tr>\n",
       "      <th>88</th>\n",
       "      <td>89</td>\n",
       "      <td>Marshall Islands</td>\n",
       "      <td>83.96</td>\n",
       "      <td>Oceania</td>\n",
       "      <td>0.98</td>\n",
       "      <td>0</td>\n",
       "      <td>0.639</td>\n",
       "      <td>10.9</td>\n",
       "      <td>4620.0</td>\n",
       "      <td>41.996</td>\n",
       "    </tr>\n",
       "    <tr>\n",
       "      <th>162</th>\n",
       "      <td>163</td>\n",
       "      <td>Zambia</td>\n",
       "      <td>68.43</td>\n",
       "      <td>Africa</td>\n",
       "      <td>0.85</td>\n",
       "      <td>0</td>\n",
       "      <td>0.565</td>\n",
       "      <td>7.2</td>\n",
       "      <td>3218.0</td>\n",
       "      <td>20569738</td>\n",
       "    </tr>\n",
       "    <tr>\n",
       "      <th>137</th>\n",
       "      <td>138</td>\n",
       "      <td>India</td>\n",
       "      <td>76.24</td>\n",
       "      <td>Asia</td>\n",
       "      <td>0.72</td>\n",
       "      <td>12</td>\n",
       "      <td>0.633</td>\n",
       "      <td>6.7</td>\n",
       "      <td>6590.0</td>\n",
       "      <td>1428627663</td>\n",
       "    </tr>\n",
       "    <tr>\n",
       "      <th>91</th>\n",
       "      <td>92</td>\n",
       "      <td>Bahrain</td>\n",
       "      <td>83.60</td>\n",
       "      <td>Asia</td>\n",
       "      <td>0.96</td>\n",
       "      <td>0</td>\n",
       "      <td>0.875</td>\n",
       "      <td>11.0</td>\n",
       "      <td>39497.0</td>\n",
       "      <td>1485510</td>\n",
       "    </tr>\n",
       "    <tr>\n",
       "      <th>166</th>\n",
       "      <td>167</td>\n",
       "      <td>Nigeria</td>\n",
       "      <td>67.76</td>\n",
       "      <td>Africa</td>\n",
       "      <td>0.60</td>\n",
       "      <td>1</td>\n",
       "      <td>0.535</td>\n",
       "      <td>7.2</td>\n",
       "      <td>4790.0</td>\n",
       "      <td>223804632</td>\n",
       "    </tr>\n",
       "    <tr>\n",
       "      <th>183</th>\n",
       "      <td>184</td>\n",
       "      <td>South Sudan</td>\n",
       "      <td>58.61</td>\n",
       "      <td>Africa</td>\n",
       "      <td>0.32</td>\n",
       "      <td>0</td>\n",
       "      <td>0.385</td>\n",
       "      <td>5.7</td>\n",
       "      <td>768.0</td>\n",
       "      <td>11088796</td>\n",
       "    </tr>\n",
       "    <tr>\n",
       "      <th>76</th>\n",
       "      <td>77</td>\n",
       "      <td>Argentina</td>\n",
       "      <td>86.63</td>\n",
       "      <td>South America</td>\n",
       "      <td>0.98</td>\n",
       "      <td>5</td>\n",
       "      <td>0.842</td>\n",
       "      <td>11.1</td>\n",
       "      <td>20925.0</td>\n",
       "      <td>45773884</td>\n",
       "    </tr>\n",
       "    <tr>\n",
       "      <th>158</th>\n",
       "      <td>159</td>\n",
       "      <td>South Africa</td>\n",
       "      <td>68.87</td>\n",
       "      <td>Africa</td>\n",
       "      <td>0.95</td>\n",
       "      <td>11</td>\n",
       "      <td>0.713</td>\n",
       "      <td>11.4</td>\n",
       "      <td>12948.0</td>\n",
       "      <td>60414495</td>\n",
       "    </tr>\n",
       "    <tr>\n",
       "      <th>60</th>\n",
       "      <td>61</td>\n",
       "      <td>Uzbekistan</td>\n",
       "      <td>89.01</td>\n",
       "      <td>Asia</td>\n",
       "      <td>1.00</td>\n",
       "      <td>0</td>\n",
       "      <td>0.727</td>\n",
       "      <td>11.9</td>\n",
       "      <td>7917.0</td>\n",
       "      <td>35163944</td>\n",
       "    </tr>\n",
       "    <tr>\n",
       "      <th>41</th>\n",
       "      <td>42</td>\n",
       "      <td>New Caledonia</td>\n",
       "      <td>93.92</td>\n",
       "      <td>Oceania</td>\n",
       "      <td>0.97</td>\n",
       "      <td>0</td>\n",
       "      <td>NaN</td>\n",
       "      <td>NaN</td>\n",
       "      <td>NaN</td>\n",
       "      <td>292.991</td>\n",
       "    </tr>\n",
       "  </tbody>\n",
       "</table>\n",
       "</div>"
      ],
      "text/plain": [
       "     Rank           Country  Average IQ      Continent  Literacy Rate  \\\n",
       "88     89  Marshall Islands       83.96        Oceania           0.98   \n",
       "162   163            Zambia       68.43         Africa           0.85   \n",
       "137   138             India       76.24           Asia           0.72   \n",
       "91     92           Bahrain       83.60           Asia           0.96   \n",
       "166   167           Nigeria       67.76         Africa           0.60   \n",
       "183   184       South Sudan       58.61         Africa           0.32   \n",
       "76     77         Argentina       86.63  South America           0.98   \n",
       "158   159      South Africa       68.87         Africa           0.95   \n",
       "60     61        Uzbekistan       89.01           Asia           1.00   \n",
       "41     42     New Caledonia       93.92        Oceania           0.97   \n",
       "\n",
       "     Nobel Prices  HDI (2021)  Mean years of schooling - 2021   GNI - 2021  \\\n",
       "88              0       0.639                            10.9       4620.0   \n",
       "162             0       0.565                             7.2       3218.0   \n",
       "137            12       0.633                             6.7       6590.0   \n",
       "91              0       0.875                            11.0      39497.0   \n",
       "166             1       0.535                             7.2       4790.0   \n",
       "183             0       0.385                             5.7        768.0   \n",
       "76              5       0.842                            11.1      20925.0   \n",
       "158            11       0.713                            11.4      12948.0   \n",
       "60              0       0.727                            11.9       7917.0   \n",
       "41              0         NaN                             NaN          NaN   \n",
       "\n",
       "    Population - 2023  \n",
       "88             41.996  \n",
       "162          20569738  \n",
       "137        1428627663  \n",
       "91            1485510  \n",
       "166         223804632  \n",
       "183          11088796  \n",
       "76           45773884  \n",
       "158          60414495  \n",
       "60           35163944  \n",
       "41            292.991  "
      ]
     },
     "execution_count": 9,
     "metadata": {},
     "output_type": "execute_result"
    }
   ],
   "source": [
    "df.sample(10)"
   ]
  },
  {
   "cell_type": "code",
   "execution_count": 10,
   "id": "79478013-9f07-4fa1-96f4-9c6926a8e8c2",
   "metadata": {},
   "outputs": [
    {
     "data": {
      "text/plain": [
       "Index(['Country', 'Continent', 'Population - 2023'], dtype='object')"
      ]
     },
     "execution_count": 10,
     "metadata": {},
     "output_type": "execute_result"
    }
   ],
   "source": [
    "df.select_dtypes(include = \"object\").columns"
   ]
  },
  {
   "cell_type": "code",
   "execution_count": 11,
   "id": "ceaf8938-6927-45c7-98a9-93d90a6a5226",
   "metadata": {},
   "outputs": [
    {
     "data": {
      "text/plain": [
       "Index(['Rank', 'Nobel Prices'], dtype='object')"
      ]
     },
     "execution_count": 11,
     "metadata": {},
     "output_type": "execute_result"
    }
   ],
   "source": [
    "df.select_dtypes(include = \"int64\").columns"
   ]
  },
  {
   "cell_type": "code",
   "execution_count": 12,
   "id": "63a16c92-439f-4be8-b757-46c0c6081b6c",
   "metadata": {},
   "outputs": [
    {
     "data": {
      "text/html": [
       "<div>\n",
       "<style scoped>\n",
       "    .dataframe tbody tr th:only-of-type {\n",
       "        vertical-align: middle;\n",
       "    }\n",
       "\n",
       "    .dataframe tbody tr th {\n",
       "        vertical-align: top;\n",
       "    }\n",
       "\n",
       "    .dataframe thead th {\n",
       "        text-align: right;\n",
       "    }\n",
       "</style>\n",
       "<table border=\"1\" class=\"dataframe\">\n",
       "  <thead>\n",
       "    <tr style=\"text-align: right;\">\n",
       "      <th></th>\n",
       "      <th>Rank</th>\n",
       "      <th>Average IQ</th>\n",
       "      <th>Literacy Rate</th>\n",
       "      <th>Nobel Prices</th>\n",
       "      <th>HDI (2021)</th>\n",
       "      <th>Mean years of schooling - 2021</th>\n",
       "      <th>GNI - 2021</th>\n",
       "    </tr>\n",
       "  </thead>\n",
       "  <tbody>\n",
       "    <tr>\n",
       "      <th>0</th>\n",
       "      <td>1</td>\n",
       "      <td>106</td>\n",
       "      <td>0</td>\n",
       "      <td>29</td>\n",
       "      <td>0</td>\n",
       "      <td>13</td>\n",
       "      <td>42274</td>\n",
       "    </tr>\n",
       "    <tr>\n",
       "      <th>1</th>\n",
       "      <td>2</td>\n",
       "      <td>106</td>\n",
       "      <td>0</td>\n",
       "      <td>4</td>\n",
       "      <td>0</td>\n",
       "      <td>0</td>\n",
       "      <td>0</td>\n",
       "    </tr>\n",
       "    <tr>\n",
       "      <th>2</th>\n",
       "      <td>3</td>\n",
       "      <td>105</td>\n",
       "      <td>0</td>\n",
       "      <td>0</td>\n",
       "      <td>0</td>\n",
       "      <td>11</td>\n",
       "      <td>90919</td>\n",
       "    </tr>\n",
       "    <tr>\n",
       "      <th>3</th>\n",
       "      <td>4</td>\n",
       "      <td>105</td>\n",
       "      <td>0</td>\n",
       "      <td>1</td>\n",
       "      <td>0</td>\n",
       "      <td>12</td>\n",
       "      <td>62607</td>\n",
       "    </tr>\n",
       "    <tr>\n",
       "      <th>4</th>\n",
       "      <td>5</td>\n",
       "      <td>104</td>\n",
       "      <td>0</td>\n",
       "      <td>8</td>\n",
       "      <td>0</td>\n",
       "      <td>7</td>\n",
       "      <td>17504</td>\n",
       "    </tr>\n",
       "    <tr>\n",
       "      <th>...</th>\n",
       "      <td>...</td>\n",
       "      <td>...</td>\n",
       "      <td>...</td>\n",
       "      <td>...</td>\n",
       "      <td>...</td>\n",
       "      <td>...</td>\n",
       "      <td>...</td>\n",
       "    </tr>\n",
       "    <tr>\n",
       "      <th>188</th>\n",
       "      <td>189</td>\n",
       "      <td>52</td>\n",
       "      <td>0</td>\n",
       "      <td>0</td>\n",
       "      <td>0</td>\n",
       "      <td>4</td>\n",
       "      <td>2172</td>\n",
       "    </tr>\n",
       "    <tr>\n",
       "      <th>189</th>\n",
       "      <td>190</td>\n",
       "      <td>47</td>\n",
       "      <td>0</td>\n",
       "      <td>2</td>\n",
       "      <td>0</td>\n",
       "      <td>5</td>\n",
       "      <td>8723</td>\n",
       "    </tr>\n",
       "    <tr>\n",
       "      <th>190</th>\n",
       "      <td>191</td>\n",
       "      <td>45</td>\n",
       "      <td>0</td>\n",
       "      <td>2</td>\n",
       "      <td>0</td>\n",
       "      <td>5</td>\n",
       "      <td>1289</td>\n",
       "    </tr>\n",
       "    <tr>\n",
       "      <th>191</th>\n",
       "      <td>192</td>\n",
       "      <td>45</td>\n",
       "      <td>0</td>\n",
       "      <td>0</td>\n",
       "      <td>0</td>\n",
       "      <td>4</td>\n",
       "      <td>1622</td>\n",
       "    </tr>\n",
       "    <tr>\n",
       "      <th>192</th>\n",
       "      <td>193</td>\n",
       "      <td>42</td>\n",
       "      <td>0</td>\n",
       "      <td>0</td>\n",
       "      <td>0</td>\n",
       "      <td>5</td>\n",
       "      <td>3877</td>\n",
       "    </tr>\n",
       "  </tbody>\n",
       "</table>\n",
       "<p>193 rows × 7 columns</p>\n",
       "</div>"
      ],
      "text/plain": [
       "     Rank  Average IQ  Literacy Rate  Nobel Prices  HDI (2021)  \\\n",
       "0       1         106              0            29           0   \n",
       "1       2         106              0             4           0   \n",
       "2       3         105              0             0           0   \n",
       "3       4         105              0             1           0   \n",
       "4       5         104              0             8           0   \n",
       "..    ...         ...            ...           ...         ...   \n",
       "188   189          52              0             0           0   \n",
       "189   190          47              0             2           0   \n",
       "190   191          45              0             2           0   \n",
       "191   192          45              0             0           0   \n",
       "192   193          42              0             0           0   \n",
       "\n",
       "     Mean years of schooling - 2021   GNI - 2021  \n",
       "0                                13        42274  \n",
       "1                                 0            0  \n",
       "2                                11        90919  \n",
       "3                                12        62607  \n",
       "4                                 7        17504  \n",
       "..                              ...          ...  \n",
       "188                               4         2172  \n",
       "189                               5         8723  \n",
       "190                               5         1289  \n",
       "191                               4         1622  \n",
       "192                               5         3877  \n",
       "\n",
       "[193 rows x 7 columns]"
      ]
     },
     "execution_count": 12,
     "metadata": {},
     "output_type": "execute_result"
    }
   ],
   "source": [
    "numeric_cols = df.select_dtypes(include=[np.number]).columns\n",
    "df[numeric_cols] = df[numeric_cols].fillna(0).astype(int)\n",
    "df[numeric_cols]"
   ]
  },
  {
   "cell_type": "code",
   "execution_count": 13,
   "id": "ba75372f-6a33-442a-8152-f734e6813a1f",
   "metadata": {},
   "outputs": [
    {
     "data": {
      "text/html": [
       "<div>\n",
       "<style scoped>\n",
       "    .dataframe tbody tr th:only-of-type {\n",
       "        vertical-align: middle;\n",
       "    }\n",
       "\n",
       "    .dataframe tbody tr th {\n",
       "        vertical-align: top;\n",
       "    }\n",
       "\n",
       "    .dataframe thead th {\n",
       "        text-align: right;\n",
       "    }\n",
       "</style>\n",
       "<table border=\"1\" class=\"dataframe\">\n",
       "  <thead>\n",
       "    <tr style=\"text-align: right;\">\n",
       "      <th></th>\n",
       "      <th>Rank</th>\n",
       "      <th>Country</th>\n",
       "      <th>Average IQ</th>\n",
       "      <th>Continent</th>\n",
       "      <th>Literacy Rate</th>\n",
       "      <th>Nobel Prices</th>\n",
       "      <th>HDI (2021)</th>\n",
       "      <th>Mean years of schooling - 2021</th>\n",
       "      <th>GNI - 2021</th>\n",
       "      <th>Population - 2023</th>\n",
       "    </tr>\n",
       "  </thead>\n",
       "  <tbody>\n",
       "    <tr>\n",
       "      <th>0</th>\n",
       "      <td>1</td>\n",
       "      <td>Japan</td>\n",
       "      <td>106</td>\n",
       "      <td>Asia</td>\n",
       "      <td>0</td>\n",
       "      <td>29</td>\n",
       "      <td>0</td>\n",
       "      <td>13</td>\n",
       "      <td>42274</td>\n",
       "      <td>123294513</td>\n",
       "    </tr>\n",
       "    <tr>\n",
       "      <th>1</th>\n",
       "      <td>2</td>\n",
       "      <td>Taiwan</td>\n",
       "      <td>106</td>\n",
       "      <td>Asia</td>\n",
       "      <td>0</td>\n",
       "      <td>4</td>\n",
       "      <td>0</td>\n",
       "      <td>0</td>\n",
       "      <td>0</td>\n",
       "      <td>10143543</td>\n",
       "    </tr>\n",
       "    <tr>\n",
       "      <th>2</th>\n",
       "      <td>3</td>\n",
       "      <td>Singapore</td>\n",
       "      <td>105</td>\n",
       "      <td>Asia</td>\n",
       "      <td>0</td>\n",
       "      <td>0</td>\n",
       "      <td>0</td>\n",
       "      <td>11</td>\n",
       "      <td>90919</td>\n",
       "      <td>6014723</td>\n",
       "    </tr>\n",
       "    <tr>\n",
       "      <th>3</th>\n",
       "      <td>4</td>\n",
       "      <td>Hong Kong</td>\n",
       "      <td>105</td>\n",
       "      <td>Asia</td>\n",
       "      <td>0</td>\n",
       "      <td>1</td>\n",
       "      <td>0</td>\n",
       "      <td>12</td>\n",
       "      <td>62607</td>\n",
       "      <td>7491609</td>\n",
       "    </tr>\n",
       "    <tr>\n",
       "      <th>4</th>\n",
       "      <td>5</td>\n",
       "      <td>China</td>\n",
       "      <td>104</td>\n",
       "      <td>Asia</td>\n",
       "      <td>0</td>\n",
       "      <td>8</td>\n",
       "      <td>0</td>\n",
       "      <td>7</td>\n",
       "      <td>17504</td>\n",
       "      <td>1425671352</td>\n",
       "    </tr>\n",
       "    <tr>\n",
       "      <th>...</th>\n",
       "      <td>...</td>\n",
       "      <td>...</td>\n",
       "      <td>...</td>\n",
       "      <td>...</td>\n",
       "      <td>...</td>\n",
       "      <td>...</td>\n",
       "      <td>...</td>\n",
       "      <td>...</td>\n",
       "      <td>...</td>\n",
       "      <td>...</td>\n",
       "    </tr>\n",
       "    <tr>\n",
       "      <th>188</th>\n",
       "      <td>189</td>\n",
       "      <td>Gambia</td>\n",
       "      <td>52</td>\n",
       "      <td>Africa</td>\n",
       "      <td>0</td>\n",
       "      <td>0</td>\n",
       "      <td>0</td>\n",
       "      <td>4</td>\n",
       "      <td>2172</td>\n",
       "      <td>2773168</td>\n",
       "    </tr>\n",
       "    <tr>\n",
       "      <th>189</th>\n",
       "      <td>190</td>\n",
       "      <td>Guatemala</td>\n",
       "      <td>47</td>\n",
       "      <td>Central America</td>\n",
       "      <td>0</td>\n",
       "      <td>2</td>\n",
       "      <td>0</td>\n",
       "      <td>5</td>\n",
       "      <td>8723</td>\n",
       "      <td>18092026</td>\n",
       "    </tr>\n",
       "    <tr>\n",
       "      <th>190</th>\n",
       "      <td>191</td>\n",
       "      <td>Liberia</td>\n",
       "      <td>45</td>\n",
       "      <td>Africa</td>\n",
       "      <td>0</td>\n",
       "      <td>2</td>\n",
       "      <td>0</td>\n",
       "      <td>5</td>\n",
       "      <td>1289</td>\n",
       "      <td>5418377</td>\n",
       "    </tr>\n",
       "    <tr>\n",
       "      <th>191</th>\n",
       "      <td>192</td>\n",
       "      <td>Sierra Leone</td>\n",
       "      <td>45</td>\n",
       "      <td>Africa</td>\n",
       "      <td>0</td>\n",
       "      <td>0</td>\n",
       "      <td>0</td>\n",
       "      <td>4</td>\n",
       "      <td>1622</td>\n",
       "      <td>8791092</td>\n",
       "    </tr>\n",
       "    <tr>\n",
       "      <th>192</th>\n",
       "      <td>193</td>\n",
       "      <td>Nepal</td>\n",
       "      <td>42</td>\n",
       "      <td>Asia</td>\n",
       "      <td>0</td>\n",
       "      <td>0</td>\n",
       "      <td>0</td>\n",
       "      <td>5</td>\n",
       "      <td>3877</td>\n",
       "      <td>30896590</td>\n",
       "    </tr>\n",
       "  </tbody>\n",
       "</table>\n",
       "<p>193 rows × 10 columns</p>\n",
       "</div>"
      ],
      "text/plain": [
       "     Rank       Country  Average IQ        Continent  Literacy Rate  \\\n",
       "0       1         Japan         106             Asia              0   \n",
       "1       2        Taiwan         106             Asia              0   \n",
       "2       3     Singapore         105             Asia              0   \n",
       "3       4     Hong Kong         105             Asia              0   \n",
       "4       5         China         104             Asia              0   \n",
       "..    ...           ...         ...              ...            ...   \n",
       "188   189        Gambia          52           Africa              0   \n",
       "189   190     Guatemala          47  Central America              0   \n",
       "190   191       Liberia          45           Africa              0   \n",
       "191   192  Sierra Leone          45           Africa              0   \n",
       "192   193         Nepal          42             Asia              0   \n",
       "\n",
       "     Nobel Prices  HDI (2021)  Mean years of schooling - 2021   GNI - 2021  \\\n",
       "0              29           0                              13        42274   \n",
       "1               4           0                               0            0   \n",
       "2               0           0                              11        90919   \n",
       "3               1           0                              12        62607   \n",
       "4               8           0                               7        17504   \n",
       "..            ...         ...                             ...          ...   \n",
       "188             0           0                               4         2172   \n",
       "189             2           0                               5         8723   \n",
       "190             2           0                               5         1289   \n",
       "191             0           0                               4         1622   \n",
       "192             0           0                               5         3877   \n",
       "\n",
       "    Population - 2023  \n",
       "0           123294513  \n",
       "1            10143543  \n",
       "2             6014723  \n",
       "3             7491609  \n",
       "4          1425671352  \n",
       "..                ...  \n",
       "188           2773168  \n",
       "189          18092026  \n",
       "190           5418377  \n",
       "191           8791092  \n",
       "192          30896590  \n",
       "\n",
       "[193 rows x 10 columns]"
      ]
     },
     "execution_count": 13,
     "metadata": {},
     "output_type": "execute_result"
    }
   ],
   "source": [
    "df"
   ]
  },
  {
   "cell_type": "code",
   "execution_count": 14,
   "id": "3aaf44bb-f28d-45c2-bd0c-58343bcb08eb",
   "metadata": {},
   "outputs": [
    {
     "name": "stdout",
     "output_type": "stream",
     "text": [
      "<class 'pandas.core.frame.DataFrame'>\n",
      "RangeIndex: 193 entries, 0 to 192\n",
      "Data columns (total 10 columns):\n",
      " #   Column                          Non-Null Count  Dtype \n",
      "---  ------                          --------------  ----- \n",
      " 0   Rank                            193 non-null    int32 \n",
      " 1   Country                         193 non-null    object\n",
      " 2   Average IQ                      193 non-null    int32 \n",
      " 3   Continent                       193 non-null    object\n",
      " 4   Literacy Rate                   193 non-null    int32 \n",
      " 5   Nobel Prices                    193 non-null    int32 \n",
      " 6   HDI (2021)                      193 non-null    int32 \n",
      " 7   Mean years of schooling - 2021  193 non-null    int32 \n",
      " 8    GNI - 2021                     193 non-null    int32 \n",
      " 9   Population - 2023               193 non-null    object\n",
      "dtypes: int32(7), object(3)\n",
      "memory usage: 9.9+ KB\n"
     ]
    }
   ],
   "source": [
    "df.info()"
   ]
  },
  {
   "cell_type": "code",
   "execution_count": 15,
   "id": "2fbb1518-cfff-4350-a539-b8372b05a8a6",
   "metadata": {},
   "outputs": [],
   "source": [
    "# seaborn:"
   ]
  },
  {
   "cell_type": "code",
   "execution_count": 16,
   "id": "bcc91b11-80ed-4e60-9296-08c55cc9e9a1",
   "metadata": {},
   "outputs": [
    {
     "data": {
      "text/plain": [
       "<seaborn.axisgrid.PairGrid at 0x2a66c83b5c0>"
      ]
     },
     "execution_count": 16,
     "metadata": {},
     "output_type": "execute_result"
    },
    {
     "data": {
      "image/png": "[encoded data removed]",
      "text/plain": [
       "<Figure size 1750x1750 with 56 Axes>"
      ]
     },
     "metadata": {},
     "output_type": "display_data"
    }
   ],
   "source": [
    "sns.pairplot(df)"
   ]
  },
  {
   "cell_type": "code",
   "execution_count": 17,
   "id": "fff788a4-7357-4fce-9810-f0214a0a722c",
   "metadata": {},
   "outputs": [
    {
     "data": {
      "text/plain": [
       "(193, 10)"
      ]
     },
     "execution_count": 17,
     "metadata": {},
     "output_type": "execute_result"
    }
   ],
   "source": [
    "df.shape"
   ]
  },
  {
   "cell_type": "code",
   "execution_count": 18,
   "id": "df1d8196-9335-4fda-822b-800975ad9a73",
   "metadata": {},
   "outputs": [
    {
     "data": {
      "text/html": [
       "<div>\n",
       "<style scoped>\n",
       "    .dataframe tbody tr th:only-of-type {\n",
       "        vertical-align: middle;\n",
       "    }\n",
       "\n",
       "    .dataframe tbody tr th {\n",
       "        vertical-align: top;\n",
       "    }\n",
       "\n",
       "    .dataframe thead th {\n",
       "        text-align: right;\n",
       "    }\n",
       "</style>\n",
       "<table border=\"1\" class=\"dataframe\">\n",
       "  <thead>\n",
       "    <tr style=\"text-align: right;\">\n",
       "      <th></th>\n",
       "      <th>Rank</th>\n",
       "      <th>Average IQ</th>\n",
       "      <th>Literacy Rate</th>\n",
       "      <th>Nobel Prices</th>\n",
       "      <th>HDI (2021)</th>\n",
       "      <th>Mean years of schooling - 2021</th>\n",
       "      <th>GNI - 2021</th>\n",
       "    </tr>\n",
       "  </thead>\n",
       "  <tbody>\n",
       "    <tr>\n",
       "      <th>count</th>\n",
       "      <td>193.000000</td>\n",
       "      <td>193.000000</td>\n",
       "      <td>193.000000</td>\n",
       "      <td>193.000000</td>\n",
       "      <td>193.0</td>\n",
       "      <td>193.000000</td>\n",
       "      <td>193.000000</td>\n",
       "    </tr>\n",
       "    <tr>\n",
       "      <th>mean</th>\n",
       "      <td>97.000000</td>\n",
       "      <td>81.512953</td>\n",
       "      <td>0.124352</td>\n",
       "      <td>5.922280</td>\n",
       "      <td>0.0</td>\n",
       "      <td>7.958549</td>\n",
       "      <td>19302.134715</td>\n",
       "    </tr>\n",
       "    <tr>\n",
       "      <th>std</th>\n",
       "      <td>55.858452</td>\n",
       "      <td>13.345219</td>\n",
       "      <td>0.330841</td>\n",
       "      <td>31.971328</td>\n",
       "      <td>0.0</td>\n",
       "      <td>3.760865</td>\n",
       "      <td>22012.963869</td>\n",
       "    </tr>\n",
       "    <tr>\n",
       "      <th>min</th>\n",
       "      <td>1.000000</td>\n",
       "      <td>42.000000</td>\n",
       "      <td>0.000000</td>\n",
       "      <td>0.000000</td>\n",
       "      <td>0.0</td>\n",
       "      <td>0.000000</td>\n",
       "      <td>0.000000</td>\n",
       "    </tr>\n",
       "    <tr>\n",
       "      <th>25%</th>\n",
       "      <td>49.000000</td>\n",
       "      <td>74.000000</td>\n",
       "      <td>0.000000</td>\n",
       "      <td>0.000000</td>\n",
       "      <td>0.0</td>\n",
       "      <td>5.000000</td>\n",
       "      <td>3696.000000</td>\n",
       "    </tr>\n",
       "    <tr>\n",
       "      <th>50%</th>\n",
       "      <td>97.000000</td>\n",
       "      <td>82.000000</td>\n",
       "      <td>0.000000</td>\n",
       "      <td>0.000000</td>\n",
       "      <td>0.0</td>\n",
       "      <td>9.000000</td>\n",
       "      <td>11732.000000</td>\n",
       "    </tr>\n",
       "    <tr>\n",
       "      <th>75%</th>\n",
       "      <td>145.000000</td>\n",
       "      <td>91.000000</td>\n",
       "      <td>0.000000</td>\n",
       "      <td>1.000000</td>\n",
       "      <td>0.0</td>\n",
       "      <td>11.000000</td>\n",
       "      <td>29002.000000</td>\n",
       "    </tr>\n",
       "    <tr>\n",
       "      <th>max</th>\n",
       "      <td>193.000000</td>\n",
       "      <td>106.000000</td>\n",
       "      <td>1.000000</td>\n",
       "      <td>400.000000</td>\n",
       "      <td>0.0</td>\n",
       "      <td>14.000000</td>\n",
       "      <td>146830.000000</td>\n",
       "    </tr>\n",
       "  </tbody>\n",
       "</table>\n",
       "</div>"
      ],
      "text/plain": [
       "             Rank  Average IQ  Literacy Rate  Nobel Prices  HDI (2021)  \\\n",
       "count  193.000000  193.000000     193.000000    193.000000       193.0   \n",
       "mean    97.000000   81.512953       0.124352      5.922280         0.0   \n",
       "std     55.858452   13.345219       0.330841     31.971328         0.0   \n",
       "min      1.000000   42.000000       0.000000      0.000000         0.0   \n",
       "25%     49.000000   74.000000       0.000000      0.000000         0.0   \n",
       "50%     97.000000   82.000000       0.000000      0.000000         0.0   \n",
       "75%    145.000000   91.000000       0.000000      1.000000         0.0   \n",
       "max    193.000000  106.000000       1.000000    400.000000         0.0   \n",
       "\n",
       "       Mean years of schooling - 2021     GNI - 2021  \n",
       "count                      193.000000     193.000000  \n",
       "mean                         7.958549   19302.134715  \n",
       "std                          3.760865   22012.963869  \n",
       "min                          0.000000       0.000000  \n",
       "25%                          5.000000    3696.000000  \n",
       "50%                          9.000000   11732.000000  \n",
       "75%                         11.000000   29002.000000  \n",
       "max                         14.000000  146830.000000  "
      ]
     },
     "execution_count": 18,
     "metadata": {},
     "output_type": "execute_result"
    }
   ],
   "source": [
    "df.describe()"
   ]
  },
  {
   "cell_type": "code",
   "execution_count": 19,
   "id": "84b88187-46c5-4fb0-9289-33c69e743e17",
   "metadata": {},
   "outputs": [
    {
     "data": {
      "text/html": [
       "<div>\n",
       "<style scoped>\n",
       "    .dataframe tbody tr th:only-of-type {\n",
       "        vertical-align: middle;\n",
       "    }\n",
       "\n",
       "    .dataframe tbody tr th {\n",
       "        vertical-align: top;\n",
       "    }\n",
       "\n",
       "    .dataframe thead th {\n",
       "        text-align: right;\n",
       "    }\n",
       "</style>\n",
       "<table border=\"1\" class=\"dataframe\">\n",
       "  <thead>\n",
       "    <tr style=\"text-align: right;\">\n",
       "      <th></th>\n",
       "      <th>Country</th>\n",
       "      <th>Continent</th>\n",
       "      <th>Population - 2023</th>\n",
       "    </tr>\n",
       "  </thead>\n",
       "  <tbody>\n",
       "    <tr>\n",
       "      <th>count</th>\n",
       "      <td>193</td>\n",
       "      <td>193</td>\n",
       "      <td>193</td>\n",
       "    </tr>\n",
       "    <tr>\n",
       "      <th>unique</th>\n",
       "      <td>193</td>\n",
       "      <td>8</td>\n",
       "      <td>192</td>\n",
       "    </tr>\n",
       "    <tr>\n",
       "      <th>top</th>\n",
       "      <td>Japan</td>\n",
       "      <td>Africa</td>\n",
       "      <td>10143543</td>\n",
       "    </tr>\n",
       "    <tr>\n",
       "      <th>freq</th>\n",
       "      <td>1</td>\n",
       "      <td>52</td>\n",
       "      <td>2</td>\n",
       "    </tr>\n",
       "  </tbody>\n",
       "</table>\n",
       "</div>"
      ],
      "text/plain": [
       "       Country Continent Population - 2023\n",
       "count      193       193               193\n",
       "unique     193         8               192\n",
       "top      Japan    Africa          10143543\n",
       "freq         1        52                 2"
      ]
     },
     "execution_count": 19,
     "metadata": {},
     "output_type": "execute_result"
    }
   ],
   "source": [
    "df.describe(include = \"object\")"
   ]
  },
  {
   "cell_type": "code",
   "execution_count": 20,
   "id": "1e17cbe0-4554-4028-8de5-869e5ef64872",
   "metadata": {},
   "outputs": [
    {
     "data": {
      "text/plain": [
       "array(['Asia', 'Europe', 'North America', 'Oceania', 'Europe/Asia',\n",
       "       'Central America', 'South America', 'Africa'], dtype=object)"
      ]
     },
     "execution_count": 20,
     "metadata": {},
     "output_type": "execute_result"
    }
   ],
   "source": [
    "df.Continent.unique()"
   ]
  },
  {
   "cell_type": "code",
   "execution_count": 21,
   "id": "361c5256-93b5-4aae-9655-215233c90abc",
   "metadata": {},
   "outputs": [
    {
     "data": {
      "text/plain": [
       "array(['Japan', 'Taiwan', 'Singapore', 'Hong Kong', 'China',\n",
       "       'South Korea', 'Belarus', 'Finland', 'Liechtenstein', 'Germany',\n",
       "       'Netherlands', 'Estonia', 'Luxembourg', 'Macao', 'Cambodia',\n",
       "       'Canada', 'Australia', 'Hungary', 'Switzerland', 'United Kingdom',\n",
       "       'North Korea', 'Slovenia', 'New Zealand', 'Austria', 'Iceland',\n",
       "       'Denmark', 'Belgium', 'United States', 'Norway', 'Sweden',\n",
       "       'France', 'Poland', 'Slovakia', 'Russia', 'Lithuania', 'Croatia',\n",
       "       'Andorra', 'Ireland', 'Czech republic', 'Latvia', 'Italy',\n",
       "       'New Caledonia', 'Vanuatu', 'Spain', 'Bermuda', 'Cyprus',\n",
       "       'Portugal', 'Israel', 'Barbados', 'Malta', 'Myanmar', 'Mongolia',\n",
       "       'Bulgaria', 'Greece', 'Suriname', 'Ukraine', 'Moldavia', 'Serbia',\n",
       "       'Vietnam', 'Iraq', 'Uzbekistan', 'Kazakhstan', 'Thailand',\n",
       "       'Armenia', 'Bosnia and Herzegovina', 'Costa Rica', 'Bhutan',\n",
       "       'Chile', 'Mexico', 'Tajikistan', 'Uruguay', 'Brunei', 'Malaysia',\n",
       "       'Bahamas', 'Romania', 'Türkiye', 'Argentina', 'Sri Lanka',\n",
       "       'Mauritius', 'Turkmenistan', 'Montenegro', 'Trinidad and Tobago',\n",
       "       'Azerbaijan', 'Georgia', 'Turks and Caicos Islands', 'Paraguay',\n",
       "       'Federated States of Micronesia', 'Fiji', 'Marshall Islands',\n",
       "       'Solomon Islands', 'Cuba', 'Bahrain', 'Brazil', 'Guyana',\n",
       "       'Colombia', 'Venezuela', 'Cayman Islands', 'Afghanistan', 'Haiti',\n",
       "       'Dominican Republic', 'United Arab Emirates', 'Puerto Rico',\n",
       "       'North Macedonia', 'Albania', 'Lebanon', 'Philippines', 'Peru',\n",
       "       'Northern Mariana Islands', 'Laos', 'Libya', 'Qatar', 'Jordan',\n",
       "       'Maldives', 'Iran', 'Pakistan', 'Grenade', 'Tunisia', 'Kyrgyzstan',\n",
       "       'Panama', 'Chad', 'Sudan', 'Seychelles', 'Oman', 'Kuwait',\n",
       "       'East Timor', 'Indonesia', 'Papua New Guinea', 'Ecuador',\n",
       "       'Palestine', 'Senegal', 'Comoros', 'Madagascar',\n",
       "       'British Virgin Islands', 'Bolivia', 'Uganda', 'Saudi Arabia',\n",
       "       'Egypt', 'India', 'Algeria', 'Kenya', 'Angola', 'Jamaica',\n",
       "       'Tanzania', 'Syria', 'Bangladesh', 'Zimbabwe', 'Burkina Faso',\n",
       "       'Saint Lucia', 'Mozambique', 'Burundi', 'Niger',\n",
       "       'Antigua and Barbuda', 'Rwanda', 'Benin', 'Malawi', 'El Salvador',\n",
       "       'Botswana', 'Lesotho', 'South Africa', 'Eswatini', 'Eritrea',\n",
       "       'Saint Helena', 'Zambia', 'Ethiopia', 'Djibouti', 'Cameroon',\n",
       "       'Nigeria', 'Somalia', 'Morocco', 'Namibia', 'Dominica',\n",
       "       'Sao Tome and Principe', 'Congo',\n",
       "       'Saint Vincent and the Grenadines', 'Gabon', 'Congo Republic',\n",
       "       'Yemen', 'Belize', 'Central African Republic', 'Honduras', 'Togo',\n",
       "       'Mali', 'Mauritania', 'South Sudan', 'Ghana', 'Costa do Marfim',\n",
       "       'Guinea', 'Nicaragua', 'Gambia', 'Guatemala', 'Liberia',\n",
       "       'Sierra Leone', 'Nepal'], dtype=object)"
      ]
     },
     "execution_count": 21,
     "metadata": {},
     "output_type": "execute_result"
    }
   ],
   "source": [
    "df[\"Country\"] .unique()"
   ]
  },
  {
   "cell_type": "code",
   "execution_count": 22,
   "id": "ec609ff0-b341-4745-af75-35925b52d4ed",
   "metadata": {},
   "outputs": [
    {
     "data": {
      "text/plain": [
       "Index(['Rank', 'Country', 'Average IQ', 'Continent', 'Literacy Rate',\n",
       "       'Nobel Prices', 'HDI (2021)', 'Mean years of schooling - 2021',\n",
       "       ' GNI - 2021', 'Population - 2023'],\n",
       "      dtype='object')"
      ]
     },
     "execution_count": 22,
     "metadata": {},
     "output_type": "execute_result"
    }
   ],
   "source": [
    "df.columns"
   ]
  },
  {
   "cell_type": "markdown",
   "id": "b6961d3f-d115-4c42-873d-158c0ef95095",
   "metadata": {},
   "source": [
    "# Data Cleaning -1:Fixing data inconsistency"
   ]
  },
  {
   "cell_type": "markdown",
   "id": "e4f1578a-9664-46a4-a2ac-6fdddb182a3f",
   "metadata": {},
   "source": [
    "# EDA-2 : Indexing and filtering of dataset"
   ]
  },
  {
   "cell_type": "code",
   "execution_count": 25,
   "id": "45b89d0c-e1a2-468b-85c8-32874b33c06d",
   "metadata": {},
   "outputs": [
    {
     "data": {
      "text/html": [
       "<div>\n",
       "<style scoped>\n",
       "    .dataframe tbody tr th:only-of-type {\n",
       "        vertical-align: middle;\n",
       "    }\n",
       "\n",
       "    .dataframe tbody tr th {\n",
       "        vertical-align: top;\n",
       "    }\n",
       "\n",
       "    .dataframe thead th {\n",
       "        text-align: right;\n",
       "    }\n",
       "</style>\n",
       "<table border=\"1\" class=\"dataframe\">\n",
       "  <thead>\n",
       "    <tr style=\"text-align: right;\">\n",
       "      <th></th>\n",
       "      <th>Rank</th>\n",
       "      <th>Country</th>\n",
       "      <th>Average IQ</th>\n",
       "      <th>Continent</th>\n",
       "      <th>Literacy Rate</th>\n",
       "    </tr>\n",
       "  </thead>\n",
       "  <tbody>\n",
       "    <tr>\n",
       "      <th>1</th>\n",
       "      <td>2</td>\n",
       "      <td>Taiwan</td>\n",
       "      <td>106</td>\n",
       "      <td>Asia</td>\n",
       "      <td>0</td>\n",
       "    </tr>\n",
       "    <tr>\n",
       "      <th>2</th>\n",
       "      <td>3</td>\n",
       "      <td>Singapore</td>\n",
       "      <td>105</td>\n",
       "      <td>Asia</td>\n",
       "      <td>0</td>\n",
       "    </tr>\n",
       "    <tr>\n",
       "      <th>3</th>\n",
       "      <td>4</td>\n",
       "      <td>Hong Kong</td>\n",
       "      <td>105</td>\n",
       "      <td>Asia</td>\n",
       "      <td>0</td>\n",
       "    </tr>\n",
       "    <tr>\n",
       "      <th>4</th>\n",
       "      <td>5</td>\n",
       "      <td>China</td>\n",
       "      <td>104</td>\n",
       "      <td>Asia</td>\n",
       "      <td>0</td>\n",
       "    </tr>\n",
       "  </tbody>\n",
       "</table>\n",
       "</div>"
      ],
      "text/plain": [
       "   Rank    Country  Average IQ Continent  Literacy Rate\n",
       "1     2     Taiwan         106      Asia              0\n",
       "2     3  Singapore         105      Asia              0\n",
       "3     4  Hong Kong         105      Asia              0\n",
       "4     5      China         104      Asia              0"
      ]
     },
     "execution_count": 25,
     "metadata": {},
     "output_type": "execute_result"
    }
   ],
   "source": [
    "df.loc[1:4,\"Rank\": \"Literacy Rate\"]"
   ]
  },
  {
   "cell_type": "code",
   "execution_count": 26,
   "id": "efa5d9a8-4dda-439b-b717-4e4248a13985",
   "metadata": {},
   "outputs": [
    {
     "data": {
      "text/html": [
       "<div>\n",
       "<style scoped>\n",
       "    .dataframe tbody tr th:only-of-type {\n",
       "        vertical-align: middle;\n",
       "    }\n",
       "\n",
       "    .dataframe tbody tr th {\n",
       "        vertical-align: top;\n",
       "    }\n",
       "\n",
       "    .dataframe thead th {\n",
       "        text-align: right;\n",
       "    }\n",
       "</style>\n",
       "<table border=\"1\" class=\"dataframe\">\n",
       "  <thead>\n",
       "    <tr style=\"text-align: right;\">\n",
       "      <th></th>\n",
       "      <th>Average IQ</th>\n",
       "      <th>Continent</th>\n",
       "      <th>Literacy Rate</th>\n",
       "      <th>Nobel Prices</th>\n",
       "      <th>HDI (2021)</th>\n",
       "      <th>Mean years of schooling - 2021</th>\n",
       "    </tr>\n",
       "  </thead>\n",
       "  <tbody>\n",
       "    <tr>\n",
       "      <th>1</th>\n",
       "      <td>106</td>\n",
       "      <td>Asia</td>\n",
       "      <td>0</td>\n",
       "      <td>4</td>\n",
       "      <td>0</td>\n",
       "      <td>0</td>\n",
       "    </tr>\n",
       "    <tr>\n",
       "      <th>2</th>\n",
       "      <td>105</td>\n",
       "      <td>Asia</td>\n",
       "      <td>0</td>\n",
       "      <td>0</td>\n",
       "      <td>0</td>\n",
       "      <td>11</td>\n",
       "    </tr>\n",
       "    <tr>\n",
       "      <th>3</th>\n",
       "      <td>105</td>\n",
       "      <td>Asia</td>\n",
       "      <td>0</td>\n",
       "      <td>1</td>\n",
       "      <td>0</td>\n",
       "      <td>12</td>\n",
       "    </tr>\n",
       "    <tr>\n",
       "      <th>4</th>\n",
       "      <td>104</td>\n",
       "      <td>Asia</td>\n",
       "      <td>0</td>\n",
       "      <td>8</td>\n",
       "      <td>0</td>\n",
       "      <td>7</td>\n",
       "    </tr>\n",
       "    <tr>\n",
       "      <th>5</th>\n",
       "      <td>102</td>\n",
       "      <td>Asia</td>\n",
       "      <td>0</td>\n",
       "      <td>0</td>\n",
       "      <td>0</td>\n",
       "      <td>12</td>\n",
       "    </tr>\n",
       "    <tr>\n",
       "      <th>6</th>\n",
       "      <td>101</td>\n",
       "      <td>Europe</td>\n",
       "      <td>1</td>\n",
       "      <td>2</td>\n",
       "      <td>0</td>\n",
       "      <td>12</td>\n",
       "    </tr>\n",
       "    <tr>\n",
       "      <th>7</th>\n",
       "      <td>101</td>\n",
       "      <td>Europe</td>\n",
       "      <td>1</td>\n",
       "      <td>5</td>\n",
       "      <td>0</td>\n",
       "      <td>12</td>\n",
       "    </tr>\n",
       "    <tr>\n",
       "      <th>8</th>\n",
       "      <td>101</td>\n",
       "      <td>Europe</td>\n",
       "      <td>1</td>\n",
       "      <td>0</td>\n",
       "      <td>0</td>\n",
       "      <td>12</td>\n",
       "    </tr>\n",
       "  </tbody>\n",
       "</table>\n",
       "</div>"
      ],
      "text/plain": [
       "   Average IQ Continent  Literacy Rate  Nobel Prices  HDI (2021)  \\\n",
       "1         106      Asia              0             4           0   \n",
       "2         105      Asia              0             0           0   \n",
       "3         105      Asia              0             1           0   \n",
       "4         104      Asia              0             8           0   \n",
       "5         102      Asia              0             0           0   \n",
       "6         101    Europe              1             2           0   \n",
       "7         101    Europe              1             5           0   \n",
       "8         101    Europe              1             0           0   \n",
       "\n",
       "   Mean years of schooling - 2021  \n",
       "1                               0  \n",
       "2                              11  \n",
       "3                              12  \n",
       "4                               7  \n",
       "5                              12  \n",
       "6                              12  \n",
       "7                              12  \n",
       "8                              12  "
      ]
     },
     "execution_count": 26,
     "metadata": {},
     "output_type": "execute_result"
    }
   ],
   "source": [
    "df.iloc[1:9,2:8]"
   ]
  },
  {
   "cell_type": "code",
   "execution_count": 27,
   "id": "ce02fd6b-c192-4eff-b89e-54daed28bb7a",
   "metadata": {},
   "outputs": [
    {
     "data": {
      "text/html": [
       "<div>\n",
       "<style scoped>\n",
       "    .dataframe tbody tr th:only-of-type {\n",
       "        vertical-align: middle;\n",
       "    }\n",
       "\n",
       "    .dataframe tbody tr th {\n",
       "        vertical-align: top;\n",
       "    }\n",
       "\n",
       "    .dataframe thead th {\n",
       "        text-align: right;\n",
       "    }\n",
       "</style>\n",
       "<table border=\"1\" class=\"dataframe\">\n",
       "  <thead>\n",
       "    <tr style=\"text-align: right;\">\n",
       "      <th></th>\n",
       "      <th>Rank</th>\n",
       "      <th>Country</th>\n",
       "      <th>Average IQ</th>\n",
       "      <th>Continent</th>\n",
       "      <th>Literacy Rate</th>\n",
       "      <th>Nobel Prices</th>\n",
       "      <th>HDI (2021)</th>\n",
       "      <th>Mean years of schooling - 2021</th>\n",
       "      <th>GNI - 2021</th>\n",
       "      <th>Population - 2023</th>\n",
       "    </tr>\n",
       "  </thead>\n",
       "  <tbody>\n",
       "    <tr>\n",
       "      <th>192</th>\n",
       "      <td>193</td>\n",
       "      <td>Nepal</td>\n",
       "      <td>42</td>\n",
       "      <td>Asia</td>\n",
       "      <td>0</td>\n",
       "      <td>0</td>\n",
       "      <td>0</td>\n",
       "      <td>5</td>\n",
       "      <td>3877</td>\n",
       "      <td>30896590</td>\n",
       "    </tr>\n",
       "    <tr>\n",
       "      <th>191</th>\n",
       "      <td>192</td>\n",
       "      <td>Sierra Leone</td>\n",
       "      <td>45</td>\n",
       "      <td>Africa</td>\n",
       "      <td>0</td>\n",
       "      <td>0</td>\n",
       "      <td>0</td>\n",
       "      <td>4</td>\n",
       "      <td>1622</td>\n",
       "      <td>8791092</td>\n",
       "    </tr>\n",
       "    <tr>\n",
       "      <th>190</th>\n",
       "      <td>191</td>\n",
       "      <td>Liberia</td>\n",
       "      <td>45</td>\n",
       "      <td>Africa</td>\n",
       "      <td>0</td>\n",
       "      <td>2</td>\n",
       "      <td>0</td>\n",
       "      <td>5</td>\n",
       "      <td>1289</td>\n",
       "      <td>5418377</td>\n",
       "    </tr>\n",
       "    <tr>\n",
       "      <th>189</th>\n",
       "      <td>190</td>\n",
       "      <td>Guatemala</td>\n",
       "      <td>47</td>\n",
       "      <td>Central America</td>\n",
       "      <td>0</td>\n",
       "      <td>2</td>\n",
       "      <td>0</td>\n",
       "      <td>5</td>\n",
       "      <td>8723</td>\n",
       "      <td>18092026</td>\n",
       "    </tr>\n",
       "    <tr>\n",
       "      <th>187</th>\n",
       "      <td>188</td>\n",
       "      <td>Nicaragua</td>\n",
       "      <td>52</td>\n",
       "      <td>Central America</td>\n",
       "      <td>0</td>\n",
       "      <td>0</td>\n",
       "      <td>0</td>\n",
       "      <td>7</td>\n",
       "      <td>5625</td>\n",
       "      <td>7046311</td>\n",
       "    </tr>\n",
       "    <tr>\n",
       "      <th>...</th>\n",
       "      <td>...</td>\n",
       "      <td>...</td>\n",
       "      <td>...</td>\n",
       "      <td>...</td>\n",
       "      <td>...</td>\n",
       "      <td>...</td>\n",
       "      <td>...</td>\n",
       "      <td>...</td>\n",
       "      <td>...</td>\n",
       "      <td>...</td>\n",
       "    </tr>\n",
       "    <tr>\n",
       "      <th>4</th>\n",
       "      <td>5</td>\n",
       "      <td>China</td>\n",
       "      <td>104</td>\n",
       "      <td>Asia</td>\n",
       "      <td>0</td>\n",
       "      <td>8</td>\n",
       "      <td>0</td>\n",
       "      <td>7</td>\n",
       "      <td>17504</td>\n",
       "      <td>1425671352</td>\n",
       "    </tr>\n",
       "    <tr>\n",
       "      <th>3</th>\n",
       "      <td>4</td>\n",
       "      <td>Hong Kong</td>\n",
       "      <td>105</td>\n",
       "      <td>Asia</td>\n",
       "      <td>0</td>\n",
       "      <td>1</td>\n",
       "      <td>0</td>\n",
       "      <td>12</td>\n",
       "      <td>62607</td>\n",
       "      <td>7491609</td>\n",
       "    </tr>\n",
       "    <tr>\n",
       "      <th>2</th>\n",
       "      <td>3</td>\n",
       "      <td>Singapore</td>\n",
       "      <td>105</td>\n",
       "      <td>Asia</td>\n",
       "      <td>0</td>\n",
       "      <td>0</td>\n",
       "      <td>0</td>\n",
       "      <td>11</td>\n",
       "      <td>90919</td>\n",
       "      <td>6014723</td>\n",
       "    </tr>\n",
       "    <tr>\n",
       "      <th>1</th>\n",
       "      <td>2</td>\n",
       "      <td>Taiwan</td>\n",
       "      <td>106</td>\n",
       "      <td>Asia</td>\n",
       "      <td>0</td>\n",
       "      <td>4</td>\n",
       "      <td>0</td>\n",
       "      <td>0</td>\n",
       "      <td>0</td>\n",
       "      <td>10143543</td>\n",
       "    </tr>\n",
       "    <tr>\n",
       "      <th>0</th>\n",
       "      <td>1</td>\n",
       "      <td>Japan</td>\n",
       "      <td>106</td>\n",
       "      <td>Asia</td>\n",
       "      <td>0</td>\n",
       "      <td>29</td>\n",
       "      <td>0</td>\n",
       "      <td>13</td>\n",
       "      <td>42274</td>\n",
       "      <td>123294513</td>\n",
       "    </tr>\n",
       "  </tbody>\n",
       "</table>\n",
       "<p>193 rows × 10 columns</p>\n",
       "</div>"
      ],
      "text/plain": [
       "     Rank       Country  Average IQ        Continent  Literacy Rate  \\\n",
       "192   193         Nepal          42             Asia              0   \n",
       "191   192  Sierra Leone          45           Africa              0   \n",
       "190   191       Liberia          45           Africa              0   \n",
       "189   190     Guatemala          47  Central America              0   \n",
       "187   188     Nicaragua          52  Central America              0   \n",
       "..    ...           ...         ...              ...            ...   \n",
       "4       5         China         104             Asia              0   \n",
       "3       4     Hong Kong         105             Asia              0   \n",
       "2       3     Singapore         105             Asia              0   \n",
       "1       2        Taiwan         106             Asia              0   \n",
       "0       1         Japan         106             Asia              0   \n",
       "\n",
       "     Nobel Prices  HDI (2021)  Mean years of schooling - 2021   GNI - 2021  \\\n",
       "192             0           0                               5         3877   \n",
       "191             0           0                               4         1622   \n",
       "190             2           0                               5         1289   \n",
       "189             2           0                               5         8723   \n",
       "187             0           0                               7         5625   \n",
       "..            ...         ...                             ...          ...   \n",
       "4               8           0                               7        17504   \n",
       "3               1           0                              12        62607   \n",
       "2               0           0                              11        90919   \n",
       "1               4           0                               0            0   \n",
       "0              29           0                              13        42274   \n",
       "\n",
       "    Population - 2023  \n",
       "192          30896590  \n",
       "191           8791092  \n",
       "190           5418377  \n",
       "189          18092026  \n",
       "187           7046311  \n",
       "..                ...  \n",
       "4          1425671352  \n",
       "3             7491609  \n",
       "2             6014723  \n",
       "1            10143543  \n",
       "0           123294513  \n",
       "\n",
       "[193 rows x 10 columns]"
      ]
     },
     "execution_count": 27,
     "metadata": {},
     "output_type": "execute_result"
    }
   ],
   "source": [
    "df.sort_values(\"Average IQ\",ascending = True)"
   ]
  },
  {
   "cell_type": "code",
   "execution_count": null,
   "id": "957b0edc-3f80-4a17-9a4c-4404f8476563",
   "metadata": {},
   "outputs": [],
   "source": []
  },
  {
   "cell_type": "code",
   "execution_count": 28,
   "id": "77c5a8de-9dbf-4713-9cd5-cd68912cfdbb",
   "metadata": {},
   "outputs": [
    {
     "data": {
      "text/html": [
       "<div>\n",
       "<style scoped>\n",
       "    .dataframe tbody tr th:only-of-type {\n",
       "        vertical-align: middle;\n",
       "    }\n",
       "\n",
       "    .dataframe tbody tr th {\n",
       "        vertical-align: top;\n",
       "    }\n",
       "\n",
       "    .dataframe thead th {\n",
       "        text-align: right;\n",
       "    }\n",
       "</style>\n",
       "<table border=\"1\" class=\"dataframe\">\n",
       "  <thead>\n",
       "    <tr style=\"text-align: right;\">\n",
       "      <th></th>\n",
       "      <th>Rank</th>\n",
       "      <th>Country</th>\n",
       "      <th>Average IQ</th>\n",
       "      <th>Continent</th>\n",
       "      <th>Literacy Rate</th>\n",
       "      <th>Nobel Prices</th>\n",
       "      <th>HDI (2021)</th>\n",
       "      <th>Mean years of schooling - 2021</th>\n",
       "      <th>GNI - 2021</th>\n",
       "      <th>Population - 2023</th>\n",
       "    </tr>\n",
       "  </thead>\n",
       "  <tbody>\n",
       "    <tr>\n",
       "      <th>0</th>\n",
       "      <td>1</td>\n",
       "      <td>Japan</td>\n",
       "      <td>106</td>\n",
       "      <td>Asia</td>\n",
       "      <td>0</td>\n",
       "      <td>29</td>\n",
       "      <td>0</td>\n",
       "      <td>13</td>\n",
       "      <td>42274</td>\n",
       "      <td>123294513</td>\n",
       "    </tr>\n",
       "    <tr>\n",
       "      <th>1</th>\n",
       "      <td>2</td>\n",
       "      <td>Taiwan</td>\n",
       "      <td>106</td>\n",
       "      <td>Asia</td>\n",
       "      <td>0</td>\n",
       "      <td>4</td>\n",
       "      <td>0</td>\n",
       "      <td>0</td>\n",
       "      <td>0</td>\n",
       "      <td>10143543</td>\n",
       "    </tr>\n",
       "    <tr>\n",
       "      <th>2</th>\n",
       "      <td>3</td>\n",
       "      <td>Singapore</td>\n",
       "      <td>105</td>\n",
       "      <td>Asia</td>\n",
       "      <td>0</td>\n",
       "      <td>0</td>\n",
       "      <td>0</td>\n",
       "      <td>11</td>\n",
       "      <td>90919</td>\n",
       "      <td>6014723</td>\n",
       "    </tr>\n",
       "    <tr>\n",
       "      <th>3</th>\n",
       "      <td>4</td>\n",
       "      <td>Hong Kong</td>\n",
       "      <td>105</td>\n",
       "      <td>Asia</td>\n",
       "      <td>0</td>\n",
       "      <td>1</td>\n",
       "      <td>0</td>\n",
       "      <td>12</td>\n",
       "      <td>62607</td>\n",
       "      <td>7491609</td>\n",
       "    </tr>\n",
       "    <tr>\n",
       "      <th>4</th>\n",
       "      <td>5</td>\n",
       "      <td>China</td>\n",
       "      <td>104</td>\n",
       "      <td>Asia</td>\n",
       "      <td>0</td>\n",
       "      <td>8</td>\n",
       "      <td>0</td>\n",
       "      <td>7</td>\n",
       "      <td>17504</td>\n",
       "      <td>1425671352</td>\n",
       "    </tr>\n",
       "    <tr>\n",
       "      <th>...</th>\n",
       "      <td>...</td>\n",
       "      <td>...</td>\n",
       "      <td>...</td>\n",
       "      <td>...</td>\n",
       "      <td>...</td>\n",
       "      <td>...</td>\n",
       "      <td>...</td>\n",
       "      <td>...</td>\n",
       "      <td>...</td>\n",
       "      <td>...</td>\n",
       "    </tr>\n",
       "    <tr>\n",
       "      <th>188</th>\n",
       "      <td>189</td>\n",
       "      <td>Gambia</td>\n",
       "      <td>52</td>\n",
       "      <td>Africa</td>\n",
       "      <td>0</td>\n",
       "      <td>0</td>\n",
       "      <td>0</td>\n",
       "      <td>4</td>\n",
       "      <td>2172</td>\n",
       "      <td>2773168</td>\n",
       "    </tr>\n",
       "    <tr>\n",
       "      <th>189</th>\n",
       "      <td>190</td>\n",
       "      <td>Guatemala</td>\n",
       "      <td>47</td>\n",
       "      <td>Central America</td>\n",
       "      <td>0</td>\n",
       "      <td>2</td>\n",
       "      <td>0</td>\n",
       "      <td>5</td>\n",
       "      <td>8723</td>\n",
       "      <td>18092026</td>\n",
       "    </tr>\n",
       "    <tr>\n",
       "      <th>190</th>\n",
       "      <td>191</td>\n",
       "      <td>Liberia</td>\n",
       "      <td>45</td>\n",
       "      <td>Africa</td>\n",
       "      <td>0</td>\n",
       "      <td>2</td>\n",
       "      <td>0</td>\n",
       "      <td>5</td>\n",
       "      <td>1289</td>\n",
       "      <td>5418377</td>\n",
       "    </tr>\n",
       "    <tr>\n",
       "      <th>191</th>\n",
       "      <td>192</td>\n",
       "      <td>Sierra Leone</td>\n",
       "      <td>45</td>\n",
       "      <td>Africa</td>\n",
       "      <td>0</td>\n",
       "      <td>0</td>\n",
       "      <td>0</td>\n",
       "      <td>4</td>\n",
       "      <td>1622</td>\n",
       "      <td>8791092</td>\n",
       "    </tr>\n",
       "    <tr>\n",
       "      <th>192</th>\n",
       "      <td>193</td>\n",
       "      <td>Nepal</td>\n",
       "      <td>42</td>\n",
       "      <td>Asia</td>\n",
       "      <td>0</td>\n",
       "      <td>0</td>\n",
       "      <td>0</td>\n",
       "      <td>5</td>\n",
       "      <td>3877</td>\n",
       "      <td>30896590</td>\n",
       "    </tr>\n",
       "  </tbody>\n",
       "</table>\n",
       "<p>193 rows × 10 columns</p>\n",
       "</div>"
      ],
      "text/plain": [
       "     Rank       Country  Average IQ        Continent  Literacy Rate  \\\n",
       "0       1         Japan         106             Asia              0   \n",
       "1       2        Taiwan         106             Asia              0   \n",
       "2       3     Singapore         105             Asia              0   \n",
       "3       4     Hong Kong         105             Asia              0   \n",
       "4       5         China         104             Asia              0   \n",
       "..    ...           ...         ...              ...            ...   \n",
       "188   189        Gambia          52           Africa              0   \n",
       "189   190     Guatemala          47  Central America              0   \n",
       "190   191       Liberia          45           Africa              0   \n",
       "191   192  Sierra Leone          45           Africa              0   \n",
       "192   193         Nepal          42             Asia              0   \n",
       "\n",
       "     Nobel Prices  HDI (2021)  Mean years of schooling - 2021   GNI - 2021  \\\n",
       "0              29           0                              13        42274   \n",
       "1               4           0                               0            0   \n",
       "2               0           0                              11        90919   \n",
       "3               1           0                              12        62607   \n",
       "4               8           0                               7        17504   \n",
       "..            ...         ...                             ...          ...   \n",
       "188             0           0                               4         2172   \n",
       "189             2           0                               5         8723   \n",
       "190             2           0                               5         1289   \n",
       "191             0           0                               4         1622   \n",
       "192             0           0                               5         3877   \n",
       "\n",
       "    Population - 2023  \n",
       "0           123294513  \n",
       "1            10143543  \n",
       "2             6014723  \n",
       "3             7491609  \n",
       "4          1425671352  \n",
       "..                ...  \n",
       "188           2773168  \n",
       "189          18092026  \n",
       "190           5418377  \n",
       "191           8791092  \n",
       "192          30896590  \n",
       "\n",
       "[193 rows x 10 columns]"
      ]
     },
     "execution_count": 28,
     "metadata": {},
     "output_type": "execute_result"
    }
   ],
   "source": [
    "df.sort_values(\"Rank\",ascending = True)"
   ]
  },
  {
   "cell_type": "code",
   "execution_count": 29,
   "id": "473e0bce-f0d9-4e7f-9f0d-f76186129f16",
   "metadata": {},
   "outputs": [
    {
     "data": {
      "text/html": [
       "<div>\n",
       "<style scoped>\n",
       "    .dataframe tbody tr th:only-of-type {\n",
       "        vertical-align: middle;\n",
       "    }\n",
       "\n",
       "    .dataframe tbody tr th {\n",
       "        vertical-align: top;\n",
       "    }\n",
       "\n",
       "    .dataframe thead th {\n",
       "        text-align: right;\n",
       "    }\n",
       "</style>\n",
       "<table border=\"1\" class=\"dataframe\">\n",
       "  <thead>\n",
       "    <tr style=\"text-align: right;\">\n",
       "      <th></th>\n",
       "      <th>Rank</th>\n",
       "      <th>Country</th>\n",
       "      <th>Average IQ</th>\n",
       "      <th>Continent</th>\n",
       "      <th>Literacy Rate</th>\n",
       "      <th>Nobel Prices</th>\n",
       "      <th>HDI (2021)</th>\n",
       "      <th>Mean years of schooling - 2021</th>\n",
       "      <th>GNI - 2021</th>\n",
       "      <th>Population - 2023</th>\n",
       "    </tr>\n",
       "  </thead>\n",
       "  <tbody>\n",
       "    <tr>\n",
       "      <th>9</th>\n",
       "      <td>10</td>\n",
       "      <td>Germany</td>\n",
       "      <td>100</td>\n",
       "      <td>Europe</td>\n",
       "      <td>0</td>\n",
       "      <td>111</td>\n",
       "      <td>0</td>\n",
       "      <td>14</td>\n",
       "      <td>54534</td>\n",
       "      <td>83294633</td>\n",
       "    </tr>\n",
       "    <tr>\n",
       "      <th>0</th>\n",
       "      <td>1</td>\n",
       "      <td>Japan</td>\n",
       "      <td>106</td>\n",
       "      <td>Asia</td>\n",
       "      <td>0</td>\n",
       "      <td>29</td>\n",
       "      <td>0</td>\n",
       "      <td>13</td>\n",
       "      <td>42274</td>\n",
       "      <td>123294513</td>\n",
       "    </tr>\n",
       "    <tr>\n",
       "      <th>12</th>\n",
       "      <td>13</td>\n",
       "      <td>Luxembourg</td>\n",
       "      <td>99</td>\n",
       "      <td>Europe</td>\n",
       "      <td>1</td>\n",
       "      <td>2</td>\n",
       "      <td>0</td>\n",
       "      <td>13</td>\n",
       "      <td>84649</td>\n",
       "      <td>654.768</td>\n",
       "    </tr>\n",
       "    <tr>\n",
       "      <th>24</th>\n",
       "      <td>25</td>\n",
       "      <td>Iceland</td>\n",
       "      <td>98</td>\n",
       "      <td>Europe</td>\n",
       "      <td>0</td>\n",
       "      <td>1</td>\n",
       "      <td>0</td>\n",
       "      <td>13</td>\n",
       "      <td>55782</td>\n",
       "      <td>375.319</td>\n",
       "    </tr>\n",
       "    <tr>\n",
       "      <th>28</th>\n",
       "      <td>29</td>\n",
       "      <td>Norway</td>\n",
       "      <td>97</td>\n",
       "      <td>Europe</td>\n",
       "      <td>1</td>\n",
       "      <td>13</td>\n",
       "      <td>0</td>\n",
       "      <td>13</td>\n",
       "      <td>64660</td>\n",
       "      <td>5474360</td>\n",
       "    </tr>\n",
       "    <tr>\n",
       "      <th>...</th>\n",
       "      <td>...</td>\n",
       "      <td>...</td>\n",
       "      <td>...</td>\n",
       "      <td>...</td>\n",
       "      <td>...</td>\n",
       "      <td>...</td>\n",
       "      <td>...</td>\n",
       "      <td>...</td>\n",
       "      <td>...</td>\n",
       "      <td>...</td>\n",
       "    </tr>\n",
       "    <tr>\n",
       "      <th>124</th>\n",
       "      <td>125</td>\n",
       "      <td>East Timor</td>\n",
       "      <td>78</td>\n",
       "      <td>Asia</td>\n",
       "      <td>0</td>\n",
       "      <td>0</td>\n",
       "      <td>0</td>\n",
       "      <td>0</td>\n",
       "      <td>0</td>\n",
       "      <td>1360596</td>\n",
       "    </tr>\n",
       "    <tr>\n",
       "      <th>167</th>\n",
       "      <td>168</td>\n",
       "      <td>Somalia</td>\n",
       "      <td>67</td>\n",
       "      <td>Africa</td>\n",
       "      <td>0</td>\n",
       "      <td>0</td>\n",
       "      <td>0</td>\n",
       "      <td>0</td>\n",
       "      <td>0</td>\n",
       "      <td>18143379</td>\n",
       "    </tr>\n",
       "    <tr>\n",
       "      <th>84</th>\n",
       "      <td>85</td>\n",
       "      <td>Turks and Caicos Islands</td>\n",
       "      <td>84</td>\n",
       "      <td>Central America</td>\n",
       "      <td>0</td>\n",
       "      <td>0</td>\n",
       "      <td>0</td>\n",
       "      <td>0</td>\n",
       "      <td>0</td>\n",
       "      <td>44.104</td>\n",
       "    </tr>\n",
       "    <tr>\n",
       "      <th>107</th>\n",
       "      <td>108</td>\n",
       "      <td>Northern Mariana Islands</td>\n",
       "      <td>81</td>\n",
       "      <td>Oceania</td>\n",
       "      <td>0</td>\n",
       "      <td>0</td>\n",
       "      <td>0</td>\n",
       "      <td>0</td>\n",
       "      <td>0</td>\n",
       "      <td>49.796</td>\n",
       "    </tr>\n",
       "    <tr>\n",
       "      <th>96</th>\n",
       "      <td>97</td>\n",
       "      <td>Cayman Islands</td>\n",
       "      <td>82</td>\n",
       "      <td>Central America</td>\n",
       "      <td>0</td>\n",
       "      <td>0</td>\n",
       "      <td>0</td>\n",
       "      <td>0</td>\n",
       "      <td>0</td>\n",
       "      <td>69310</td>\n",
       "    </tr>\n",
       "  </tbody>\n",
       "</table>\n",
       "<p>193 rows × 10 columns</p>\n",
       "</div>"
      ],
      "text/plain": [
       "     Rank                   Country  Average IQ        Continent  \\\n",
       "9      10                   Germany         100           Europe   \n",
       "0       1                     Japan         106             Asia   \n",
       "12     13                Luxembourg          99           Europe   \n",
       "24     25                   Iceland          98           Europe   \n",
       "28     29                    Norway          97           Europe   \n",
       "..    ...                       ...         ...              ...   \n",
       "124   125                East Timor          78             Asia   \n",
       "167   168                   Somalia          67           Africa   \n",
       "84     85  Turks and Caicos Islands          84  Central America   \n",
       "107   108  Northern Mariana Islands          81          Oceania   \n",
       "96     97            Cayman Islands          82  Central America   \n",
       "\n",
       "     Literacy Rate  Nobel Prices  HDI (2021)  Mean years of schooling - 2021  \\\n",
       "9                0           111           0                              14   \n",
       "0                0            29           0                              13   \n",
       "12               1             2           0                              13   \n",
       "24               0             1           0                              13   \n",
       "28               1            13           0                              13   \n",
       "..             ...           ...         ...                             ...   \n",
       "124              0             0           0                               0   \n",
       "167              0             0           0                               0   \n",
       "84               0             0           0                               0   \n",
       "107              0             0           0                               0   \n",
       "96               0             0           0                               0   \n",
       "\n",
       "      GNI - 2021 Population - 2023  \n",
       "9          54534          83294633  \n",
       "0          42274         123294513  \n",
       "12         84649           654.768  \n",
       "24         55782           375.319  \n",
       "28         64660           5474360  \n",
       "..           ...               ...  \n",
       "124            0           1360596  \n",
       "167            0          18143379  \n",
       "84             0            44.104  \n",
       "107            0            49.796  \n",
       "96             0             69310  \n",
       "\n",
       "[193 rows x 10 columns]"
      ]
     },
     "execution_count": 29,
     "metadata": {},
     "output_type": "execute_result"
    }
   ],
   "source": [
    "df.sort_values(\"Mean years of schooling - 2021\",ascending = False)"
   ]
  },
  {
   "cell_type": "code",
   "execution_count": 30,
   "id": "738a9dc9-ecee-4251-8485-b79ebd1e140d",
   "metadata": {},
   "outputs": [
    {
     "data": {
      "text/html": [
       "<div>\n",
       "<style scoped>\n",
       "    .dataframe tbody tr th:only-of-type {\n",
       "        vertical-align: middle;\n",
       "    }\n",
       "\n",
       "    .dataframe tbody tr th {\n",
       "        vertical-align: top;\n",
       "    }\n",
       "\n",
       "    .dataframe thead th {\n",
       "        text-align: right;\n",
       "    }\n",
       "</style>\n",
       "<table border=\"1\" class=\"dataframe\">\n",
       "  <thead>\n",
       "    <tr style=\"text-align: right;\">\n",
       "      <th></th>\n",
       "      <th>Rank</th>\n",
       "      <th>Country</th>\n",
       "      <th>Average IQ</th>\n",
       "      <th>Continent</th>\n",
       "      <th>Literacy Rate</th>\n",
       "      <th>Nobel Prices</th>\n",
       "      <th>HDI (2021)</th>\n",
       "      <th>Mean years of schooling - 2021</th>\n",
       "      <th>GNI - 2021</th>\n",
       "      <th>Population - 2023</th>\n",
       "    </tr>\n",
       "  </thead>\n",
       "  <tbody>\n",
       "    <tr>\n",
       "      <th>192</th>\n",
       "      <td>193</td>\n",
       "      <td>Nepal</td>\n",
       "      <td>42</td>\n",
       "      <td>Asia</td>\n",
       "      <td>0</td>\n",
       "      <td>0</td>\n",
       "      <td>0</td>\n",
       "      <td>5</td>\n",
       "      <td>3877</td>\n",
       "      <td>30896590</td>\n",
       "    </tr>\n",
       "    <tr>\n",
       "      <th>191</th>\n",
       "      <td>192</td>\n",
       "      <td>Sierra Leone</td>\n",
       "      <td>45</td>\n",
       "      <td>Africa</td>\n",
       "      <td>0</td>\n",
       "      <td>0</td>\n",
       "      <td>0</td>\n",
       "      <td>4</td>\n",
       "      <td>1622</td>\n",
       "      <td>8791092</td>\n",
       "    </tr>\n",
       "    <tr>\n",
       "      <th>190</th>\n",
       "      <td>191</td>\n",
       "      <td>Liberia</td>\n",
       "      <td>45</td>\n",
       "      <td>Africa</td>\n",
       "      <td>0</td>\n",
       "      <td>2</td>\n",
       "      <td>0</td>\n",
       "      <td>5</td>\n",
       "      <td>1289</td>\n",
       "      <td>5418377</td>\n",
       "    </tr>\n",
       "    <tr>\n",
       "      <th>189</th>\n",
       "      <td>190</td>\n",
       "      <td>Guatemala</td>\n",
       "      <td>47</td>\n",
       "      <td>Central America</td>\n",
       "      <td>0</td>\n",
       "      <td>2</td>\n",
       "      <td>0</td>\n",
       "      <td>5</td>\n",
       "      <td>8723</td>\n",
       "      <td>18092026</td>\n",
       "    </tr>\n",
       "  </tbody>\n",
       "</table>\n",
       "</div>"
      ],
      "text/plain": [
       "     Rank       Country  Average IQ        Continent  Literacy Rate  \\\n",
       "192   193         Nepal          42             Asia              0   \n",
       "191   192  Sierra Leone          45           Africa              0   \n",
       "190   191       Liberia          45           Africa              0   \n",
       "189   190     Guatemala          47  Central America              0   \n",
       "\n",
       "     Nobel Prices  HDI (2021)  Mean years of schooling - 2021   GNI - 2021  \\\n",
       "192             0           0                               5         3877   \n",
       "191             0           0                               4         1622   \n",
       "190             2           0                               5         1289   \n",
       "189             2           0                               5         8723   \n",
       "\n",
       "    Population - 2023  \n",
       "192          30896590  \n",
       "191           8791092  \n",
       "190           5418377  \n",
       "189          18092026  "
      ]
     },
     "execution_count": 30,
     "metadata": {},
     "output_type": "execute_result"
    }
   ],
   "source": [
    "df.nlargest(4,\"Rank\")"
   ]
  },
  {
   "cell_type": "code",
   "execution_count": 31,
   "id": "a9cf2955-5b74-4e27-97d0-1bfe86f88bd8",
   "metadata": {},
   "outputs": [
    {
     "data": {
      "text/html": [
       "<div>\n",
       "<style scoped>\n",
       "    .dataframe tbody tr th:only-of-type {\n",
       "        vertical-align: middle;\n",
       "    }\n",
       "\n",
       "    .dataframe tbody tr th {\n",
       "        vertical-align: top;\n",
       "    }\n",
       "\n",
       "    .dataframe thead th {\n",
       "        text-align: right;\n",
       "    }\n",
       "</style>\n",
       "<table border=\"1\" class=\"dataframe\">\n",
       "  <thead>\n",
       "    <tr style=\"text-align: right;\">\n",
       "      <th></th>\n",
       "      <th>Rank</th>\n",
       "      <th>Country</th>\n",
       "      <th>Average IQ</th>\n",
       "      <th>Continent</th>\n",
       "      <th>Literacy Rate</th>\n",
       "      <th>Nobel Prices</th>\n",
       "      <th>HDI (2021)</th>\n",
       "      <th>Mean years of schooling - 2021</th>\n",
       "      <th>GNI - 2021</th>\n",
       "      <th>Population - 2023</th>\n",
       "    </tr>\n",
       "  </thead>\n",
       "  <tbody>\n",
       "    <tr>\n",
       "      <th>0</th>\n",
       "      <td>1</td>\n",
       "      <td>Japan</td>\n",
       "      <td>106</td>\n",
       "      <td>Asia</td>\n",
       "      <td>0</td>\n",
       "      <td>29</td>\n",
       "      <td>0</td>\n",
       "      <td>13</td>\n",
       "      <td>42274</td>\n",
       "      <td>123294513</td>\n",
       "    </tr>\n",
       "    <tr>\n",
       "      <th>1</th>\n",
       "      <td>2</td>\n",
       "      <td>Taiwan</td>\n",
       "      <td>106</td>\n",
       "      <td>Asia</td>\n",
       "      <td>0</td>\n",
       "      <td>4</td>\n",
       "      <td>0</td>\n",
       "      <td>0</td>\n",
       "      <td>0</td>\n",
       "      <td>10143543</td>\n",
       "    </tr>\n",
       "    <tr>\n",
       "      <th>2</th>\n",
       "      <td>3</td>\n",
       "      <td>Singapore</td>\n",
       "      <td>105</td>\n",
       "      <td>Asia</td>\n",
       "      <td>0</td>\n",
       "      <td>0</td>\n",
       "      <td>0</td>\n",
       "      <td>11</td>\n",
       "      <td>90919</td>\n",
       "      <td>6014723</td>\n",
       "    </tr>\n",
       "    <tr>\n",
       "      <th>3</th>\n",
       "      <td>4</td>\n",
       "      <td>Hong Kong</td>\n",
       "      <td>105</td>\n",
       "      <td>Asia</td>\n",
       "      <td>0</td>\n",
       "      <td>1</td>\n",
       "      <td>0</td>\n",
       "      <td>12</td>\n",
       "      <td>62607</td>\n",
       "      <td>7491609</td>\n",
       "    </tr>\n",
       "    <tr>\n",
       "      <th>4</th>\n",
       "      <td>5</td>\n",
       "      <td>China</td>\n",
       "      <td>104</td>\n",
       "      <td>Asia</td>\n",
       "      <td>0</td>\n",
       "      <td>8</td>\n",
       "      <td>0</td>\n",
       "      <td>7</td>\n",
       "      <td>17504</td>\n",
       "      <td>1425671352</td>\n",
       "    </tr>\n",
       "    <tr>\n",
       "      <th>5</th>\n",
       "      <td>6</td>\n",
       "      <td>South Korea</td>\n",
       "      <td>102</td>\n",
       "      <td>Asia</td>\n",
       "      <td>0</td>\n",
       "      <td>0</td>\n",
       "      <td>0</td>\n",
       "      <td>12</td>\n",
       "      <td>44501</td>\n",
       "      <td>51784059</td>\n",
       "    </tr>\n",
       "  </tbody>\n",
       "</table>\n",
       "</div>"
      ],
      "text/plain": [
       "   Rank      Country  Average IQ Continent  Literacy Rate  Nobel Prices  \\\n",
       "0     1        Japan         106      Asia              0            29   \n",
       "1     2       Taiwan         106      Asia              0             4   \n",
       "2     3    Singapore         105      Asia              0             0   \n",
       "3     4    Hong Kong         105      Asia              0             1   \n",
       "4     5        China         104      Asia              0             8   \n",
       "5     6  South Korea         102      Asia              0             0   \n",
       "\n",
       "   HDI (2021)  Mean years of schooling - 2021   GNI - 2021 Population - 2023  \n",
       "0           0                              13        42274         123294513  \n",
       "1           0                               0            0          10143543  \n",
       "2           0                              11        90919           6014723  \n",
       "3           0                              12        62607           7491609  \n",
       "4           0                               7        17504        1425671352  \n",
       "5           0                              12        44501          51784059  "
      ]
     },
     "execution_count": 31,
     "metadata": {},
     "output_type": "execute_result"
    }
   ],
   "source": [
    "df.nsmallest(6,\"Rank\")"
   ]
  },
  {
   "cell_type": "code",
   "execution_count": 32,
   "id": "ede11879-eede-43d1-a397-a374d2ced011",
   "metadata": {},
   "outputs": [
    {
     "data": {
      "text/html": [
       "<div>\n",
       "<style scoped>\n",
       "    .dataframe tbody tr th:only-of-type {\n",
       "        vertical-align: middle;\n",
       "    }\n",
       "\n",
       "    .dataframe tbody tr th {\n",
       "        vertical-align: top;\n",
       "    }\n",
       "\n",
       "    .dataframe thead th {\n",
       "        text-align: right;\n",
       "    }\n",
       "</style>\n",
       "<table border=\"1\" class=\"dataframe\">\n",
       "  <thead>\n",
       "    <tr style=\"text-align: right;\">\n",
       "      <th></th>\n",
       "      <th>Rank</th>\n",
       "      <th>Country</th>\n",
       "      <th>Average IQ</th>\n",
       "      <th>Continent</th>\n",
       "      <th>Literacy Rate</th>\n",
       "      <th>Nobel Prices</th>\n",
       "      <th>HDI (2021)</th>\n",
       "      <th>Mean years of schooling - 2021</th>\n",
       "      <th>GNI - 2021</th>\n",
       "      <th>Population - 2023</th>\n",
       "    </tr>\n",
       "  </thead>\n",
       "  <tbody>\n",
       "    <tr>\n",
       "      <th>10</th>\n",
       "      <td>11</td>\n",
       "      <td>Netherlands</td>\n",
       "      <td>100</td>\n",
       "      <td>Europe</td>\n",
       "      <td>0</td>\n",
       "      <td>22</td>\n",
       "      <td>0</td>\n",
       "      <td>12</td>\n",
       "      <td>55979</td>\n",
       "      <td>17618299</td>\n",
       "    </tr>\n",
       "    <tr>\n",
       "      <th>11</th>\n",
       "      <td>12</td>\n",
       "      <td>Estonia</td>\n",
       "      <td>100</td>\n",
       "      <td>Europe</td>\n",
       "      <td>1</td>\n",
       "      <td>0</td>\n",
       "      <td>0</td>\n",
       "      <td>13</td>\n",
       "      <td>38048</td>\n",
       "      <td>1322766</td>\n",
       "    </tr>\n",
       "    <tr>\n",
       "      <th>12</th>\n",
       "      <td>13</td>\n",
       "      <td>Luxembourg</td>\n",
       "      <td>99</td>\n",
       "      <td>Europe</td>\n",
       "      <td>1</td>\n",
       "      <td>2</td>\n",
       "      <td>0</td>\n",
       "      <td>13</td>\n",
       "      <td>84649</td>\n",
       "      <td>654.768</td>\n",
       "    </tr>\n",
       "    <tr>\n",
       "      <th>13</th>\n",
       "      <td>14</td>\n",
       "      <td>Macao</td>\n",
       "      <td>99</td>\n",
       "      <td>Asia</td>\n",
       "      <td>0</td>\n",
       "      <td>0</td>\n",
       "      <td>0</td>\n",
       "      <td>0</td>\n",
       "      <td>0</td>\n",
       "      <td>704.15</td>\n",
       "    </tr>\n",
       "    <tr>\n",
       "      <th>14</th>\n",
       "      <td>15</td>\n",
       "      <td>Cambodia</td>\n",
       "      <td>99</td>\n",
       "      <td>Asia</td>\n",
       "      <td>0</td>\n",
       "      <td>0</td>\n",
       "      <td>0</td>\n",
       "      <td>5</td>\n",
       "      <td>4079</td>\n",
       "      <td>16944826</td>\n",
       "    </tr>\n",
       "    <tr>\n",
       "      <th>15</th>\n",
       "      <td>16</td>\n",
       "      <td>Canada</td>\n",
       "      <td>99</td>\n",
       "      <td>North America</td>\n",
       "      <td>0</td>\n",
       "      <td>28</td>\n",
       "      <td>0</td>\n",
       "      <td>13</td>\n",
       "      <td>46808</td>\n",
       "      <td>38781292</td>\n",
       "    </tr>\n",
       "    <tr>\n",
       "      <th>16</th>\n",
       "      <td>17</td>\n",
       "      <td>Australia</td>\n",
       "      <td>99</td>\n",
       "      <td>Oceania</td>\n",
       "      <td>0</td>\n",
       "      <td>12</td>\n",
       "      <td>0</td>\n",
       "      <td>12</td>\n",
       "      <td>49238</td>\n",
       "      <td>26439112</td>\n",
       "    </tr>\n",
       "    <tr>\n",
       "      <th>17</th>\n",
       "      <td>18</td>\n",
       "      <td>Hungary</td>\n",
       "      <td>99</td>\n",
       "      <td>Europe</td>\n",
       "      <td>0</td>\n",
       "      <td>13</td>\n",
       "      <td>0</td>\n",
       "      <td>12</td>\n",
       "      <td>32789</td>\n",
       "      <td>10156239</td>\n",
       "    </tr>\n",
       "    <tr>\n",
       "      <th>18</th>\n",
       "      <td>19</td>\n",
       "      <td>Switzerland</td>\n",
       "      <td>99</td>\n",
       "      <td>Europe</td>\n",
       "      <td>0</td>\n",
       "      <td>27</td>\n",
       "      <td>0</td>\n",
       "      <td>13</td>\n",
       "      <td>66933</td>\n",
       "      <td>8796669</td>\n",
       "    </tr>\n",
       "    <tr>\n",
       "      <th>19</th>\n",
       "      <td>20</td>\n",
       "      <td>United Kingdom</td>\n",
       "      <td>99</td>\n",
       "      <td>Europe</td>\n",
       "      <td>0</td>\n",
       "      <td>137</td>\n",
       "      <td>0</td>\n",
       "      <td>13</td>\n",
       "      <td>45225</td>\n",
       "      <td>67736802</td>\n",
       "    </tr>\n",
       "    <tr>\n",
       "      <th>20</th>\n",
       "      <td>21</td>\n",
       "      <td>North Korea</td>\n",
       "      <td>98</td>\n",
       "      <td>Asia</td>\n",
       "      <td>1</td>\n",
       "      <td>0</td>\n",
       "      <td>0</td>\n",
       "      <td>0</td>\n",
       "      <td>0</td>\n",
       "      <td>26160822</td>\n",
       "    </tr>\n",
       "    <tr>\n",
       "      <th>21</th>\n",
       "      <td>22</td>\n",
       "      <td>Slovenia</td>\n",
       "      <td>98</td>\n",
       "      <td>Europe</td>\n",
       "      <td>1</td>\n",
       "      <td>1</td>\n",
       "      <td>0</td>\n",
       "      <td>12</td>\n",
       "      <td>39746</td>\n",
       "      <td>2119675</td>\n",
       "    </tr>\n",
       "  </tbody>\n",
       "</table>\n",
       "</div>"
      ],
      "text/plain": [
       "    Rank         Country  Average IQ      Continent  Literacy Rate  \\\n",
       "10    11     Netherlands         100         Europe              0   \n",
       "11    12         Estonia         100         Europe              1   \n",
       "12    13      Luxembourg          99         Europe              1   \n",
       "13    14           Macao          99           Asia              0   \n",
       "14    15        Cambodia          99           Asia              0   \n",
       "15    16          Canada          99  North America              0   \n",
       "16    17       Australia          99        Oceania              0   \n",
       "17    18         Hungary          99         Europe              0   \n",
       "18    19     Switzerland          99         Europe              0   \n",
       "19    20  United Kingdom          99         Europe              0   \n",
       "20    21     North Korea          98           Asia              1   \n",
       "21    22        Slovenia          98         Europe              1   \n",
       "\n",
       "    Nobel Prices  HDI (2021)  Mean years of schooling - 2021   GNI - 2021  \\\n",
       "10            22           0                              12        55979   \n",
       "11             0           0                              13        38048   \n",
       "12             2           0                              13        84649   \n",
       "13             0           0                               0            0   \n",
       "14             0           0                               5         4079   \n",
       "15            28           0                              13        46808   \n",
       "16            12           0                              12        49238   \n",
       "17            13           0                              12        32789   \n",
       "18            27           0                              13        66933   \n",
       "19           137           0                              13        45225   \n",
       "20             0           0                               0            0   \n",
       "21             1           0                              12        39746   \n",
       "\n",
       "   Population - 2023  \n",
       "10          17618299  \n",
       "11           1322766  \n",
       "12           654.768  \n",
       "13            704.15  \n",
       "14          16944826  \n",
       "15          38781292  \n",
       "16          26439112  \n",
       "17          10156239  \n",
       "18           8796669  \n",
       "19          67736802  \n",
       "20          26160822  \n",
       "21           2119675  "
      ]
     },
     "execution_count": 32,
     "metadata": {},
     "output_type": "execute_result"
    }
   ],
   "source": [
    "df[(df.Rank\t< 23) & (df.Rank> 10)]"
   ]
  },
  {
   "cell_type": "code",
   "execution_count": 33,
   "id": "0502ea97-0332-446f-ad45-f46a1ec2316f",
   "metadata": {},
   "outputs": [
    {
     "data": {
      "text/html": [
       "<div>\n",
       "<style scoped>\n",
       "    .dataframe tbody tr th:only-of-type {\n",
       "        vertical-align: middle;\n",
       "    }\n",
       "\n",
       "    .dataframe tbody tr th {\n",
       "        vertical-align: top;\n",
       "    }\n",
       "\n",
       "    .dataframe thead th {\n",
       "        text-align: right;\n",
       "    }\n",
       "</style>\n",
       "<table border=\"1\" class=\"dataframe\">\n",
       "  <thead>\n",
       "    <tr style=\"text-align: right;\">\n",
       "      <th></th>\n",
       "      <th>Rank</th>\n",
       "      <th>Country</th>\n",
       "      <th>Average IQ</th>\n",
       "      <th>Continent</th>\n",
       "      <th>Literacy Rate</th>\n",
       "      <th>Nobel Prices</th>\n",
       "      <th>HDI (2021)</th>\n",
       "      <th>Mean years of schooling - 2021</th>\n",
       "      <th>GNI - 2021</th>\n",
       "      <th>Population - 2023</th>\n",
       "    </tr>\n",
       "  </thead>\n",
       "  <tbody>\n",
       "    <tr>\n",
       "      <th>0</th>\n",
       "      <td>1</td>\n",
       "      <td>Japan</td>\n",
       "      <td>106</td>\n",
       "      <td>Asia</td>\n",
       "      <td>0</td>\n",
       "      <td>29</td>\n",
       "      <td>0</td>\n",
       "      <td>13</td>\n",
       "      <td>42274</td>\n",
       "      <td>123294513</td>\n",
       "    </tr>\n",
       "    <tr>\n",
       "      <th>1</th>\n",
       "      <td>2</td>\n",
       "      <td>Taiwan</td>\n",
       "      <td>106</td>\n",
       "      <td>Asia</td>\n",
       "      <td>0</td>\n",
       "      <td>4</td>\n",
       "      <td>0</td>\n",
       "      <td>0</td>\n",
       "      <td>0</td>\n",
       "      <td>10143543</td>\n",
       "    </tr>\n",
       "    <tr>\n",
       "      <th>2</th>\n",
       "      <td>3</td>\n",
       "      <td>Singapore</td>\n",
       "      <td>105</td>\n",
       "      <td>Asia</td>\n",
       "      <td>0</td>\n",
       "      <td>0</td>\n",
       "      <td>0</td>\n",
       "      <td>11</td>\n",
       "      <td>90919</td>\n",
       "      <td>6014723</td>\n",
       "    </tr>\n",
       "    <tr>\n",
       "      <th>3</th>\n",
       "      <td>4</td>\n",
       "      <td>Hong Kong</td>\n",
       "      <td>105</td>\n",
       "      <td>Asia</td>\n",
       "      <td>0</td>\n",
       "      <td>1</td>\n",
       "      <td>0</td>\n",
       "      <td>12</td>\n",
       "      <td>62607</td>\n",
       "      <td>7491609</td>\n",
       "    </tr>\n",
       "    <tr>\n",
       "      <th>4</th>\n",
       "      <td>5</td>\n",
       "      <td>China</td>\n",
       "      <td>104</td>\n",
       "      <td>Asia</td>\n",
       "      <td>0</td>\n",
       "      <td>8</td>\n",
       "      <td>0</td>\n",
       "      <td>7</td>\n",
       "      <td>17504</td>\n",
       "      <td>1425671352</td>\n",
       "    </tr>\n",
       "    <tr>\n",
       "      <th>...</th>\n",
       "      <td>...</td>\n",
       "      <td>...</td>\n",
       "      <td>...</td>\n",
       "      <td>...</td>\n",
       "      <td>...</td>\n",
       "      <td>...</td>\n",
       "      <td>...</td>\n",
       "      <td>...</td>\n",
       "      <td>...</td>\n",
       "      <td>...</td>\n",
       "    </tr>\n",
       "    <tr>\n",
       "      <th>188</th>\n",
       "      <td>189</td>\n",
       "      <td>Gambia</td>\n",
       "      <td>52</td>\n",
       "      <td>Africa</td>\n",
       "      <td>0</td>\n",
       "      <td>0</td>\n",
       "      <td>0</td>\n",
       "      <td>4</td>\n",
       "      <td>2172</td>\n",
       "      <td>2773168</td>\n",
       "    </tr>\n",
       "    <tr>\n",
       "      <th>189</th>\n",
       "      <td>190</td>\n",
       "      <td>Guatemala</td>\n",
       "      <td>47</td>\n",
       "      <td>Central America</td>\n",
       "      <td>0</td>\n",
       "      <td>2</td>\n",
       "      <td>0</td>\n",
       "      <td>5</td>\n",
       "      <td>8723</td>\n",
       "      <td>18092026</td>\n",
       "    </tr>\n",
       "    <tr>\n",
       "      <th>190</th>\n",
       "      <td>191</td>\n",
       "      <td>Liberia</td>\n",
       "      <td>45</td>\n",
       "      <td>Africa</td>\n",
       "      <td>0</td>\n",
       "      <td>2</td>\n",
       "      <td>0</td>\n",
       "      <td>5</td>\n",
       "      <td>1289</td>\n",
       "      <td>5418377</td>\n",
       "    </tr>\n",
       "    <tr>\n",
       "      <th>191</th>\n",
       "      <td>192</td>\n",
       "      <td>Sierra Leone</td>\n",
       "      <td>45</td>\n",
       "      <td>Africa</td>\n",
       "      <td>0</td>\n",
       "      <td>0</td>\n",
       "      <td>0</td>\n",
       "      <td>4</td>\n",
       "      <td>1622</td>\n",
       "      <td>8791092</td>\n",
       "    </tr>\n",
       "    <tr>\n",
       "      <th>192</th>\n",
       "      <td>193</td>\n",
       "      <td>Nepal</td>\n",
       "      <td>42</td>\n",
       "      <td>Asia</td>\n",
       "      <td>0</td>\n",
       "      <td>0</td>\n",
       "      <td>0</td>\n",
       "      <td>5</td>\n",
       "      <td>3877</td>\n",
       "      <td>30896590</td>\n",
       "    </tr>\n",
       "  </tbody>\n",
       "</table>\n",
       "<p>193 rows × 10 columns</p>\n",
       "</div>"
      ],
      "text/plain": [
       "     Rank       Country  Average IQ        Continent  Literacy Rate  \\\n",
       "0       1         Japan         106             Asia              0   \n",
       "1       2        Taiwan         106             Asia              0   \n",
       "2       3     Singapore         105             Asia              0   \n",
       "3       4     Hong Kong         105             Asia              0   \n",
       "4       5         China         104             Asia              0   \n",
       "..    ...           ...         ...              ...            ...   \n",
       "188   189        Gambia          52           Africa              0   \n",
       "189   190     Guatemala          47  Central America              0   \n",
       "190   191       Liberia          45           Africa              0   \n",
       "191   192  Sierra Leone          45           Africa              0   \n",
       "192   193         Nepal          42             Asia              0   \n",
       "\n",
       "     Nobel Prices  HDI (2021)  Mean years of schooling - 2021   GNI - 2021  \\\n",
       "0              29           0                              13        42274   \n",
       "1               4           0                               0            0   \n",
       "2               0           0                              11        90919   \n",
       "3               1           0                              12        62607   \n",
       "4               8           0                               7        17504   \n",
       "..            ...         ...                             ...          ...   \n",
       "188             0           0                               4         2172   \n",
       "189             2           0                               5         8723   \n",
       "190             2           0                               5         1289   \n",
       "191             0           0                               4         1622   \n",
       "192             0           0                               5         3877   \n",
       "\n",
       "    Population - 2023  \n",
       "0           123294513  \n",
       "1            10143543  \n",
       "2             6014723  \n",
       "3             7491609  \n",
       "4          1425671352  \n",
       "..                ...  \n",
       "188           2773168  \n",
       "189          18092026  \n",
       "190           5418377  \n",
       "191           8791092  \n",
       "192          30896590  \n",
       "\n",
       "[193 rows x 10 columns]"
      ]
     },
     "execution_count": 33,
     "metadata": {},
     "output_type": "execute_result"
    }
   ],
   "source": [
    "df[(df.Rank\t< 23) | (df.Rank> 10)]"
   ]
  },
  {
   "cell_type": "code",
   "execution_count": 34,
   "id": "ded7ccff-76f7-4241-badd-e5d49dcee3ba",
   "metadata": {},
   "outputs": [
    {
     "data": {
      "text/plain": [
       "10    11\n",
       "11    12\n",
       "12    13\n",
       "13    14\n",
       "14    15\n",
       "15    16\n",
       "16    17\n",
       "17    18\n",
       "18    19\n",
       "19    20\n",
       "20    21\n",
       "21    22\n",
       "Name: Rank, dtype: int32"
      ]
     },
     "execution_count": 34,
     "metadata": {},
     "output_type": "execute_result"
    }
   ],
   "source": [
    "df[\"Rank\"][(df.Rank\t< 23) & (df.Rank> 10)]"
   ]
  },
  {
   "cell_type": "code",
   "execution_count": 35,
   "id": "14225973-5267-47b8-81df-57d13d8eff72",
   "metadata": {},
   "outputs": [
    {
     "data": {
      "text/plain": [
       "0      NaN\n",
       "1      NaN\n",
       "2      NaN\n",
       "3      NaN\n",
       "4      NaN\n",
       "      ... \n",
       "188    0.0\n",
       "189    2.0\n",
       "190    2.0\n",
       "191    0.0\n",
       "192    0.0\n",
       "Name: Nobel Prices, Length: 193, dtype: float64"
      ]
     },
     "execution_count": 35,
     "metadata": {},
     "output_type": "execute_result"
    }
   ],
   "source": [
    "df[\"Nobel Prices\"].where (df[\"Rank\"] > 60)"
   ]
  },
  {
   "cell_type": "markdown",
   "id": "af8fefe6-f03e-4508-9ff6-ce243572f479",
   "metadata": {},
   "source": [
    "# 3. Statistical analysis of dataset"
   ]
  },
  {
   "cell_type": "markdown",
   "id": "c655e4ea-906b-451c-b6c6-89e47234a4ae",
   "metadata": {},
   "source": [
    "### statistics :\n",
    "  * Statistics play a pivotal role in Exploratory Data Analysis (EDA) by providing the tools and methods necessary to summarize, visualize, and interpret data effectively. Here's how statistics are utilized in EDA:\n",
    "  * Descriptive statistics offer numerical summaries that help in understanding the central tendency, dispersion, and shape of the data distribution. Key measures include:\n",
    "  * sum : Provides an aggregate measure, useful for understanding the total magnitude of a variable, such as total sales or total revenue.\n",
    "  * min : To identify the lower bound of the data, which is essential for understanding the range and detecting potential outliers.\n",
    "  * max : Indicates the upper bound of the data, aiding in assessing the spread and identifying extreme values.\n",
    "  * mean : Represents the central tendency of the data, providing a measure of the \"typical\" value. However, it can be sensitive to outliers.\n",
    "  * median : Offers a robust measure of central tendency, especially useful when the data contains outliers or is skewed.\n",
    "  * mode : To  Identifies the most common value(s), which can be particularly informative for categorical data or understanding the distribution's peaks.\n",
    "  * standard deviation : Quantifies the spread of the data around the mean, helping to understand the variability within the dataset. A higher standard deviation indicates more spread out data."
   ]
  },
  {
   "cell_type": "code",
   "execution_count": 38,
   "id": "908de9da-e168-417e-be7f-e294e085eedc",
   "metadata": {},
   "outputs": [
    {
     "data": {
      "text/plain": [
       "15732"
      ]
     },
     "execution_count": 38,
     "metadata": {},
     "output_type": "execute_result"
    }
   ],
   "source": [
    "df[\"Average IQ\"].sum()"
   ]
  },
  {
   "cell_type": "code",
   "execution_count": 39,
   "id": "d51e940a-daed-4f17-aaae-295c3a114848",
   "metadata": {},
   "outputs": [
    {
     "data": {
      "text/plain": [
       "81.51295336787565"
      ]
     },
     "execution_count": 39,
     "metadata": {},
     "output_type": "execute_result"
    }
   ],
   "source": [
    "df[\"Average IQ\"].mean()"
   ]
  },
  {
   "cell_type": "code",
   "execution_count": 40,
   "id": "0cb8bb46-cf03-450c-a9eb-bee144fc94d5",
   "metadata": {},
   "outputs": [
    {
     "data": {
      "text/plain": [
       "14"
      ]
     },
     "execution_count": 40,
     "metadata": {},
     "output_type": "execute_result"
    }
   ],
   "source": [
    "df[\"Mean years of schooling - 2021\"].max()"
   ]
  },
  {
   "cell_type": "code",
   "execution_count": 41,
   "id": "dc205a31-76cf-4d6c-a9dd-cc7c7ddea2bd",
   "metadata": {},
   "outputs": [
    {
     "data": {
      "text/plain": [
       "'\\t39315'"
      ]
     },
     "execution_count": 41,
     "metadata": {},
     "output_type": "execute_result"
    }
   ],
   "source": [
    "df[\"Population - 2023\"].min()"
   ]
  },
  {
   "cell_type": "code",
   "execution_count": 42,
   "id": "193d3795-77e4-45ab-b70a-cad25c37dfd8",
   "metadata": {},
   "outputs": [
    {
     "data": {
      "text/plain": [
       "0    Africa\n",
       "Name: Continent, dtype: object"
      ]
     },
     "execution_count": 42,
     "metadata": {},
     "output_type": "execute_result"
    }
   ],
   "source": [
    "df[\"Continent\"].mode()"
   ]
  },
  {
   "cell_type": "code",
   "execution_count": 43,
   "id": "efc1a08b-1925-4cf3-8ed0-253d2951033f",
   "metadata": {},
   "outputs": [
    {
     "data": {
      "text/plain": [
       "array(['Asia', 'Europe', 'North America', 'Oceania', 'Europe/Asia',\n",
       "       'Central America', 'South America', 'Africa'], dtype=object)"
      ]
     },
     "execution_count": 43,
     "metadata": {},
     "output_type": "execute_result"
    }
   ],
   "source": [
    "df[\"Continent\"].unique()"
   ]
  },
  {
   "cell_type": "code",
   "execution_count": 44,
   "id": "27eeb2dd-3860-40f9-8896-d791ebafef2c",
   "metadata": {},
   "outputs": [
    {
     "data": {
      "text/plain": [
       "193"
      ]
     },
     "execution_count": 44,
     "metadata": {},
     "output_type": "execute_result"
    }
   ],
   "source": [
    "df[\"Continent\"].count()"
   ]
  },
  {
   "cell_type": "code",
   "execution_count": 45,
   "id": "007dccb2-af8d-4d13-a511-c935af54a042",
   "metadata": {},
   "outputs": [
    {
     "data": {
      "text/html": [
       "<div>\n",
       "<style scoped>\n",
       "    .dataframe tbody tr th:only-of-type {\n",
       "        vertical-align: middle;\n",
       "    }\n",
       "\n",
       "    .dataframe tbody tr th {\n",
       "        vertical-align: top;\n",
       "    }\n",
       "\n",
       "    .dataframe thead th {\n",
       "        text-align: right;\n",
       "    }\n",
       "</style>\n",
       "<table border=\"1\" class=\"dataframe\">\n",
       "  <thead>\n",
       "    <tr style=\"text-align: right;\">\n",
       "      <th></th>\n",
       "      <th>Rank</th>\n",
       "      <th>Country</th>\n",
       "      <th>Average IQ</th>\n",
       "      <th>Literacy Rate</th>\n",
       "      <th>Nobel Prices</th>\n",
       "      <th>HDI (2021)</th>\n",
       "      <th>Mean years of schooling - 2021</th>\n",
       "      <th>GNI - 2021</th>\n",
       "      <th>Population - 2023</th>\n",
       "    </tr>\n",
       "    <tr>\n",
       "      <th>Continent</th>\n",
       "      <th></th>\n",
       "      <th></th>\n",
       "      <th></th>\n",
       "      <th></th>\n",
       "      <th></th>\n",
       "      <th></th>\n",
       "      <th></th>\n",
       "      <th></th>\n",
       "      <th></th>\n",
       "    </tr>\n",
       "  </thead>\n",
       "  <tbody>\n",
       "    <tr>\n",
       "      <th>Africa</th>\n",
       "      <td>52</td>\n",
       "      <td>52</td>\n",
       "      <td>52</td>\n",
       "      <td>52</td>\n",
       "      <td>52</td>\n",
       "      <td>52</td>\n",
       "      <td>52</td>\n",
       "      <td>52</td>\n",
       "      <td>52</td>\n",
       "    </tr>\n",
       "    <tr>\n",
       "      <th>Asia</th>\n",
       "      <td>48</td>\n",
       "      <td>48</td>\n",
       "      <td>48</td>\n",
       "      <td>48</td>\n",
       "      <td>48</td>\n",
       "      <td>48</td>\n",
       "      <td>48</td>\n",
       "      <td>48</td>\n",
       "      <td>48</td>\n",
       "    </tr>\n",
       "    <tr>\n",
       "      <th>Central America</th>\n",
       "      <td>23</td>\n",
       "      <td>23</td>\n",
       "      <td>23</td>\n",
       "      <td>23</td>\n",
       "      <td>23</td>\n",
       "      <td>23</td>\n",
       "      <td>23</td>\n",
       "      <td>23</td>\n",
       "      <td>23</td>\n",
       "    </tr>\n",
       "    <tr>\n",
       "      <th>Europe</th>\n",
       "      <td>41</td>\n",
       "      <td>41</td>\n",
       "      <td>41</td>\n",
       "      <td>41</td>\n",
       "      <td>41</td>\n",
       "      <td>41</td>\n",
       "      <td>41</td>\n",
       "      <td>41</td>\n",
       "      <td>41</td>\n",
       "    </tr>\n",
       "    <tr>\n",
       "      <th>Europe/Asia</th>\n",
       "      <td>3</td>\n",
       "      <td>3</td>\n",
       "      <td>3</td>\n",
       "      <td>3</td>\n",
       "      <td>3</td>\n",
       "      <td>3</td>\n",
       "      <td>3</td>\n",
       "      <td>3</td>\n",
       "      <td>3</td>\n",
       "    </tr>\n",
       "    <tr>\n",
       "      <th>North America</th>\n",
       "      <td>4</td>\n",
       "      <td>4</td>\n",
       "      <td>4</td>\n",
       "      <td>4</td>\n",
       "      <td>4</td>\n",
       "      <td>4</td>\n",
       "      <td>4</td>\n",
       "      <td>4</td>\n",
       "      <td>4</td>\n",
       "    </tr>\n",
       "    <tr>\n",
       "      <th>Oceania</th>\n",
       "      <td>10</td>\n",
       "      <td>10</td>\n",
       "      <td>10</td>\n",
       "      <td>10</td>\n",
       "      <td>10</td>\n",
       "      <td>10</td>\n",
       "      <td>10</td>\n",
       "      <td>10</td>\n",
       "      <td>10</td>\n",
       "    </tr>\n",
       "    <tr>\n",
       "      <th>South America</th>\n",
       "      <td>12</td>\n",
       "      <td>12</td>\n",
       "      <td>12</td>\n",
       "      <td>12</td>\n",
       "      <td>12</td>\n",
       "      <td>12</td>\n",
       "      <td>12</td>\n",
       "      <td>12</td>\n",
       "      <td>12</td>\n",
       "    </tr>\n",
       "  </tbody>\n",
       "</table>\n",
       "</div>"
      ],
      "text/plain": [
       "                 Rank  Country  Average IQ  Literacy Rate  Nobel Prices  \\\n",
       "Continent                                                                 \n",
       "Africa             52       52          52             52            52   \n",
       "Asia               48       48          48             48            48   \n",
       "Central America    23       23          23             23            23   \n",
       "Europe             41       41          41             41            41   \n",
       "Europe/Asia         3        3           3              3             3   \n",
       "North America       4        4           4              4             4   \n",
       "Oceania            10       10          10             10            10   \n",
       "South America      12       12          12             12            12   \n",
       "\n",
       "                 HDI (2021)  Mean years of schooling - 2021   GNI - 2021  \\\n",
       "Continent                                                                  \n",
       "Africa                   52                              52           52   \n",
       "Asia                     48                              48           48   \n",
       "Central America          23                              23           23   \n",
       "Europe                   41                              41           41   \n",
       "Europe/Asia               3                               3            3   \n",
       "North America             4                               4            4   \n",
       "Oceania                  10                              10           10   \n",
       "South America            12                              12           12   \n",
       "\n",
       "                 Population - 2023  \n",
       "Continent                           \n",
       "Africa                          52  \n",
       "Asia                            48  \n",
       "Central America                 23  \n",
       "Europe                          41  \n",
       "Europe/Asia                      3  \n",
       "North America                    4  \n",
       "Oceania                         10  \n",
       "South America                   12  "
      ]
     },
     "execution_count": 45,
     "metadata": {},
     "output_type": "execute_result"
    }
   ],
   "source": [
    "df.groupby(\"Continent\").count()"
   ]
  },
  {
   "cell_type": "code",
   "execution_count": 46,
   "id": "35bb369e-ae08-402d-83e8-a229b6f0067c",
   "metadata": {},
   "outputs": [
    {
     "data": {
      "text/html": [
       "<div>\n",
       "<style scoped>\n",
       "    .dataframe tbody tr th:only-of-type {\n",
       "        vertical-align: middle;\n",
       "    }\n",
       "\n",
       "    .dataframe tbody tr th {\n",
       "        vertical-align: top;\n",
       "    }\n",
       "\n",
       "    .dataframe thead th {\n",
       "        text-align: right;\n",
       "    }\n",
       "</style>\n",
       "<table border=\"1\" class=\"dataframe\">\n",
       "  <thead>\n",
       "    <tr style=\"text-align: right;\">\n",
       "      <th></th>\n",
       "      <th>Country</th>\n",
       "      <th>Average IQ</th>\n",
       "      <th>Continent</th>\n",
       "      <th>Literacy Rate</th>\n",
       "      <th>Nobel Prices</th>\n",
       "      <th>HDI (2021)</th>\n",
       "      <th>Mean years of schooling - 2021</th>\n",
       "      <th>GNI - 2021</th>\n",
       "      <th>Population - 2023</th>\n",
       "    </tr>\n",
       "    <tr>\n",
       "      <th>Rank</th>\n",
       "      <th></th>\n",
       "      <th></th>\n",
       "      <th></th>\n",
       "      <th></th>\n",
       "      <th></th>\n",
       "      <th></th>\n",
       "      <th></th>\n",
       "      <th></th>\n",
       "      <th></th>\n",
       "    </tr>\n",
       "  </thead>\n",
       "  <tbody>\n",
       "    <tr>\n",
       "      <th>1</th>\n",
       "      <td>1</td>\n",
       "      <td>1</td>\n",
       "      <td>1</td>\n",
       "      <td>1</td>\n",
       "      <td>1</td>\n",
       "      <td>1</td>\n",
       "      <td>1</td>\n",
       "      <td>1</td>\n",
       "      <td>1</td>\n",
       "    </tr>\n",
       "    <tr>\n",
       "      <th>2</th>\n",
       "      <td>1</td>\n",
       "      <td>1</td>\n",
       "      <td>1</td>\n",
       "      <td>1</td>\n",
       "      <td>1</td>\n",
       "      <td>1</td>\n",
       "      <td>1</td>\n",
       "      <td>1</td>\n",
       "      <td>1</td>\n",
       "    </tr>\n",
       "    <tr>\n",
       "      <th>3</th>\n",
       "      <td>1</td>\n",
       "      <td>1</td>\n",
       "      <td>1</td>\n",
       "      <td>1</td>\n",
       "      <td>1</td>\n",
       "      <td>1</td>\n",
       "      <td>1</td>\n",
       "      <td>1</td>\n",
       "      <td>1</td>\n",
       "    </tr>\n",
       "    <tr>\n",
       "      <th>4</th>\n",
       "      <td>1</td>\n",
       "      <td>1</td>\n",
       "      <td>1</td>\n",
       "      <td>1</td>\n",
       "      <td>1</td>\n",
       "      <td>1</td>\n",
       "      <td>1</td>\n",
       "      <td>1</td>\n",
       "      <td>1</td>\n",
       "    </tr>\n",
       "    <tr>\n",
       "      <th>5</th>\n",
       "      <td>1</td>\n",
       "      <td>1</td>\n",
       "      <td>1</td>\n",
       "      <td>1</td>\n",
       "      <td>1</td>\n",
       "      <td>1</td>\n",
       "      <td>1</td>\n",
       "      <td>1</td>\n",
       "      <td>1</td>\n",
       "    </tr>\n",
       "    <tr>\n",
       "      <th>...</th>\n",
       "      <td>...</td>\n",
       "      <td>...</td>\n",
       "      <td>...</td>\n",
       "      <td>...</td>\n",
       "      <td>...</td>\n",
       "      <td>...</td>\n",
       "      <td>...</td>\n",
       "      <td>...</td>\n",
       "      <td>...</td>\n",
       "    </tr>\n",
       "    <tr>\n",
       "      <th>189</th>\n",
       "      <td>1</td>\n",
       "      <td>1</td>\n",
       "      <td>1</td>\n",
       "      <td>1</td>\n",
       "      <td>1</td>\n",
       "      <td>1</td>\n",
       "      <td>1</td>\n",
       "      <td>1</td>\n",
       "      <td>1</td>\n",
       "    </tr>\n",
       "    <tr>\n",
       "      <th>190</th>\n",
       "      <td>1</td>\n",
       "      <td>1</td>\n",
       "      <td>1</td>\n",
       "      <td>1</td>\n",
       "      <td>1</td>\n",
       "      <td>1</td>\n",
       "      <td>1</td>\n",
       "      <td>1</td>\n",
       "      <td>1</td>\n",
       "    </tr>\n",
       "    <tr>\n",
       "      <th>191</th>\n",
       "      <td>1</td>\n",
       "      <td>1</td>\n",
       "      <td>1</td>\n",
       "      <td>1</td>\n",
       "      <td>1</td>\n",
       "      <td>1</td>\n",
       "      <td>1</td>\n",
       "      <td>1</td>\n",
       "      <td>1</td>\n",
       "    </tr>\n",
       "    <tr>\n",
       "      <th>192</th>\n",
       "      <td>1</td>\n",
       "      <td>1</td>\n",
       "      <td>1</td>\n",
       "      <td>1</td>\n",
       "      <td>1</td>\n",
       "      <td>1</td>\n",
       "      <td>1</td>\n",
       "      <td>1</td>\n",
       "      <td>1</td>\n",
       "    </tr>\n",
       "    <tr>\n",
       "      <th>193</th>\n",
       "      <td>1</td>\n",
       "      <td>1</td>\n",
       "      <td>1</td>\n",
       "      <td>1</td>\n",
       "      <td>1</td>\n",
       "      <td>1</td>\n",
       "      <td>1</td>\n",
       "      <td>1</td>\n",
       "      <td>1</td>\n",
       "    </tr>\n",
       "  </tbody>\n",
       "</table>\n",
       "<p>193 rows × 9 columns</p>\n",
       "</div>"
      ],
      "text/plain": [
       "      Country  Average IQ  Continent  Literacy Rate  Nobel Prices  HDI (2021)  \\\n",
       "Rank                                                                            \n",
       "1           1           1          1              1             1           1   \n",
       "2           1           1          1              1             1           1   \n",
       "3           1           1          1              1             1           1   \n",
       "4           1           1          1              1             1           1   \n",
       "5           1           1          1              1             1           1   \n",
       "...       ...         ...        ...            ...           ...         ...   \n",
       "189         1           1          1              1             1           1   \n",
       "190         1           1          1              1             1           1   \n",
       "191         1           1          1              1             1           1   \n",
       "192         1           1          1              1             1           1   \n",
       "193         1           1          1              1             1           1   \n",
       "\n",
       "      Mean years of schooling - 2021   GNI - 2021  Population - 2023  \n",
       "Rank                                                                  \n",
       "1                                  1            1                  1  \n",
       "2                                  1            1                  1  \n",
       "3                                  1            1                  1  \n",
       "4                                  1            1                  1  \n",
       "5                                  1            1                  1  \n",
       "...                              ...          ...                ...  \n",
       "189                                1            1                  1  \n",
       "190                                1            1                  1  \n",
       "191                                1            1                  1  \n",
       "192                                1            1                  1  \n",
       "193                                1            1                  1  \n",
       "\n",
       "[193 rows x 9 columns]"
      ]
     },
     "execution_count": 46,
     "metadata": {},
     "output_type": "execute_result"
    }
   ],
   "source": [
    "df.groupby(\"Rank\").count()"
   ]
  },
  {
   "cell_type": "code",
   "execution_count": 47,
   "id": "737f803c-95d0-4ffc-9890-f74d9a6bfd08",
   "metadata": {},
   "outputs": [
    {
     "data": {
      "text/plain": [
       "0    78\n",
       "1    83\n",
       "Name: Average IQ, dtype: int32"
      ]
     },
     "execution_count": 47,
     "metadata": {},
     "output_type": "execute_result"
    }
   ],
   "source": [
    "df[\"Average IQ\"].mode()"
   ]
  },
  {
   "cell_type": "code",
   "execution_count": 48,
   "id": "b53705c4-9992-47b7-99ed-e4a14b11a339",
   "metadata": {},
   "outputs": [
    {
     "data": {
      "text/plain": [
       "13.34521949687187"
      ]
     },
     "execution_count": 48,
     "metadata": {},
     "output_type": "execute_result"
    }
   ],
   "source": [
    "df[\"Average IQ\"].std()"
   ]
  },
  {
   "cell_type": "markdown",
   "id": "311b1ae8-058f-400c-9eca-226d7b4b3be8",
   "metadata": {},
   "source": [
    "### Data visualization:\n",
    " * with help of statistics we can visualize the data by using below methods\n",
    "\n",
    " * Histograms: Show frequency distributions.\n",
    "\n",
    " * Box Plots: Depict median, quartiles, and potential outliers.\n",
    "\n",
    " * Scatter Plots: Illustrate relationships between two variables.\n",
    " \n",
    "* Bar Charts: Compare categorical data."
   ]
  },
  {
   "cell_type": "markdown",
   "id": "9b47bd42-b299-46e8-8cc9-652ee45a179a",
   "metadata": {},
   "source": [
    "### Histogram\n",
    " * TO Show frequency distributions."
   ]
  },
  {
   "cell_type": "code",
   "execution_count": 51,
   "id": "d8a67a41-f7f2-418d-96c8-f270544af959",
   "metadata": {},
   "outputs": [
    {
     "data": {
      "text/plain": [
       "(array([14.,  0.,  0.,  0.,  6.,  0.,  6.,  0., 11.,  0., 17.,  0.,  8.,\n",
       "         0.,  0., 16.,  0., 17.,  0., 17.,  0., 19.,  0., 22.,  0., 25.,\n",
       "         0., 14.,  0.,  1.]),\n",
       " array([ 0.        ,  0.46666667,  0.93333333,  1.4       ,  1.86666667,\n",
       "         2.33333333,  2.8       ,  3.26666667,  3.73333333,  4.2       ,\n",
       "         4.66666667,  5.13333333,  5.6       ,  6.06666667,  6.53333333,\n",
       "         7.        ,  7.46666667,  7.93333333,  8.4       ,  8.86666667,\n",
       "         9.33333333,  9.8       , 10.26666667, 10.73333333, 11.2       ,\n",
       "        11.66666667, 12.13333333, 12.6       , 13.06666667, 13.53333333,\n",
       "        14.        ]),\n",
       " <BarContainer object of 30 artists>)"
      ]
     },
     "execution_count": 51,
     "metadata": {},
     "output_type": "execute_result"
    },
    {
     "data": {
      "image/png": "[encoded data removed]",
      "text/plain": [
       "<Figure size 640x480 with 1 Axes>"
      ]
     },
     "metadata": {},
     "output_type": "display_data"
    }
   ],
   "source": [
    "plt.hist(df[\"Mean years of schooling - 2021\"],bins = 30,edgecolor = \"green\")"
   ]
  },
  {
   "cell_type": "markdown",
   "id": "c2ac25aa-8c07-4703-92f4-a31c3a414d4b",
   "metadata": {},
   "source": [
    "### Bar plot:\n",
    " *  Compare categorical data."
   ]
  },
  {
   "cell_type": "code",
   "execution_count": 53,
   "id": "80299399-15c5-4b5e-97dc-60135b260e8c",
   "metadata": {},
   "outputs": [
    {
     "data": {
      "image/png": "[encoded data removed]",
      "text/plain": [
       "<Figure size 800x600 with 1 Axes>"
      ]
     },
     "metadata": {},
     "output_type": "display_data"
    }
   ],
   "source": [
    "\n",
    "plt.figure(figsize=(8,6))\n",
    "plt.bar(df['Country'], df['Average IQ'])\n",
    "plt.title(\"Average IQ per Country\")\n",
    "plt.xlabel(\"Country\")\n",
    "plt.ylabel(\"IQ Score\")\n",
    "#plt.xticks(rotation=45)\n",
    "plt.tight_layout()\n",
    "plt.show()"
   ]
  },
  {
   "cell_type": "markdown",
   "id": "18910be0-c515-4dd7-b7c2-f54cb91ef9e1",
   "metadata": {},
   "source": [
    "### insights of bar plot:\n",
    "* Country Rankings by Average IQ:\n",
    "\n",
    "Countries are displayed along the x-axis, while their corresponding average IQ scores are represented by the height of the bars on the y-axis.\n",
    "\n",
    "Taller bars indicate higher average IQ scores, positioning those countries at the top in terms of cognitive performance."
   ]
  },
  {
   "cell_type": "code",
   "execution_count": 55,
   "id": "8c9a6644-ef8c-4f31-97a9-97d9f4dfe1d9",
   "metadata": {},
   "outputs": [
    {
     "data": {
      "text/plain": [
       "0             Japan\n",
       "1            Taiwan\n",
       "2         Singapore\n",
       "3         Hong Kong\n",
       "4             China\n",
       "           ...     \n",
       "188          Gambia\n",
       "189       Guatemala\n",
       "190         Liberia\n",
       "191    Sierra Leone\n",
       "192           Nepal\n",
       "Name: Country, Length: 193, dtype: object"
      ]
     },
     "execution_count": 55,
     "metadata": {},
     "output_type": "execute_result"
    }
   ],
   "source": [
    "Country = df[\"Country\"]\n",
    "Country"
   ]
  },
  {
   "cell_type": "code",
   "execution_count": 56,
   "id": "f0fd2268-bbee-4566-b4ba-f32d2c7de2cc",
   "metadata": {},
   "outputs": [
    {
     "data": {
      "text/plain": [
       "0      106\n",
       "1      106\n",
       "2      105\n",
       "3      105\n",
       "4      104\n",
       "      ... \n",
       "188     52\n",
       "189     47\n",
       "190     45\n",
       "191     45\n",
       "192     42\n",
       "Name: Average IQ, Length: 193, dtype: int32"
      ]
     },
     "execution_count": 56,
     "metadata": {},
     "output_type": "execute_result"
    }
   ],
   "source": [
    "Average = df[\"Average IQ\"]\n",
    "Average "
   ]
  },
  {
   "cell_type": "markdown",
   "id": "da341e0d-e82e-41fe-8d5d-757418b035ca",
   "metadata": {},
   "source": [
    "# Covariance:\n",
    "  * Calculating the covariance between these two variables can indicate whether there's a general trend of both increasing together.\n",
    "   the range is from negative infinty to positive infinity\n",
    "\n",
    "# Correlation:\n",
    "  * Computing the correlation coefficient will tell you how strong and in what direction this relationship is, standardized to a scale between -1 and 1.\n",
    "##### . pearson:\n",
    "            Both variables are continuous and normally distributed.\n",
    "            The relationship is linear.\n",
    "            There are no significant outliers.\n",
    "\n",
    "##### . spearman:\n",
    "            Data are ordinal or not normally distributed.\n",
    "            The relationship is monotonic but not necessarily linear.\n",
    "            There are outliers that could affect the analysis.\n"
   ]
  },
  {
   "cell_type": "code",
   "execution_count": 58,
   "id": "2afd848a-d3b7-4eae-a45f-7e9223ddfb1b",
   "metadata": {},
   "outputs": [
    {
     "data": {
      "text/html": [
       "<div>\n",
       "<style scoped>\n",
       "    .dataframe tbody tr th:only-of-type {\n",
       "        vertical-align: middle;\n",
       "    }\n",
       "\n",
       "    .dataframe tbody tr th {\n",
       "        vertical-align: top;\n",
       "    }\n",
       "\n",
       "    .dataframe thead th {\n",
       "        text-align: right;\n",
       "    }\n",
       "</style>\n",
       "<table border=\"1\" class=\"dataframe\">\n",
       "  <thead>\n",
       "    <tr style=\"text-align: right;\">\n",
       "      <th></th>\n",
       "      <th>Population - 2023</th>\n",
       "      <th>Average IQ</th>\n",
       "    </tr>\n",
       "  </thead>\n",
       "  <tbody>\n",
       "    <tr>\n",
       "      <th>Population - 2023</th>\n",
       "      <td>2.261245e+16</td>\n",
       "      <td>1.413848e+08</td>\n",
       "    </tr>\n",
       "    <tr>\n",
       "      <th>Average IQ</th>\n",
       "      <td>1.413848e+08</td>\n",
       "      <td>1.780949e+02</td>\n",
       "    </tr>\n",
       "  </tbody>\n",
       "</table>\n",
       "</div>"
      ],
      "text/plain": [
       "                   Population - 2023    Average IQ\n",
       "Population - 2023       2.261245e+16  1.413848e+08\n",
       "Average IQ              1.413848e+08  1.780949e+02"
      ]
     },
     "execution_count": 58,
     "metadata": {},
     "output_type": "execute_result"
    }
   ],
   "source": [
    "df[[\"Population - 2023\",\"Average IQ\"]].cov()"
   ]
  },
  {
   "cell_type": "code",
   "execution_count": 59,
   "id": "4d7fdb0e-a721-4779-9511-f58bc7364821",
   "metadata": {},
   "outputs": [
    {
     "data": {
      "text/html": [
       "<div>\n",
       "<style scoped>\n",
       "    .dataframe tbody tr th:only-of-type {\n",
       "        vertical-align: middle;\n",
       "    }\n",
       "\n",
       "    .dataframe tbody tr th {\n",
       "        vertical-align: top;\n",
       "    }\n",
       "\n",
       "    .dataframe thead th {\n",
       "        text-align: right;\n",
       "    }\n",
       "</style>\n",
       "<table border=\"1\" class=\"dataframe\">\n",
       "  <thead>\n",
       "    <tr style=\"text-align: right;\">\n",
       "      <th></th>\n",
       "      <th>Population - 2023</th>\n",
       "      <th>Average IQ</th>\n",
       "    </tr>\n",
       "  </thead>\n",
       "  <tbody>\n",
       "    <tr>\n",
       "      <th>Population - 2023</th>\n",
       "      <td>1.000000</td>\n",
       "      <td>0.070454</td>\n",
       "    </tr>\n",
       "    <tr>\n",
       "      <th>Average IQ</th>\n",
       "      <td>0.070454</td>\n",
       "      <td>1.000000</td>\n",
       "    </tr>\n",
       "  </tbody>\n",
       "</table>\n",
       "</div>"
      ],
      "text/plain": [
       "                   Population - 2023  Average IQ\n",
       "Population - 2023           1.000000    0.070454\n",
       "Average IQ                  0.070454    1.000000"
      ]
     },
     "execution_count": 59,
     "metadata": {},
     "output_type": "execute_result"
    }
   ],
   "source": [
    "corr_matrix = df[[\"Population - 2023\",\"Average IQ\"]].corr()\n",
    "corr_matrix"
   ]
  },
  {
   "cell_type": "code",
   "execution_count": 60,
   "id": "829aa69c-5743-421b-a7b8-b078a69a3e09",
   "metadata": {},
   "outputs": [
    {
     "data": {
      "text/plain": [
       "<Axes: >"
      ]
     },
     "execution_count": 60,
     "metadata": {},
     "output_type": "execute_result"
    },
    {
     "data": {
      "image/png": "[encoded data removed]",
      "text/plain": [
       "<Figure size 640x480 with 2 Axes>"
      ]
     },
     "metadata": {},
     "output_type": "display_data"
    }
   ],
   "source": [
    "sns.heatmap(corr_matrix,cmap = \"coolwarm\",annot = True,fmt = \".2f\")"
   ]
  },
  {
   "cell_type": "code",
   "execution_count": 61,
   "id": "e78caece-dd07-486f-8c70-04c3b0d80817",
   "metadata": {},
   "outputs": [
    {
     "data": {
      "text/html": [
       "<div>\n",
       "<style scoped>\n",
       "    .dataframe tbody tr th:only-of-type {\n",
       "        vertical-align: middle;\n",
       "    }\n",
       "\n",
       "    .dataframe tbody tr th {\n",
       "        vertical-align: top;\n",
       "    }\n",
       "\n",
       "    .dataframe thead th {\n",
       "        text-align: right;\n",
       "    }\n",
       "</style>\n",
       "<table border=\"1\" class=\"dataframe\">\n",
       "  <thead>\n",
       "    <tr style=\"text-align: right;\">\n",
       "      <th></th>\n",
       "      <th>Population - 2023</th>\n",
       "      <th>Average IQ</th>\n",
       "    </tr>\n",
       "  </thead>\n",
       "  <tbody>\n",
       "    <tr>\n",
       "      <th>Population - 2023</th>\n",
       "      <td>1.000000</td>\n",
       "      <td>0.070454</td>\n",
       "    </tr>\n",
       "    <tr>\n",
       "      <th>Average IQ</th>\n",
       "      <td>0.070454</td>\n",
       "      <td>1.000000</td>\n",
       "    </tr>\n",
       "  </tbody>\n",
       "</table>\n",
       "</div>"
      ],
      "text/plain": [
       "                   Population - 2023  Average IQ\n",
       "Population - 2023           1.000000    0.070454\n",
       "Average IQ                  0.070454    1.000000"
      ]
     },
     "execution_count": 61,
     "metadata": {},
     "output_type": "execute_result"
    }
   ],
   "source": [
    "df[[\"Population - 2023\",\"Average IQ\"]].corr(method = \"pearson\")"
   ]
  },
  {
   "cell_type": "code",
   "execution_count": 62,
   "id": "990e6c36-a58f-44be-8577-5eace25d8cc2",
   "metadata": {},
   "outputs": [
    {
     "data": {
      "text/html": [
       "<div>\n",
       "<style scoped>\n",
       "    .dataframe tbody tr th:only-of-type {\n",
       "        vertical-align: middle;\n",
       "    }\n",
       "\n",
       "    .dataframe tbody tr th {\n",
       "        vertical-align: top;\n",
       "    }\n",
       "\n",
       "    .dataframe thead th {\n",
       "        text-align: right;\n",
       "    }\n",
       "</style>\n",
       "<table border=\"1\" class=\"dataframe\">\n",
       "  <thead>\n",
       "    <tr style=\"text-align: right;\">\n",
       "      <th></th>\n",
       "      <th>Population - 2023</th>\n",
       "      <th>Average IQ</th>\n",
       "    </tr>\n",
       "  </thead>\n",
       "  <tbody>\n",
       "    <tr>\n",
       "      <th>Population - 2023</th>\n",
       "      <td>1.000000</td>\n",
       "      <td>-0.027052</td>\n",
       "    </tr>\n",
       "    <tr>\n",
       "      <th>Average IQ</th>\n",
       "      <td>-0.027052</td>\n",
       "      <td>1.000000</td>\n",
       "    </tr>\n",
       "  </tbody>\n",
       "</table>\n",
       "</div>"
      ],
      "text/plain": [
       "                   Population - 2023  Average IQ\n",
       "Population - 2023           1.000000   -0.027052\n",
       "Average IQ                 -0.027052    1.000000"
      ]
     },
     "execution_count": 62,
     "metadata": {},
     "output_type": "execute_result"
    }
   ],
   "source": [
    "df[[\"Population - 2023\",\"Average IQ\"]].corr(method = \"spearman\")"
   ]
  },
  {
   "cell_type": "markdown",
   "id": "0c285741-4e74-4668-af2b-cda66593f2a7",
   "metadata": {},
   "source": [
    "# scatterplot:\n",
    " * A scatter plot is a graphical representation used to display the relationship between two quantitative variables. Each point on the plot corresponds to one observation in the dataset, with its position determined by the values of the two variables—one plotted along the horizontal (x) axis and the other along the vertical (y) axis ."
   ]
  },
  {
   "cell_type": "markdown",
   "id": "6c548920-8d0d-4583-aad3-b029f43c7ab6",
   "metadata": {},
   "source": [
    "### To print the (seaborn library )scatterplot of Population - 2023 and Average IQ"
   ]
  },
  {
   "cell_type": "code",
   "execution_count": 65,
   "id": "492abe70-bccd-43d1-a590-477eb4c9281f",
   "metadata": {},
   "outputs": [
    {
     "data": {
      "text/plain": [
       "<Axes: xlabel='Population - 2023', ylabel='Average IQ'>"
      ]
     },
     "execution_count": 65,
     "metadata": {},
     "output_type": "execute_result"
    },
    {
     "name": "stderr",
     "output_type": "stream",
     "text": [
      "C:\\Users\\DELL\\anaconda3\\Lib\\site-packages\\IPython\\core\\events.py:82: UserWarning: Glyph 9 (\t) missing from font(s) DejaVu Sans.\n",
      "  func(*args, **kwargs)\n",
      "C:\\Users\\DELL\\anaconda3\\Lib\\site-packages\\IPython\\core\\pylabtools.py:170: UserWarning: Glyph 9 (\t) missing from font(s) DejaVu Sans.\n",
      "  fig.canvas.print_figure(bytes_io, **kw)\n"
     ]
    },
    {
     "data": {
      "image/png": "[encoded data removed]",
      "text/plain": [
       "<Figure size 640x480 with 1 Axes>"
      ]
     },
     "metadata": {},
     "output_type": "display_data"
    }
   ],
   "source": [
    "sns.scatterplot(x =\"Population - 2023\", y = \"Average IQ\",data = df)"
   ]
  },
  {
   "cell_type": "markdown",
   "id": "c9d6485c-512f-46a2-aa19-607622460b14",
   "metadata": {},
   "source": [
    "# EDA-4: Identify NAN/NULL Values"
   ]
  },
  {
   "cell_type": "code",
   "execution_count": 67,
   "id": "fe697941-ea1d-430f-8640-8d843d3d1423",
   "metadata": {},
   "outputs": [
    {
     "data": {
      "text/plain": [
       "Rank                              0\n",
       "Country                           0\n",
       "Average IQ                        0\n",
       "Continent                         0\n",
       "Literacy Rate                     0\n",
       "Nobel Prices                      0\n",
       "HDI (2021)                        0\n",
       "Mean years of schooling - 2021    0\n",
       " GNI - 2021                       0\n",
       "Population - 2023                 0\n",
       "dtype: int64"
      ]
     },
     "execution_count": 67,
     "metadata": {},
     "output_type": "execute_result"
    }
   ],
   "source": [
    "df.isnull().sum()"
   ]
  },
  {
   "cell_type": "markdown",
   "id": "6c0a782d-7d23-4430-8d47-e85d6f98971d",
   "metadata": {},
   "source": [
    "### Approach-1 : Delete the records or columns with null values"
   ]
  },
  {
   "cell_type": "code",
   "execution_count": 69,
   "id": "08b2060d-dc2d-4880-99f4-17ff21cbe8fd",
   "metadata": {},
   "outputs": [],
   "source": [
    "df1= df.copy()\n",
    "df1.dropna(inplace = True)"
   ]
  },
  {
   "cell_type": "code",
   "execution_count": 70,
   "id": "debd7fc3-db3c-49e1-a278-a1e9bfbde9f1",
   "metadata": {},
   "outputs": [
    {
     "data": {
      "text/plain": [
       "Rank                              0\n",
       "Country                           0\n",
       "Average IQ                        0\n",
       "Continent                         0\n",
       "Literacy Rate                     0\n",
       "Nobel Prices                      0\n",
       "HDI (2021)                        0\n",
       "Mean years of schooling - 2021    0\n",
       " GNI - 2021                       0\n",
       "Population - 2023                 0\n",
       "dtype: int64"
      ]
     },
     "execution_count": 70,
     "metadata": {},
     "output_type": "execute_result"
    }
   ],
   "source": [
    "df1.isnull().sum()"
   ]
  },
  {
   "cell_type": "code",
   "execution_count": 71,
   "id": "e2d27993-6a30-4b13-b2b1-0598314ebecc",
   "metadata": {},
   "outputs": [
    {
     "data": {
      "text/plain": [
       "(193, 10)"
      ]
     },
     "execution_count": 71,
     "metadata": {},
     "output_type": "execute_result"
    }
   ],
   "source": [
    "df1.shape"
   ]
  },
  {
   "cell_type": "code",
   "execution_count": 72,
   "id": "0dac245a-6428-4a09-8cef-849cd67d68d9",
   "metadata": {},
   "outputs": [
    {
     "data": {
      "text/plain": [
       "(193, 10)"
      ]
     },
     "execution_count": 72,
     "metadata": {},
     "output_type": "execute_result"
    }
   ],
   "source": [
    "df.shape"
   ]
  },
  {
   "cell_type": "code",
   "execution_count": 73,
   "id": "6c859f42-abe6-4c2c-b508-fb92fd47d48d",
   "metadata": {},
   "outputs": [],
   "source": [
    "df2 = df.copy()\n",
    "df2.dropna(axis = 1,inplace = True)"
   ]
  },
  {
   "cell_type": "code",
   "execution_count": 74,
   "id": "e289cf89-484b-451f-abbe-6bc111046989",
   "metadata": {},
   "outputs": [
    {
     "data": {
      "text/plain": [
       "Index(['Rank', 'Country', 'Average IQ', 'Continent', 'Literacy Rate',\n",
       "       'Nobel Prices', 'HDI (2021)', 'Mean years of schooling - 2021',\n",
       "       ' GNI - 2021', 'Population - 2023'],\n",
       "      dtype='object')"
      ]
     },
     "execution_count": 74,
     "metadata": {},
     "output_type": "execute_result"
    }
   ],
   "source": [
    "df2.columns"
   ]
  },
  {
   "cell_type": "code",
   "execution_count": 75,
   "id": "5b063417-616d-4c56-a416-9a178ac5675a",
   "metadata": {},
   "outputs": [
    {
     "data": {
      "text/plain": [
       "0"
      ]
     },
     "execution_count": 75,
     "metadata": {},
     "output_type": "execute_result"
    }
   ],
   "source": [
    "df3 = df.copy()\n",
    "\n",
    "null_percentage = df3.Country.isnull().sum() / len(df3)\n",
    "if null_percentage > 0.70:\n",
    "    df3.dropna(axis = 1,inplace = True)\n",
    "df3.Country.isnull().sum()\n"
   ]
  },
  {
   "cell_type": "markdown",
   "id": "7be4e0e5-cc79-4c1a-a91b-3b051518148a",
   "metadata": {},
   "source": [
    "# APPROACH-2 : fill sum value in place of null\n",
    "### 2.1 fill the constant value in place of null"
   ]
  },
  {
   "cell_type": "code",
   "execution_count": 77,
   "id": "6b6feaf4-84e9-4f2c-a820-bf53a1765884",
   "metadata": {},
   "outputs": [
    {
     "data": {
      "text/plain": [
       "Rank                              0\n",
       "Country                           0\n",
       "Average IQ                        0\n",
       "Continent                         0\n",
       "Literacy Rate                     0\n",
       "Nobel Prices                      0\n",
       "HDI (2021)                        0\n",
       "Mean years of schooling - 2021    0\n",
       " GNI - 2021                       0\n",
       "Population - 2023                 0\n",
       "dtype: int64"
      ]
     },
     "execution_count": 77,
     "metadata": {},
     "output_type": "execute_result"
    }
   ],
   "source": [
    "df.isnull().sum()"
   ]
  },
  {
   "cell_type": "code",
   "execution_count": 78,
   "id": "c5af91db-9986-42ad-b708-6f640aa6e98d",
   "metadata": {},
   "outputs": [],
   "source": [
    "df4 = df.copy()"
   ]
  },
  {
   "cell_type": "code",
   "execution_count": 79,
   "id": "64bb042e-036c-4d48-b1d9-35b5d7793b8b",
   "metadata": {},
   "outputs": [
    {
     "data": {
      "text/plain": [
       "Index(['Rank', 'Country', 'Average IQ', 'Continent', 'Literacy Rate',\n",
       "       'Nobel Prices', 'HDI (2021)', 'Mean years of schooling - 2021',\n",
       "       ' GNI - 2021', 'Population - 2023'],\n",
       "      dtype='object')"
      ]
     },
     "execution_count": 79,
     "metadata": {},
     "output_type": "execute_result"
    }
   ],
   "source": [
    "df4.columns"
   ]
  },
  {
   "cell_type": "code",
   "execution_count": 80,
   "id": "ebec1996-49a0-475b-a073-a2d6201aa0b0",
   "metadata": {},
   "outputs": [
    {
     "data": {
      "text/plain": [
       "0      13\n",
       "1       0\n",
       "2      11\n",
       "3      12\n",
       "4       7\n",
       "       ..\n",
       "188     4\n",
       "189     5\n",
       "190     5\n",
       "191     4\n",
       "192     5\n",
       "Name: Mean years of schooling - 2021, Length: 193, dtype: int32"
      ]
     },
     "execution_count": 80,
     "metadata": {},
     "output_type": "execute_result"
    }
   ],
   "source": [
    "df['Mean years of schooling - 2021']"
   ]
  },
  {
   "cell_type": "code",
   "execution_count": 81,
   "id": "a22685d5-e9d2-4a37-a863-f268aefdef74",
   "metadata": {},
   "outputs": [],
   "source": [
    "# creating dummy null values\n",
    "column_name = \"Mean years of schooling - 2021\"\n",
    "df4.loc[(df4[column_name] > 4.5) & (df4[column_name] <= 13.0), column_name] = np.nan\n"
   ]
  },
  {
   "cell_type": "code",
   "execution_count": 82,
   "id": "a1c5afc4-f46f-4e34-be7f-27a3f58c59d8",
   "metadata": {},
   "outputs": [
    {
     "data": {
      "text/plain": [
       "Rank                                0\n",
       "Country                             0\n",
       "Average IQ                          0\n",
       "Continent                           0\n",
       "Literacy Rate                       0\n",
       "Nobel Prices                        0\n",
       "HDI (2021)                          0\n",
       "Mean years of schooling - 2021    155\n",
       " GNI - 2021                         0\n",
       "Population - 2023                   0\n",
       "dtype: int64"
      ]
     },
     "execution_count": 82,
     "metadata": {},
     "output_type": "execute_result"
    }
   ],
   "source": [
    "df4[column_name].fillna(\"10\")\n",
    "df4.isnull().sum()"
   ]
  },
  {
   "cell_type": "code",
   "execution_count": 83,
   "id": "12717b7a-3408-404d-b689-238b1d4d8e17",
   "metadata": {},
   "outputs": [
    {
     "data": {
      "text/plain": [
       "<bound method DataFrame.info of      Rank       Country  Average IQ        Continent  Literacy Rate  \\\n",
       "0       1         Japan         106             Asia              0   \n",
       "1       2        Taiwan         106             Asia              0   \n",
       "2       3     Singapore         105             Asia              0   \n",
       "3       4     Hong Kong         105             Asia              0   \n",
       "4       5         China         104             Asia              0   \n",
       "..    ...           ...         ...              ...            ...   \n",
       "188   189        Gambia          52           Africa              0   \n",
       "189   190     Guatemala          47  Central America              0   \n",
       "190   191       Liberia          45           Africa              0   \n",
       "191   192  Sierra Leone          45           Africa              0   \n",
       "192   193         Nepal          42             Asia              0   \n",
       "\n",
       "     Nobel Prices  HDI (2021)  Mean years of schooling - 2021   GNI - 2021  \\\n",
       "0              29           0                             NaN        42274   \n",
       "1               4           0                             0.0            0   \n",
       "2               0           0                             NaN        90919   \n",
       "3               1           0                             NaN        62607   \n",
       "4               8           0                             NaN        17504   \n",
       "..            ...         ...                             ...          ...   \n",
       "188             0           0                             4.0         2172   \n",
       "189             2           0                             NaN         8723   \n",
       "190             2           0                             NaN         1289   \n",
       "191             0           0                             4.0         1622   \n",
       "192             0           0                             NaN         3877   \n",
       "\n",
       "    Population - 2023  \n",
       "0           123294513  \n",
       "1            10143543  \n",
       "2             6014723  \n",
       "3             7491609  \n",
       "4          1425671352  \n",
       "..                ...  \n",
       "188           2773168  \n",
       "189          18092026  \n",
       "190           5418377  \n",
       "191           8791092  \n",
       "192          30896590  \n",
       "\n",
       "[193 rows x 10 columns]>"
      ]
     },
     "execution_count": 83,
     "metadata": {},
     "output_type": "execute_result"
    }
   ],
   "source": [
    "df4.info"
   ]
  },
  {
   "cell_type": "markdown",
   "id": "b231619b-a154-4a61-82ca-bd548ee1b3ea",
   "metadata": {},
   "source": [
    "# 2.2 Filling Mean,Median,Mode"
   ]
  },
  {
   "cell_type": "code",
   "execution_count": 85,
   "id": "0f043643-d712-44fa-8b6d-d68c6057bd2c",
   "metadata": {},
   "outputs": [
    {
     "data": {
      "text/plain": [
       "Rank                                0\n",
       "Country                             0\n",
       "Average IQ                          0\n",
       "Continent                           0\n",
       "Literacy Rate                       0\n",
       "Nobel Prices                        0\n",
       "HDI (2021)                          0\n",
       "Mean years of schooling - 2021    155\n",
       " GNI - 2021                         0\n",
       "Population - 2023                   0\n",
       "dtype: int64"
      ]
     },
     "execution_count": 85,
     "metadata": {},
     "output_type": "execute_result"
    }
   ],
   "source": [
    "df4 = df.copy()\n",
    "df4.loc[(df4[column_name] > 4.5) & (df4[column_name] <= 13.0),column_name] = np.nan\n",
    "df4.isnull().sum()"
   ]
  },
  {
   "cell_type": "code",
   "execution_count": 86,
   "id": "e1b7a6b8-db07-486c-8a77-4319b1066ad5",
   "metadata": {},
   "outputs": [
    {
     "data": {
      "text/plain": [
       "2.3157894736842106"
      ]
     },
     "execution_count": 86,
     "metadata": {},
     "output_type": "execute_result"
    }
   ],
   "source": [
    "mean_value = df4[column_name].mean()\n",
    "mean_value"
   ]
  },
  {
   "cell_type": "code",
   "execution_count": 87,
   "id": "dca5aafe-7145-4949-9430-b8918af823cb",
   "metadata": {},
   "outputs": [
    {
     "data": {
      "text/plain": [
       "Rank                              0\n",
       "Country                           0\n",
       "Average IQ                        0\n",
       "Continent                         0\n",
       "Literacy Rate                     0\n",
       "Nobel Prices                      0\n",
       "HDI (2021)                        0\n",
       "Mean years of schooling - 2021    0\n",
       " GNI - 2021                       0\n",
       "Population - 2023                 0\n",
       "dtype: int64"
      ]
     },
     "execution_count": 87,
     "metadata": {},
     "output_type": "execute_result"
    }
   ],
   "source": [
    "# filling the null values with mean\n",
    "df4 [column_name] = df4[column_name].fillna(mean_value)\n",
    "df4.isnull().sum()"
   ]
  },
  {
   "cell_type": "code",
   "execution_count": 88,
   "id": "1d5348fa-4cde-4538-95f8-f75ea7751a65",
   "metadata": {},
   "outputs": [
    {
     "name": "stdout",
     "output_type": "stream",
     "text": [
      "11732.0\n"
     ]
    }
   ],
   "source": [
    "# finding the median \n",
    "df4.columns = df4.columns.str.strip()\n",
    "median_value = df4['GNI - 2021'].median()\n",
    "print(median_value)"
   ]
  },
  {
   "cell_type": "code",
   "execution_count": 89,
   "id": "724e7738-b1a5-410b-80a8-8d8fc30c2db6",
   "metadata": {},
   "outputs": [
    {
     "data": {
      "text/plain": [
       "Rank                              0\n",
       "Country                           0\n",
       "Average IQ                        0\n",
       "Continent                         0\n",
       "Literacy Rate                     0\n",
       "Nobel Prices                      0\n",
       "HDI (2021)                        0\n",
       "Mean years of schooling - 2021    0\n",
       "GNI - 2021                        0\n",
       "Population - 2023                 0\n",
       "dtype: int64"
      ]
     },
     "execution_count": 89,
     "metadata": {},
     "output_type": "execute_result"
    }
   ],
   "source": [
    "# filling the null values with median\n",
    "df4 ['GNI - 2021'] = df4['GNI - 2021'].fillna(mean_value)\n",
    "df4.isnull().sum()"
   ]
  },
  {
   "cell_type": "code",
   "execution_count": 90,
   "id": "b4404a66-2676-46bb-b9a0-b0b0ea114389",
   "metadata": {},
   "outputs": [
    {
     "name": "stdout",
     "output_type": "stream",
     "text": [
      "0.0\n"
     ]
    }
   ],
   "source": [
    "df4.columns = df4.columns.str.strip()\n",
    "median_value = df4['HDI (2021)'].median()\n",
    "print(median_value)"
   ]
  },
  {
   "cell_type": "code",
   "execution_count": 91,
   "id": "ff944c73-e2c5-4eef-bc32-f679a8e7504c",
   "metadata": {},
   "outputs": [
    {
     "data": {
      "text/plain": [
       "Rank                              0\n",
       "Country                           0\n",
       "Average IQ                        0\n",
       "Continent                         0\n",
       "Literacy Rate                     0\n",
       "Nobel Prices                      0\n",
       "HDI (2021)                        0\n",
       "Mean years of schooling - 2021    0\n",
       "GNI - 2021                        0\n",
       "Population - 2023                 0\n",
       "dtype: int64"
      ]
     },
     "execution_count": 91,
     "metadata": {},
     "output_type": "execute_result"
    }
   ],
   "source": [
    "df4 ['HDI (2021)'] = df4['HDI (2021)'].fillna(mean_value)\n",
    "df4.isnull().sum()"
   ]
  },
  {
   "cell_type": "markdown",
   "id": "f8a40f3a-4041-47d1-9f37-b2eb61299cbf",
   "metadata": {},
   "source": [
    "# Approach-3 : bfill/ffill methods¶"
   ]
  },
  {
   "cell_type": "markdown",
   "id": "2f085b3e-7fe5-47c6-aacf-6bdb16b87deb",
   "metadata": {},
   "source": [
    "### Forward Fill (ffill())\n",
    "* The ffill() method propagates the last valid observation forward to fill missing values. This is particularly useful in time series data, where you might assume that the last known value remains valid until a new value appears.\n",
    "### Backward Fill (bfill())\n",
    "* The bfill() method uses the next valid observation to fill missing values. This is useful when you want to fill gaps with upcoming data points."
   ]
  },
  {
   "cell_type": "code",
   "execution_count": 94,
   "id": "67c5cede-0d5d-4e0e-b33d-152614dcef68",
   "metadata": {},
   "outputs": [
    {
     "data": {
      "text/plain": [
       "Rank                              0\n",
       "Country                           0\n",
       "Average IQ                        0\n",
       "Continent                         0\n",
       "Literacy Rate                     0\n",
       "Nobel Prices                      0\n",
       "HDI (2021)                        0\n",
       "Mean years of schooling - 2021    0\n",
       " GNI - 2021                       0\n",
       "Population - 2023                 0\n",
       "dtype: int64"
      ]
     },
     "execution_count": 94,
     "metadata": {},
     "output_type": "execute_result"
    }
   ],
   "source": [
    "df5 = df.copy()\n",
    "df5.isnull().sum()"
   ]
  },
  {
   "cell_type": "code",
   "execution_count": 95,
   "id": "2585dcb3-f52a-461e-ba9b-8f0e107d137a",
   "metadata": {},
   "outputs": [
    {
     "data": {
      "text/plain": [
       "<Axes: >"
      ]
     },
     "execution_count": 95,
     "metadata": {},
     "output_type": "execute_result"
    },
    {
     "data": {
      "image/png": "[encoded data removed]",
      "text/plain": [
       "<Figure size 640x480 with 1 Axes>"
      ]
     },
     "metadata": {},
     "output_type": "display_data"
    }
   ],
   "source": [
    "sns.boxplot(df)"
   ]
  },
  {
   "cell_type": "code",
   "execution_count": 96,
   "id": "ae51d80f-532b-4a20-85e4-29fa1ee29501",
   "metadata": {},
   "outputs": [
    {
     "data": {
      "text/plain": [
       "Rank                              0\n",
       "Country                           0\n",
       "Average IQ                        0\n",
       "Continent                         0\n",
       "Literacy Rate                     0\n",
       "Nobel Prices                      0\n",
       "HDI (2021)                        0\n",
       "Mean years of schooling - 2021    0\n",
       " GNI - 2021                       0\n",
       "Population - 2023                 0\n",
       "dtype: int64"
      ]
     },
     "execution_count": 96,
     "metadata": {},
     "output_type": "execute_result"
    }
   ],
   "source": [
    "# fill the null values by using ffill\n",
    "df5 = df5.ffill()\n",
    "df5.isnull().sum()"
   ]
  },
  {
   "cell_type": "code",
   "execution_count": 97,
   "id": "201d27fb-52c8-49b4-a617-d60c074e8bb9",
   "metadata": {},
   "outputs": [
    {
     "data": {
      "text/plain": [
       "Rank                              0\n",
       "Country                           0\n",
       "Average IQ                        0\n",
       "Continent                         0\n",
       "Literacy Rate                     0\n",
       "Nobel Prices                      0\n",
       "HDI (2021)                        0\n",
       "Mean years of schooling - 2021    0\n",
       " GNI - 2021                       0\n",
       "Population - 2023                 0\n",
       "dtype: int64"
      ]
     },
     "execution_count": 97,
     "metadata": {},
     "output_type": "execute_result"
    }
   ],
   "source": [
    "df6 = df.copy()\n",
    "df6.isnull().sum()"
   ]
  },
  {
   "cell_type": "code",
   "execution_count": 98,
   "id": "691f4972-7bcf-4659-8a2e-581acec865f2",
   "metadata": {},
   "outputs": [],
   "source": [
    "# fill null values with bfill"
   ]
  },
  {
   "cell_type": "code",
   "execution_count": 99,
   "id": "c4a6b402-7e8a-4b18-a7bc-d59aa5dfe572",
   "metadata": {},
   "outputs": [
    {
     "data": {
      "text/plain": [
       "Rank                              0\n",
       "Country                           0\n",
       "Average IQ                        0\n",
       "Continent                         0\n",
       "Literacy Rate                     0\n",
       "Nobel Prices                      0\n",
       "HDI (2021)                        0\n",
       "Mean years of schooling - 2021    0\n",
       " GNI - 2021                       0\n",
       "Population - 2023                 0\n",
       "dtype: int64"
      ]
     },
     "execution_count": 99,
     "metadata": {},
     "output_type": "execute_result"
    }
   ],
   "source": [
    "df6 = df6.bfill()\n",
    "df6.isnull().sum()"
   ]
  },
  {
   "cell_type": "markdown",
   "id": "2b83250e-7d8b-4de5-85db-085b7ff032d5",
   "metadata": {},
   "source": [
    "# Approach-4 : interpolate: Estimate missing data points in a contineous data\n"
   ]
  },
  {
   "cell_type": "code",
   "execution_count": 101,
   "id": "3064dffd-554c-41db-95de-c133d40440e3",
   "metadata": {},
   "outputs": [
    {
     "data": {
      "text/plain": [
       "Rank                                0\n",
       "Country                             0\n",
       "Average IQ                          0\n",
       "Continent                           0\n",
       "Literacy Rate                       0\n",
       "Nobel Prices                        0\n",
       "HDI (2021)                          0\n",
       "Mean years of schooling - 2021    155\n",
       " GNI - 2021                         0\n",
       "Population - 2023                   0\n",
       "dtype: int64"
      ]
     },
     "execution_count": 101,
     "metadata": {},
     "output_type": "execute_result"
    }
   ],
   "source": [
    "df6 = df.copy()\n",
    "df6.loc[(df6[column_name] > 4.5) & (df6[column_name] <= 13.0), column_name] = np.nan\n",
    "df6.isnull().sum()"
   ]
  },
  {
   "cell_type": "code",
   "execution_count": 102,
   "id": "1c85b805-7901-4707-9fd6-53bcb2196c11",
   "metadata": {},
   "outputs": [
    {
     "data": {
      "text/plain": [
       "Rank                              0\n",
       "Country                           0\n",
       "Average IQ                        0\n",
       "Continent                         0\n",
       "Literacy Rate                     0\n",
       "Nobel Prices                      0\n",
       "HDI (2021)                        0\n",
       "Mean years of schooling - 2021    1\n",
       " GNI - 2021                       0\n",
       "Population - 2023                 0\n",
       "dtype: int64"
      ]
     },
     "execution_count": 102,
     "metadata": {},
     "output_type": "execute_result"
    }
   ],
   "source": [
    "df6[column_name] = df6[column_name].interpolate (method = \"linear\")\n",
    "df6.isnull().sum()"
   ]
  },
  {
   "cell_type": "code",
   "execution_count": 103,
   "id": "45aecc69-6880-41ab-a588-1bd9380f3adc",
   "metadata": {},
   "outputs": [
    {
     "data": {
      "text/plain": [
       "Rank                              0\n",
       "Country                           0\n",
       "Average IQ                        0\n",
       "Continent                         0\n",
       "Literacy Rate                     0\n",
       "Nobel Prices                      0\n",
       "HDI (2021)                        0\n",
       "Mean years of schooling - 2021    1\n",
       " GNI - 2021                       0\n",
       "Population - 2023                 0\n",
       "dtype: int64"
      ]
     },
     "execution_count": 103,
     "metadata": {},
     "output_type": "execute_result"
    }
   ],
   "source": [
    "df6[column_name] = df6[column_name].interpolate (method = \"linear\")\n",
    "df6.isnull().sum()"
   ]
  },
  {
   "cell_type": "code",
   "execution_count": 104,
   "id": "779bec57-0026-4dd8-aa2e-3ef4baae6718",
   "metadata": {},
   "outputs": [
    {
     "data": {
      "text/plain": [
       "Rank                              0\n",
       "Country                           0\n",
       "Average IQ                        0\n",
       "Continent                         0\n",
       "Literacy Rate                     0\n",
       "Nobel Prices                      0\n",
       "HDI (2021)                        0\n",
       "Mean years of schooling - 2021    1\n",
       " GNI - 2021                       0\n",
       "Population - 2023                 0\n",
       "dtype: int64"
      ]
     },
     "execution_count": 104,
     "metadata": {},
     "output_type": "execute_result"
    }
   ],
   "source": [
    "df6[column_name] = df6[column_name].interpolate (method = \"linear\",order = 5)\n",
    "df6.isnull().sum()"
   ]
  },
  {
   "cell_type": "code",
   "execution_count": 105,
   "id": "f97444de-ba9b-4d96-ac71-89c37ee7b36d",
   "metadata": {},
   "outputs": [
    {
     "data": {
      "text/plain": [
       "Rank                              0\n",
       "Country                           0\n",
       "Average IQ                        0\n",
       "Continent                         0\n",
       "Literacy Rate                     0\n",
       "Nobel Prices                      0\n",
       "HDI (2021)                        0\n",
       "Mean years of schooling - 2021    1\n",
       " GNI - 2021                       0\n",
       "Population - 2023                 0\n",
       "dtype: int64"
      ]
     },
     "execution_count": 105,
     "metadata": {},
     "output_type": "execute_result"
    }
   ],
   "source": [
    "df6.loc[(df6['HDI (2021)'] > 10.5) & (df6['HDI (2021)'] <= 35.0), 'HDI (2021)'] = np.nan\n",
    "df6.isnull().sum()"
   ]
  },
  {
   "cell_type": "code",
   "execution_count": 106,
   "id": "b1737132-13fb-4310-9250-a7bd58a2a75f",
   "metadata": {},
   "outputs": [
    {
     "data": {
      "text/plain": [
       "Rank                              0\n",
       "Country                           0\n",
       "Average IQ                        0\n",
       "Continent                         0\n",
       "Literacy Rate                     0\n",
       "Nobel Prices                      0\n",
       "HDI (2021)                        0\n",
       "Mean years of schooling - 2021    1\n",
       " GNI - 2021                       0\n",
       "Population - 2023                 0\n",
       "dtype: int64"
      ]
     },
     "execution_count": 106,
     "metadata": {},
     "output_type": "execute_result"
    }
   ],
   "source": [
    "df6['HDI (2021)'] = df6['HDI (2021)'].interpolate (method = \"linear\",order = 5)\n",
    "df6.isnull().sum()"
   ]
  },
  {
   "cell_type": "code",
   "execution_count": 107,
   "id": "4792c83e-2b5d-4af7-8006-22050b89568a",
   "metadata": {},
   "outputs": [
    {
     "data": {
      "text/plain": [
       "Rank                              0\n",
       "Country                           0\n",
       "Average IQ                        0\n",
       "Continent                         0\n",
       "Literacy Rate                     0\n",
       "Nobel Prices                      0\n",
       "HDI (2021)                        0\n",
       "Mean years of schooling - 2021    1\n",
       " GNI - 2021                       0\n",
       "Population - 2023                 0\n",
       "dtype: int64"
      ]
     },
     "execution_count": 107,
     "metadata": {},
     "output_type": "execute_result"
    }
   ],
   "source": [
    "df6['HDI (2021)'] = df6['HDI (2021)'].interpolate (method = \"polynomial\",order = 5)\n",
    "df6.isnull().sum()"
   ]
  },
  {
   "cell_type": "code",
   "execution_count": 108,
   "id": "049079cb-b038-4e70-a14a-8bcbedb9790e",
   "metadata": {},
   "outputs": [
    {
     "data": {
      "text/plain": [
       "Rank                              0\n",
       "Country                           0\n",
       "Average IQ                        0\n",
       "Continent                         0\n",
       "Literacy Rate                     0\n",
       "Nobel Prices                      0\n",
       "HDI (2021)                        0\n",
       "Mean years of schooling - 2021    1\n",
       "GNI - 2021                        0\n",
       "Population - 2023                 0\n",
       "dtype: int64"
      ]
     },
     "execution_count": 108,
     "metadata": {},
     "output_type": "execute_result"
    }
   ],
   "source": [
    "df6.columns = df6.columns.str.strip()\n",
    "df6['GNI - 2021'] = df6['GNI - 2021'].bfill()\n",
    "df6.isnull().sum()"
   ]
  },
  {
   "cell_type": "markdown",
   "id": "926aa01a-e285-4fed-a48f-c24c44d07ceb",
   "metadata": {},
   "source": [
    "# EDA-5: Identify duplicate values"
   ]
  },
  {
   "cell_type": "code",
   "execution_count": 110,
   "id": "6bac6482-164f-41f2-9354-c2624860017c",
   "metadata": {},
   "outputs": [
    {
     "data": {
      "text/plain": [
       "0"
      ]
     },
     "execution_count": 110,
     "metadata": {},
     "output_type": "execute_result"
    }
   ],
   "source": [
    "df7 = df.copy()\n",
    "df7.duplicated().sum()"
   ]
  },
  {
   "cell_type": "code",
   "execution_count": 111,
   "id": "fffec00c-2612-40d7-b96f-0bf695d01644",
   "metadata": {},
   "outputs": [
    {
     "data": {
      "text/html": [
       "<div>\n",
       "<style scoped>\n",
       "    .dataframe tbody tr th:only-of-type {\n",
       "        vertical-align: middle;\n",
       "    }\n",
       "\n",
       "    .dataframe tbody tr th {\n",
       "        vertical-align: top;\n",
       "    }\n",
       "\n",
       "    .dataframe thead th {\n",
       "        text-align: right;\n",
       "    }\n",
       "</style>\n",
       "<table border=\"1\" class=\"dataframe\">\n",
       "  <thead>\n",
       "    <tr style=\"text-align: right;\">\n",
       "      <th></th>\n",
       "      <th>Rank</th>\n",
       "      <th>Country</th>\n",
       "      <th>Average IQ</th>\n",
       "      <th>Continent</th>\n",
       "      <th>Literacy Rate</th>\n",
       "      <th>Nobel Prices</th>\n",
       "      <th>HDI (2021)</th>\n",
       "      <th>Mean years of schooling - 2021</th>\n",
       "      <th>GNI - 2021</th>\n",
       "      <th>Population - 2023</th>\n",
       "    </tr>\n",
       "  </thead>\n",
       "  <tbody>\n",
       "  </tbody>\n",
       "</table>\n",
       "</div>"
      ],
      "text/plain": [
       "Empty DataFrame\n",
       "Columns: [Rank, Country, Average IQ, Continent, Literacy Rate, Nobel Prices, HDI (2021), Mean years of schooling - 2021,  GNI - 2021, Population - 2023]\n",
       "Index: []"
      ]
     },
     "execution_count": 111,
     "metadata": {},
     "output_type": "execute_result"
    }
   ],
   "source": [
    "df[df.duplicated()]"
   ]
  },
  {
   "cell_type": "markdown",
   "id": "41dbde5a-846c-4eae-a7a8-13339fa045e3",
   "metadata": {},
   "source": [
    "# Data Cleaning: drop the duplicate records¶"
   ]
  },
  {
   "cell_type": "code",
   "execution_count": 113,
   "id": "9a6d3311-77b0-452d-8a06-fbd53b4d5c78",
   "metadata": {},
   "outputs": [
    {
     "data": {
      "text/plain": [
       "(193, 10)"
      ]
     },
     "execution_count": 113,
     "metadata": {},
     "output_type": "execute_result"
    }
   ],
   "source": [
    "df.shape"
   ]
  },
  {
   "cell_type": "code",
   "execution_count": 114,
   "id": "4f9598cb-d22b-4aca-aea0-ae0b9e336e6c",
   "metadata": {},
   "outputs": [],
   "source": [
    "df8 = df.copy()"
   ]
  },
  {
   "cell_type": "code",
   "execution_count": 115,
   "id": "e4044b7f-365e-47b8-96d7-e4fe637f481a",
   "metadata": {},
   "outputs": [],
   "source": [
    "df8.drop_duplicates(inplace = True,keep = \"first\")"
   ]
  },
  {
   "cell_type": "code",
   "execution_count": 116,
   "id": "ffdd4a75-b051-4c3c-9ab3-9a960e06d7a4",
   "metadata": {},
   "outputs": [
    {
     "data": {
      "text/plain": [
       "(193, 10)"
      ]
     },
     "execution_count": 116,
     "metadata": {},
     "output_type": "execute_result"
    }
   ],
   "source": [
    "df8.shape"
   ]
  },
  {
   "cell_type": "markdown",
   "id": "dd2b616a-37b4-436c-bcfe-e9e55064dcc4",
   "metadata": {},
   "source": [
    "# EDA-6:Identify outliers\n",
    "* Q1 (first quartile,25th)\n",
    "* Q3(third quartile,75th)\n",
    "* IQR(Interquartile range) = Q3-Q1\n",
    "* Low bound = Q1-1.5*IQR\n",
    "* upper bound = Q3+1.5*IQR"
   ]
  },
  {
   "cell_type": "code",
   "execution_count": 118,
   "id": "5c6fd052-4a9f-4864-a34f-acf286f7010a",
   "metadata": {},
   "outputs": [
    {
     "data": {
      "text/plain": [
       "<Axes: xlabel='Mean years of schooling - 2021'>"
      ]
     },
     "execution_count": 118,
     "metadata": {},
     "output_type": "execute_result"
    },
    {
     "data": {
      "image/png": "[encoded data removed]",
      "text/plain": [
       "<Figure size 640x480 with 1 Axes>"
      ]
     },
     "metadata": {},
     "output_type": "display_data"
    }
   ],
   "source": [
    "df9 = df.copy()\n",
    "sns.boxplot(x = \"Mean years of schooling - 2021\",data = df9)"
   ]
  },
  {
   "cell_type": "code",
   "execution_count": 119,
   "id": "d8a2713e-37b4-4530-b6e4-50caebf126a4",
   "metadata": {},
   "outputs": [
    {
     "data": {
      "text/plain": [
       "<Axes: xlabel='Continent', ylabel='Mean years of schooling - 2021'>"
      ]
     },
     "execution_count": 119,
     "metadata": {},
     "output_type": "execute_result"
    },
    {
     "data": {
      "image/png": "[encoded data removed]",
      "text/plain": [
       "<Figure size 640x480 with 1 Axes>"
      ]
     },
     "metadata": {},
     "output_type": "display_data"
    }
   ],
   "source": [
    "sns.boxplot(x = \"Continent\",y = \"Mean years of schooling - 2021\",data = df9)"
   ]
  },
  {
   "cell_type": "code",
   "execution_count": 120,
   "id": "33fa4c8b-15af-49dc-9c3e-8a03c823d022",
   "metadata": {},
   "outputs": [
    {
     "name": "stdout",
     "output_type": "stream",
     "text": [
      "5.0\n",
      "11.0\n"
     ]
    }
   ],
   "source": [
    "Q1 = df[\"Mean years of schooling - 2021\"].quantile(0.25)\n",
    "Q3 = df[\"Mean years of schooling - 2021\"].quantile(0.75)\n",
    "print(Q1)\n",
    "print(Q3)"
   ]
  },
  {
   "cell_type": "code",
   "execution_count": 121,
   "id": "fbd4246e-95f6-4172-8ad8-5e96bcb52e28",
   "metadata": {},
   "outputs": [
    {
     "data": {
      "text/plain": [
       "6.0"
      ]
     },
     "execution_count": 121,
     "metadata": {},
     "output_type": "execute_result"
    }
   ],
   "source": [
    "IQR = Q3-Q1\n",
    "IQR"
   ]
  },
  {
   "cell_type": "code",
   "execution_count": 122,
   "id": "f98ab3cf-84f7-4396-8475-1e8d2789a4ac",
   "metadata": {},
   "outputs": [
    {
     "data": {
      "text/plain": [
       "-4.0"
      ]
     },
     "execution_count": 122,
     "metadata": {},
     "output_type": "execute_result"
    }
   ],
   "source": [
    "lowerbound = Q1 -1.5 * IQR\n",
    "lowerbound"
   ]
  },
  {
   "cell_type": "code",
   "execution_count": 123,
   "id": "dfe3562a-79cd-491e-8aaa-a323e60da27a",
   "metadata": {},
   "outputs": [
    {
     "data": {
      "text/plain": [
       "20.0"
      ]
     },
     "execution_count": 123,
     "metadata": {},
     "output_type": "execute_result"
    }
   ],
   "source": [
    "upperbound = Q3+1.5*IQR\n",
    "upperbound"
   ]
  },
  {
   "cell_type": "code",
   "execution_count": 124,
   "id": "8e5171a8-8fb4-40da-ba8e-3297e60e6409",
   "metadata": {},
   "outputs": [
    {
     "data": {
      "text/plain": [
       "0"
      ]
     },
     "execution_count": 124,
     "metadata": {},
     "output_type": "execute_result"
    }
   ],
   "source": [
    "df[\"Mean years of schooling - 2021\"].min()"
   ]
  },
  {
   "cell_type": "code",
   "execution_count": 125,
   "id": "7a876bc7-cb7a-4c6d-8b02-f87ad2c2d976",
   "metadata": {},
   "outputs": [
    {
     "data": {
      "text/plain": [
       "Series([], Name: Mean years of schooling - 2021, dtype: int32)"
      ]
     },
     "execution_count": 125,
     "metadata": {},
     "output_type": "execute_result"
    }
   ],
   "source": [
    "outliers = df[\"Mean years of schooling - 2021\"][(df[\"Mean years of schooling - 2021\"]<lowerbound)|(df[\"Mean years of schooling - 2021\"]>upperbound)]\n",
    "outliers"
   ]
  },
  {
   "cell_type": "markdown",
   "id": "f56f2d33-da38-45bb-baa7-d3512a117b97",
   "metadata": {},
   "source": [
    "# Data Cleaning-4: Trim the outliers¶"
   ]
  },
  {
   "cell_type": "code",
   "execution_count": 127,
   "id": "8093352c-f9ef-447d-8e95-78edd4465040",
   "metadata": {},
   "outputs": [
    {
     "data": {
      "text/plain": [
       "array([13,  0, 11, 12,  7, 14,  5, 10,  9,  6,  8,  3,  4,  2])"
      ]
     },
     "execution_count": 127,
     "metadata": {},
     "output_type": "execute_result"
    }
   ],
   "source": [
    "df10 = df.copy()\n",
    "df10= df10[(df[\"Mean years of schooling - 2021\"]>=lowerbound)&(df[\"Mean years of schooling - 2021\"] <=upperbound)]\n",
    "df10[\"Mean years of schooling - 2021\"].unique()"
   ]
  },
  {
   "cell_type": "markdown",
   "id": "59f763c2-9cd7-49fa-9ba2-5d4d3df9eb59",
   "metadata": {},
   "source": [
    "### method-2: to find the outliers using z score\n",
    "### Z_score = (data-mean)/SD¶"
   ]
  },
  {
   "cell_type": "code",
   "execution_count": 129,
   "id": "fe6acb64-b32b-467e-9a87-2e9a7fdc31dc",
   "metadata": {},
   "outputs": [],
   "source": [
    "df11 = df.copy()"
   ]
  },
  {
   "cell_type": "code",
   "execution_count": 130,
   "id": "404653ab-9c58-43d0-aca2-cd8c7fe9d60c",
   "metadata": {},
   "outputs": [
    {
     "data": {
      "text/plain": [
       "0      1.340503\n",
       "1     -2.116149\n",
       "2      0.808710\n",
       "3      1.074607\n",
       "4     -0.254875\n",
       "         ...   \n",
       "188   -1.052563\n",
       "189   -0.786667\n",
       "190   -0.786667\n",
       "191   -1.052563\n",
       "192   -0.786667\n",
       "Name: z_score, Length: 193, dtype: float64"
      ]
     },
     "execution_count": 130,
     "metadata": {},
     "output_type": "execute_result"
    }
   ],
   "source": [
    "df11[\"z_score\"] = (df[\"Mean years of schooling - 2021\"]- df[\"Mean years of schooling - 2021\"].mean())/df[\"Mean years of schooling - 2021\"].std()\n",
    "df11[\"z_score\"]"
   ]
  },
  {
   "cell_type": "code",
   "execution_count": 131,
   "id": "eda0ebae-cd33-4e22-9347-96ac5a62f8e7",
   "metadata": {},
   "outputs": [
    {
     "data": {
      "text/html": [
       "<div>\n",
       "<style scoped>\n",
       "    .dataframe tbody tr th:only-of-type {\n",
       "        vertical-align: middle;\n",
       "    }\n",
       "\n",
       "    .dataframe tbody tr th {\n",
       "        vertical-align: top;\n",
       "    }\n",
       "\n",
       "    .dataframe thead th {\n",
       "        text-align: right;\n",
       "    }\n",
       "</style>\n",
       "<table border=\"1\" class=\"dataframe\">\n",
       "  <thead>\n",
       "    <tr style=\"text-align: right;\">\n",
       "      <th></th>\n",
       "      <th>Rank</th>\n",
       "      <th>Country</th>\n",
       "      <th>Average IQ</th>\n",
       "      <th>Continent</th>\n",
       "      <th>Literacy Rate</th>\n",
       "      <th>Nobel Prices</th>\n",
       "      <th>HDI (2021)</th>\n",
       "      <th>Mean years of schooling - 2021</th>\n",
       "      <th>GNI - 2021</th>\n",
       "      <th>Population - 2023</th>\n",
       "    </tr>\n",
       "  </thead>\n",
       "  <tbody>\n",
       "    <tr>\n",
       "      <th>0</th>\n",
       "      <td>1</td>\n",
       "      <td>Japan</td>\n",
       "      <td>106</td>\n",
       "      <td>Asia</td>\n",
       "      <td>0</td>\n",
       "      <td>29</td>\n",
       "      <td>0</td>\n",
       "      <td>13</td>\n",
       "      <td>42274</td>\n",
       "      <td>123294513</td>\n",
       "    </tr>\n",
       "    <tr>\n",
       "      <th>1</th>\n",
       "      <td>2</td>\n",
       "      <td>Taiwan</td>\n",
       "      <td>106</td>\n",
       "      <td>Asia</td>\n",
       "      <td>0</td>\n",
       "      <td>4</td>\n",
       "      <td>0</td>\n",
       "      <td>0</td>\n",
       "      <td>0</td>\n",
       "      <td>10143543</td>\n",
       "    </tr>\n",
       "    <tr>\n",
       "      <th>2</th>\n",
       "      <td>3</td>\n",
       "      <td>Singapore</td>\n",
       "      <td>105</td>\n",
       "      <td>Asia</td>\n",
       "      <td>0</td>\n",
       "      <td>0</td>\n",
       "      <td>0</td>\n",
       "      <td>11</td>\n",
       "      <td>90919</td>\n",
       "      <td>6014723</td>\n",
       "    </tr>\n",
       "    <tr>\n",
       "      <th>3</th>\n",
       "      <td>4</td>\n",
       "      <td>Hong Kong</td>\n",
       "      <td>105</td>\n",
       "      <td>Asia</td>\n",
       "      <td>0</td>\n",
       "      <td>1</td>\n",
       "      <td>0</td>\n",
       "      <td>12</td>\n",
       "      <td>62607</td>\n",
       "      <td>7491609</td>\n",
       "    </tr>\n",
       "    <tr>\n",
       "      <th>4</th>\n",
       "      <td>5</td>\n",
       "      <td>China</td>\n",
       "      <td>104</td>\n",
       "      <td>Asia</td>\n",
       "      <td>0</td>\n",
       "      <td>8</td>\n",
       "      <td>0</td>\n",
       "      <td>7</td>\n",
       "      <td>17504</td>\n",
       "      <td>1425671352</td>\n",
       "    </tr>\n",
       "  </tbody>\n",
       "</table>\n",
       "</div>"
      ],
      "text/plain": [
       "   Rank    Country  Average IQ Continent  Literacy Rate  Nobel Prices  \\\n",
       "0     1      Japan         106      Asia              0            29   \n",
       "1     2     Taiwan         106      Asia              0             4   \n",
       "2     3  Singapore         105      Asia              0             0   \n",
       "3     4  Hong Kong         105      Asia              0             1   \n",
       "4     5      China         104      Asia              0             8   \n",
       "\n",
       "   HDI (2021)  Mean years of schooling - 2021   GNI - 2021 Population - 2023  \n",
       "0           0                              13        42274         123294513  \n",
       "1           0                               0            0          10143543  \n",
       "2           0                              11        90919           6014723  \n",
       "3           0                              12        62607           7491609  \n",
       "4           0                               7        17504        1425671352  "
      ]
     },
     "execution_count": 131,
     "metadata": {},
     "output_type": "execute_result"
    }
   ],
   "source": [
    "df.head()"
   ]
  },
  {
   "cell_type": "code",
   "execution_count": 132,
   "id": "59a644c0-82a4-404c-9f9a-3e0616747f0c",
   "metadata": {},
   "outputs": [
    {
     "data": {
      "text/plain": [
       "Series([], Name: Mean years of schooling - 2021, dtype: int32)"
      ]
     },
     "execution_count": 132,
     "metadata": {},
     "output_type": "execute_result"
    }
   ],
   "source": [
    "df11[\"Mean years of schooling - 2021\"][(df11.z_score < -3) | (df11.z_score > 3)]"
   ]
  },
  {
   "cell_type": "code",
   "execution_count": 133,
   "id": "45f18d0d-54b7-432b-a278-bdd7531bfc0f",
   "metadata": {},
   "outputs": [
    {
     "data": {
      "text/plain": [
       "array([13,  0, 11, 12,  7, 14,  5, 10,  9,  6,  8,  3,  4,  2])"
      ]
     },
     "execution_count": 133,
     "metadata": {},
     "output_type": "execute_result"
    }
   ],
   "source": [
    "outliers = df11[(df11.z_score >= -3) & (df11.z_score<= 3)]\n",
    "df11[\"Mean years of schooling - 2021\"].unique()"
   ]
  },
  {
   "cell_type": "code",
   "execution_count": 134,
   "id": "0826cd6c-93b9-4a82-9242-6ad34c5c4389",
   "metadata": {},
   "outputs": [],
   "source": [
    "df12 = df.copy()"
   ]
  },
  {
   "cell_type": "code",
   "execution_count": 135,
   "id": "7ffcec35-5034-478d-bc85-61a43c9206e0",
   "metadata": {},
   "outputs": [
    {
     "data": {
      "text/plain": [
       "array([20])"
      ]
     },
     "execution_count": 135,
     "metadata": {},
     "output_type": "execute_result"
    }
   ],
   "source": [
    "df12[\"Mean years of schooling - 2021\"]= df[\"Mean years of schooling - 2021\"].clip(lower = 20,upper = 75)\n",
    "df12[\"Mean years of schooling - 2021\"].unique()"
   ]
  },
  {
   "cell_type": "code",
   "execution_count": 136,
   "id": "95266776-8bf9-4b49-9314-4500104e02ed",
   "metadata": {},
   "outputs": [
    {
     "data": {
      "text/plain": [
       "(193, 10)"
      ]
     },
     "execution_count": 136,
     "metadata": {},
     "output_type": "execute_result"
    }
   ],
   "source": [
    "df12.shape"
   ]
  }
 ],
 "metadata": {
  "kernelspec": {
   "display_name": "Python [conda env:base] *",
   "language": "python",
   "name": "conda-base-py"
  },
  "language_info": {
   "codemirror_mode": {
    "name": "ipython",
    "version": 3
   },
   "file_extension": ".py",
   "mimetype": "text/x-python",
   "name": "python",
   "nbconvert_exporter": "python",
   "pygments_lexer": "ipython3",
   "version": "3.12.7"
  }
 },
 "nbformat": 4,
 "nbformat_minor": 5
}
